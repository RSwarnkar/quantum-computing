{
 "cells": [
  {
   "cell_type": "markdown",
   "id": "da20cff7",
   "metadata": {},
   "source": [
    "## What are different kind of simulators in `qiskit.Aer`: \n",
    "\n",
    "A list of all possible simulators in Aer can be found using: \n",
    "\n",
    "https://qiskit.org/textbook/ch-appendix/qiskit.html#Aer-simulator\n"
   ]
  },
  {
   "cell_type": "code",
   "execution_count": 1,
   "id": "1acfb1a8",
   "metadata": {},
   "outputs": [],
   "source": [
    "from qiskit import Aer"
   ]
  },
  {
   "cell_type": "code",
   "execution_count": 5,
   "id": "68b9b13f",
   "metadata": {},
   "outputs": [
    {
     "name": "stdout",
     "output_type": "stream",
     "text": [
      "aer_simulator\n",
      "aer_simulator_statevector\n",
      "aer_simulator_density_matrix\n",
      "aer_simulator_stabilizer\n",
      "aer_simulator_matrix_product_state\n",
      "aer_simulator_extended_stabilizer\n",
      "aer_simulator_unitary\n",
      "aer_simulator_superop\n",
      "qasm_simulator\n",
      "statevector_simulator\n",
      "unitary_simulator\n",
      "pulse_simulator\n"
     ]
    }
   ],
   "source": [
    "for backend in Aer.backends():\n",
    "    print(backend)"
   ]
  },
  {
   "cell_type": "markdown",
   "id": "16f26a03",
   "metadata": {},
   "source": [
    "# TO DO: \n",
    "\n",
    "Further reading: \n",
    "\n",
    "https://qiskit.org/documentation/tutorials/simulators/1_aer_provider.html\n",
    "\n",
    "https://qiskit.org/documentation/stable/0.24/tutorials/simulators/1_aer_provider.html"
   ]
  },
  {
   "cell_type": "code",
   "execution_count": null,
   "id": "f0d1c60d",
   "metadata": {},
   "outputs": [],
   "source": []
  }
 ],
 "metadata": {
  "kernelspec": {
   "display_name": "qiskit_env",
   "language": "python",
   "name": "qiskit_env"
  },
  "language_info": {
   "codemirror_mode": {
    "name": "ipython",
    "version": 3
   },
   "file_extension": ".py",
   "mimetype": "text/x-python",
   "name": "python",
   "nbconvert_exporter": "python",
   "pygments_lexer": "ipython3",
   "version": "3.10.5"
  }
 },
 "nbformat": 4,
 "nbformat_minor": 5
}
