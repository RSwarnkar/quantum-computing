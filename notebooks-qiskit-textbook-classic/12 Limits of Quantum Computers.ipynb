{
 "cells": [
  {
   "cell_type": "markdown",
   "id": "a77cd0fa",
   "metadata": {},
   "source": [
    "# Limits of QC: Scott Aaronson\n",
    "\n",
    "Must read pdf. I have been browsing this pdf since 2012. I have never been able to make so much sense like in 2022, before. \n",
    "\n",
    "https://www.cs.virginia.edu/~robins/The_Limits_of_Quantum_Computers.pdf\n",
    "\n"
   ]
  },
  {
   "cell_type": "code",
   "execution_count": null,
   "id": "c2923cd7",
   "metadata": {},
   "outputs": [],
   "source": []
  }
 ],
 "metadata": {
  "kernelspec": {
   "display_name": "qiskit_env",
   "language": "python",
   "name": "qiskit_env"
  },
  "language_info": {
   "codemirror_mode": {
    "name": "ipython",
    "version": 3
   },
   "file_extension": ".py",
   "mimetype": "text/x-python",
   "name": "python",
   "nbconvert_exporter": "python",
   "pygments_lexer": "ipython3",
   "version": "3.10.5"
  }
 },
 "nbformat": 4,
 "nbformat_minor": 5
}
