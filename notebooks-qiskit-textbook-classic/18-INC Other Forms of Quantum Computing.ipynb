{
 "cells": [
  {
   "cell_type": "markdown",
   "id": "e22f7600",
   "metadata": {},
   "source": [
    "* circuit model of computation\n",
    "* adiabatic quantum computing\n",
    "* quantum annealing "
   ]
  }
 ],
 "metadata": {
  "kernelspec": {
   "display_name": "qiskit_env",
   "language": "python",
   "name": "qiskit_env"
  },
  "language_info": {
   "codemirror_mode": {
    "name": "ipython",
    "version": 3
   },
   "file_extension": ".py",
   "mimetype": "text/x-python",
   "name": "python",
   "nbconvert_exporter": "python",
   "pygments_lexer": "ipython3",
   "version": "3.10.5"
  }
 },
 "nbformat": 4,
 "nbformat_minor": 5
}
