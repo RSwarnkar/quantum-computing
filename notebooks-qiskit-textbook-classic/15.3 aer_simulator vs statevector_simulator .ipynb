{
 "cells": [
  {
   "attachments": {
    "image.png": {
     "image/png": "[encoded data removed]"
    }
   },
   "cell_type": "markdown",
   "id": "f484cb8f",
   "metadata": {},
   "source": [
    "#### Consider below circuit: \n",
    "\n",
    "![image.png](attachment:image.png)"
   ]
  },
  {
   "cell_type": "markdown",
   "id": "0eed58da",
   "metadata": {},
   "source": [
    "# aer_simulator():"
   ]
  },
  {
   "cell_type": "code",
   "execution_count": 5,
   "id": "43a64e19",
   "metadata": {},
   "outputs": [
    {
     "data": {
      "text/latex": [
       "$$\n",
       "\\text{circuit=}\n",
       "\\begin{bmatrix}\n",
       "\\tfrac{1}{\\sqrt{2}} & \\tfrac{1}{\\sqrt{2}} & 0 & 0  \\\\\n",
       " 0 & 0 & \\tfrac{1}{\\sqrt{2}} & -\\tfrac{1}{\\sqrt{2}}  \\\\\n",
       " 0 & 0 & \\tfrac{1}{\\sqrt{2}} & \\tfrac{1}{\\sqrt{2}}  \\\\\n",
       " \\tfrac{1}{\\sqrt{2}} & -\\tfrac{1}{\\sqrt{2}} & 0 & 0  \\\\\n",
       " \\end{bmatrix}\n",
       "$$"
      ],
      "text/plain": [
       "<IPython.core.display.Latex object>"
      ]
     },
     "execution_count": 5,
     "metadata": {},
     "output_type": "execute_result"
    }
   ],
   "source": [
    "from qiskit import QuantumCircuit, Aer, assemble\n",
    "from qiskit.visualization import array_to_latex\n",
    "\n",
    "qc = QuantumCircuit(2)\n",
    "qc.h(0)\n",
    "qc.cx(control_qubit=0,target_qubit=1)\n",
    "\n",
    "aer_sim = Aer.get_backend(\"aer_simulator\")\n",
    "qc.save_unitary()\n",
    "qc.draw(\"mpl\")\n",
    "\n",
    "out_unitary_gate = aer_sim.run(assemble(qc)).result().get_unitary()\n",
    "array_to_latex(out_unitary_gate, prefix=\"\\\\text{ circuit =}\")"
   ]
  },
  {
   "cell_type": "markdown",
   "id": "58b86206",
   "metadata": {},
   "source": [
    "# statevector_simulator(): \n",
    "⚠️ **THIS IS DEPRECATED AS PER [THIS](https://quantumcomputing.stackexchange.com/a/24074/20084)**"
   ]
  },
  {
   "cell_type": "code",
   "execution_count": 7,
   "id": "33de1c2a",
   "metadata": {},
   "outputs": [
    {
     "data": {
      "text/latex": [
       "$\\displaystyle \n",
       "\\text{Statevector = }\\begin{bmatrix}\n",
       "\\tfrac{1}{\\sqrt{2}} \\\\\n",
       "0 \\\\\n",
       "0 \\\\\n",
       "\\tfrac{1}{\\sqrt{2}}\n",
       "\\end{bmatrix}\n",
       "$"
      ],
      "text/plain": [
       "<IPython.core.display.Math object>"
      ]
     },
     "metadata": {},
     "output_type": "display_data"
    }
   ],
   "source": [
    "from qiskit import QuantumCircuit, execute, Aer\n",
    "from qiskit_textbook.tools import array_to_latex\n",
    "\n",
    "qc = QuantumCircuit(2)\n",
    "qc.h(0)\n",
    "qc.cx(control_qubit=0,target_qubit=1)\n",
    "\n",
    "sv_sim = Aer.get_backend(\"statevector_simulator\")\n",
    "#qc.save_unitary()\n",
    "\n",
    "qc.draw(\"mpl\")\n",
    "\n",
    "out = execute(qc,sv_sim).result().get_statevector()\n",
    "array_to_latex(out, pretext=\"\\\\text{Statevector = }\")"
   ]
  }
 ],
 "metadata": {
  "kernelspec": {
   "display_name": "qiskit_env",
   "language": "python",
   "name": "qiskit_env"
  },
  "language_info": {
   "codemirror_mode": {
    "name": "ipython",
    "version": 3
   },
   "file_extension": ".py",
   "mimetype": "text/x-python",
   "name": "python",
   "nbconvert_exporter": "python",
   "pygments_lexer": "ipython3",
   "version": "3.10.5"
  }
 },
 "nbformat": 4,
 "nbformat_minor": 5
}
