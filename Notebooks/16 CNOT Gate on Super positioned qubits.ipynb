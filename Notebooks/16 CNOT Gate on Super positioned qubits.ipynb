{
 "cells": [
  {
   "cell_type": "markdown",
   "id": "5a3a48f1",
   "metadata": {},
   "source": [
    "# CNOT Gate on 2 Qubits after H gate: \n",
    "\n",
    "We saw the CNOT Gate on [2 Qubits in their z-bases](15%20CNOT%20Gate%20on%20two%20qubits.ipynb). \n",
    "Now lets compute other CNOTs. \n",
    "\n",
    "$ U_{CNOT} \\ \\vert + - \\rangle  = c_3 \\vert -- \\rangle + c_2 \\vert -+ \\rangle + c_1 \\vert +- \\rangle + c_0 \\vert ++ \\rangle \\text{ where } c_k \\in \\mathbb{C^2} $\n",
    "\n",
    "#### How to compute: \n",
    "\n",
    "$ H \\vert 0 \\rangle = \\vert + \\rangle \\\\ \n",
    "H \\vert 1 \\rangle = \\vert - \\rangle$\n",
    "\n"
   ]
  },
  {
   "cell_type": "code",
   "execution_count": 2,
   "id": "f7960c0e",
   "metadata": {},
   "outputs": [],
   "source": [
    "from qiskit import QuantumCircuit, Aer, execute\n",
    "from qiskit.visualization import plot_bloch_multivector, plot_histogram \n",
    "from qiskit_textbook.tools import array_to_latex"
   ]
  },
  {
   "cell_type": "markdown",
   "id": "db2e4fbe",
   "metadata": {},
   "source": [
    "## Compute $U_{CNOT} \\ \\vert ++ \\rangle$ :"
   ]
  },
  {
   "cell_type": "code",
   "execution_count": 9,
   "id": "c0a9dd4b",
   "metadata": {},
   "outputs": [
    {
     "data": {
      "image/png": "[encoded data removed]",
      "text/plain": [
       "<Figure size 146.652x144.48 with 1 Axes>"
      ]
     },
     "execution_count": 9,
     "metadata": {},
     "output_type": "execute_result"
    }
   ],
   "source": [
    "num_qb = 2\n",
    "qc = QuantumCircuit(num_qb)\n",
    "\n",
    "## Hadamard gate transferoms zero ket into plus ket and one ket into minus ket\n",
    "qc.h(0)\n",
    "qc.h(1)\n",
    "qc.draw(\"mpl\")"
   ]
  },
  {
   "cell_type": "code",
   "execution_count": 13,
   "id": "005330ef",
   "metadata": {},
   "outputs": [
    {
     "data": {
      "text/latex": [
       "$\\displaystyle \n",
       "\\text{U = }\\begin{bmatrix}\n",
       "\\tfrac{1}{2} & \\tfrac{1}{2} & \\tfrac{1}{2} & \\tfrac{1}{2}  \\\\\n",
       "\\tfrac{1}{2} & -\\tfrac{1}{2} & \\tfrac{1}{2} & -\\tfrac{1}{2}  \\\\\n",
       "\\tfrac{1}{2} & \\tfrac{1}{2} & -\\tfrac{1}{2} & -\\tfrac{1}{2}  \\\\\n",
       "\\tfrac{1}{2} & -\\tfrac{1}{2} & -\\tfrac{1}{2} & \\tfrac{1}{2}  \\\\\n",
       "\\end{bmatrix}\n",
       "$$\n",
       "$"
      ],
      "text/plain": [
       "<IPython.core.display.Math object>"
      ]
     },
     "metadata": {},
     "output_type": "display_data"
    },
    {
     "data": {
      "text/latex": [
       "$\\displaystyle \n",
       "\\text{U|++> = }\\begin{bmatrix}\n",
       "\\tfrac{1}{2} \\\\\n",
       "\\tfrac{1}{2} \\\\\n",
       "\\tfrac{1}{2} \\\\\n",
       "\\tfrac{1}{2}\n",
       "\\end{bmatrix}\n",
       "$"
      ],
      "text/plain": [
       "<IPython.core.display.Math object>"
      ]
     },
     "metadata": {},
     "output_type": "display_data"
    }
   ],
   "source": [
    "backend1 = Aer.get_backend(\"unitary_simulator\")\n",
    "backend2 = Aer.get_backend(\"statevector_simulator\")\n",
    "\n",
    "out1 = execute(qc,backend1).result().get_unitary()\n",
    "out2 = execute(qc,backend2).result().get_statevector()\n",
    "\n",
    "array_to_latex(out1, pretext=\"\\\\text{U = }\")\n",
    "array_to_latex(out2, pretext=\"\\\\text{U|++> = }\")"
   ]
  },
  {
   "cell_type": "markdown",
   "id": "a8259b34",
   "metadata": {},
   "source": [
    "## Compute $U_{CNOT} \\ \\vert +- \\rangle$ :"
   ]
  },
  {
   "cell_type": "code",
   "execution_count": 14,
   "id": "09d36318",
   "metadata": {},
   "outputs": [
    {
     "data": {
      "image/png": "[encoded data removed]",
      "text/plain": [
       "<Figure size 206.852x144.48 with 1 Axes>"
      ]
     },
     "execution_count": 14,
     "metadata": {},
     "output_type": "execute_result"
    }
   ],
   "source": [
    "num_qb = 2\n",
    "qc = QuantumCircuit(num_qb)\n",
    "\n",
    "## Hadamard gate transferoms zero ket into plus ket and one ket into minus ket\n",
    "qc.h(0)\n",
    "qc.x(1)\n",
    "qc.h(1)\n",
    "qc.draw(\"mpl\")"
   ]
  },
  {
   "cell_type": "code",
   "execution_count": 15,
   "id": "3fd93015",
   "metadata": {},
   "outputs": [
    {
     "data": {
      "text/latex": [
       "$\\displaystyle \n",
       "\\text{U = }\\begin{bmatrix}\n",
       "\\tfrac{1}{2} & \\tfrac{1}{2} & \\tfrac{1}{2} & \\tfrac{1}{2}  \\\\\n",
       "\\tfrac{1}{2} & -\\tfrac{1}{2} & \\tfrac{1}{2} & -\\tfrac{1}{2}  \\\\\n",
       "-\\tfrac{1}{2} & -\\tfrac{1}{2} & \\tfrac{1}{2} & \\tfrac{1}{2}  \\\\\n",
       "-\\tfrac{1}{2} & \\tfrac{1}{2} & \\tfrac{1}{2} & -\\tfrac{1}{2}  \\\\\n",
       "\\end{bmatrix}\n",
       "$$\n",
       "$"
      ],
      "text/plain": [
       "<IPython.core.display.Math object>"
      ]
     },
     "metadata": {},
     "output_type": "display_data"
    },
    {
     "data": {
      "text/latex": [
       "$\\displaystyle \n",
       "\\text{U|+-> = }\\begin{bmatrix}\n",
       "\\tfrac{1}{2} \\\\\n",
       "\\tfrac{1}{2} \\\\\n",
       "-\\tfrac{1}{2} \\\\\n",
       "-\\tfrac{1}{2}\n",
       "\\end{bmatrix}\n",
       "$"
      ],
      "text/plain": [
       "<IPython.core.display.Math object>"
      ]
     },
     "metadata": {},
     "output_type": "display_data"
    }
   ],
   "source": [
    "backend1 = Aer.get_backend(\"unitary_simulator\")\n",
    "backend2 = Aer.get_backend(\"statevector_simulator\")\n",
    "\n",
    "out1 = execute(qc,backend1).result().get_unitary()\n",
    "out2 = execute(qc,backend2).result().get_statevector()\n",
    "\n",
    "array_to_latex(out1, pretext=\"\\\\text{U = }\")\n",
    "array_to_latex(out2, pretext=\"\\\\text{U|+-> = }\")"
   ]
  },
  {
   "cell_type": "markdown",
   "id": "a79a5535",
   "metadata": {},
   "source": [
    "## Compute $U_{CNOT} \\ \\vert -+ \\rangle$ :"
   ]
  },
  {
   "cell_type": "code",
   "execution_count": 16,
   "id": "3f776533",
   "metadata": {},
   "outputs": [
    {
     "data": {
      "image/png": "[encoded data removed]",
      "text/plain": [
       "<Figure size 206.852x144.48 with 1 Axes>"
      ]
     },
     "execution_count": 16,
     "metadata": {},
     "output_type": "execute_result"
    }
   ],
   "source": [
    "num_qb = 2\n",
    "qc = QuantumCircuit(num_qb)\n",
    "\n",
    "## Hadamard gate transferoms zero ket into plus ket and one ket into minus ket\n",
    "qc.x(0)\n",
    "qc.h(0)\n",
    "qc.h(1)\n",
    "qc.draw(\"mpl\")"
   ]
  },
  {
   "cell_type": "code",
   "execution_count": 17,
   "id": "76345de6",
   "metadata": {},
   "outputs": [
    {
     "data": {
      "text/latex": [
       "$\\displaystyle \n",
       "\\text{U = }\\begin{bmatrix}\n",
       "\\tfrac{1}{2} & \\tfrac{1}{2} & \\tfrac{1}{2} & \\tfrac{1}{2}  \\\\\n",
       "-\\tfrac{1}{2} & \\tfrac{1}{2} & -\\tfrac{1}{2} & \\tfrac{1}{2}  \\\\\n",
       "\\tfrac{1}{2} & \\tfrac{1}{2} & -\\tfrac{1}{2} & -\\tfrac{1}{2}  \\\\\n",
       "-\\tfrac{1}{2} & \\tfrac{1}{2} & \\tfrac{1}{2} & -\\tfrac{1}{2}  \\\\\n",
       "\\end{bmatrix}\n",
       "$$\n",
       "$"
      ],
      "text/plain": [
       "<IPython.core.display.Math object>"
      ]
     },
     "metadata": {},
     "output_type": "display_data"
    },
    {
     "data": {
      "text/latex": [
       "$\\displaystyle \n",
       "\\text{U|+-> = }\\begin{bmatrix}\n",
       "\\tfrac{1}{2} \\\\\n",
       "-\\tfrac{1}{2} \\\\\n",
       "\\tfrac{1}{2} \\\\\n",
       "-\\tfrac{1}{2}\n",
       "\\end{bmatrix}\n",
       "$"
      ],
      "text/plain": [
       "<IPython.core.display.Math object>"
      ]
     },
     "metadata": {},
     "output_type": "display_data"
    }
   ],
   "source": [
    "backend1 = Aer.get_backend(\"unitary_simulator\")\n",
    "backend2 = Aer.get_backend(\"statevector_simulator\")\n",
    "\n",
    "out1 = execute(qc,backend1).result().get_unitary()\n",
    "out2 = execute(qc,backend2).result().get_statevector()\n",
    "\n",
    "array_to_latex(out1, pretext=\"\\\\text{U = }\")\n",
    "array_to_latex(out2, pretext=\"\\\\text{U|+-> = }\")"
   ]
  },
  {
   "cell_type": "markdown",
   "id": "db692b4d",
   "metadata": {},
   "source": [
    "## Compute $U_{CNOT} \\ \\vert -- \\rangle$ :"
   ]
  },
  {
   "cell_type": "code",
   "execution_count": 18,
   "id": "ad7a36eb",
   "metadata": {},
   "outputs": [
    {
     "data": {
      "image/png": "[encoded data removed]",
      "text/plain": [
       "<Figure size 206.852x144.48 with 1 Axes>"
      ]
     },
     "execution_count": 18,
     "metadata": {},
     "output_type": "execute_result"
    }
   ],
   "source": [
    "num_qb = 2\n",
    "qc = QuantumCircuit(num_qb)\n",
    "\n",
    "## Hadamard gate transferoms zero ket into plus ket and one ket into minus ket\n",
    "qc.x(0)\n",
    "qc.h(0)\n",
    "qc.x(1)\n",
    "qc.h(1)\n",
    "qc.draw(\"mpl\")"
   ]
  },
  {
   "cell_type": "code",
   "execution_count": 19,
   "id": "68294d31",
   "metadata": {},
   "outputs": [
    {
     "data": {
      "text/latex": [
       "$\\displaystyle \n",
       "\\text{U = }\\begin{bmatrix}\n",
       "\\tfrac{1}{2} & \\tfrac{1}{2} & \\tfrac{1}{2} & \\tfrac{1}{2}  \\\\\n",
       "-\\tfrac{1}{2} & \\tfrac{1}{2} & -\\tfrac{1}{2} & \\tfrac{1}{2}  \\\\\n",
       "-\\tfrac{1}{2} & -\\tfrac{1}{2} & \\tfrac{1}{2} & \\tfrac{1}{2}  \\\\\n",
       "\\tfrac{1}{2} & -\\tfrac{1}{2} & -\\tfrac{1}{2} & \\tfrac{1}{2}  \\\\\n",
       "\\end{bmatrix}\n",
       "$$\n",
       "$"
      ],
      "text/plain": [
       "<IPython.core.display.Math object>"
      ]
     },
     "metadata": {},
     "output_type": "display_data"
    },
    {
     "data": {
      "text/latex": [
       "$\\displaystyle \n",
       "\\text{U|+-> = }\\begin{bmatrix}\n",
       "\\tfrac{1}{2} \\\\\n",
       "-\\tfrac{1}{2} \\\\\n",
       "-\\tfrac{1}{2} \\\\\n",
       "\\tfrac{1}{2}\n",
       "\\end{bmatrix}\n",
       "$"
      ],
      "text/plain": [
       "<IPython.core.display.Math object>"
      ]
     },
     "metadata": {},
     "output_type": "display_data"
    }
   ],
   "source": [
    "backend1 = Aer.get_backend(\"unitary_simulator\")\n",
    "backend2 = Aer.get_backend(\"statevector_simulator\")\n",
    "\n",
    "out1 = execute(qc,backend1).result().get_unitary()\n",
    "out2 = execute(qc,backend2).result().get_statevector()\n",
    "\n",
    "array_to_latex(out1, pretext=\"\\\\text{U = }\")\n",
    "array_to_latex(out2, pretext=\"\\\\text{U|+-> = }\")"
   ]
  },
  {
   "cell_type": "code",
   "execution_count": null,
   "id": "22a615c2",
   "metadata": {},
   "outputs": [],
   "source": []
  }
 ],
 "metadata": {
  "kernelspec": {
   "display_name": "python3-qiskit",
   "language": "python",
   "name": "python3-qiskit"
  },
  "language_info": {
   "codemirror_mode": {
    "name": "ipython",
    "version": 3
   },
   "file_extension": ".py",
   "mimetype": "text/x-python",
   "name": "python",
   "nbconvert_exporter": "python",
   "pygments_lexer": "ipython3",
   "version": "3.10.0"
  }
 },
 "nbformat": 4,
 "nbformat_minor": 5
}
