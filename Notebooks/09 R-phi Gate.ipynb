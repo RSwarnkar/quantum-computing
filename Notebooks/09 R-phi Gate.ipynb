{
 "cells": [
  {
   "cell_type": "markdown",
   "id": "e6baaed2",
   "metadata": {},
   "source": [
    "## $R_{Z(\\phi)}$ Gate\n",
    "* Definition: Rotate the ket vector by angle $\\phi$ along the $z-axis$. \n",
    "\n"
   ]
  },
  {
   "cell_type": "markdown",
   "id": "a076ca3a",
   "metadata": {},
   "source": [
    "Note: \n",
    "\n",
    "* I (Identity gate) is also $R_{\\phi}$ gate: $ I \\Longrightarrow R_{Z(\\phi)} where \\  \\phi = 0$\n",
    "* Z (Phase gate) is also $R_{\\phi}$ gate: $ Z \\Longrightarrow R_{Z(\\phi)} where \\  \\phi = \\pi \\ (180^{\\circ})$\n",
    "* S gate is also $R_{\\phi}$ gate: $ S \\Longrightarrow R_{Z(\\phi)} where \\  \\phi = \\frac{\\pi}{2} \\ (90^{\\circ})$\n",
    "* T gate is also $R_{\\phi}$ gate: $ T \\Longrightarrow R_{Z(\\phi)} where \\  \\phi = \\frac{\\pi}{4} \\ (45^{\\circ})$\n"
   ]
  },
  {
   "cell_type": "markdown",
   "id": "1fe8be59",
   "metadata": {},
   "source": [
    "Check out this cool Latex website links: \n",
    "* [Link 1](https://legacy-www.math.harvard.edu/texman/node17.html)\n",
    "* [Link 2](https://legacy-www.math.harvard.edu/texman/node21.html#SECTION00084000000000000000)\n"
   ]
  },
  {
   "cell_type": "code",
   "execution_count": 2,
   "id": "4172eeb0",
   "metadata": {},
   "outputs": [],
   "source": [
    "from qiskit import QuantumCircuit, execute, Aer\n",
    "from qiskit.visualization import plot_bloch_multivector, plot_histogram, visualize_transition \n"
   ]
  },
  {
   "cell_type": "code",
   "execution_count": null,
   "id": "48b435c9",
   "metadata": {},
   "outputs": [],
   "source": [
    "num_qb = 1\n",
    "qc = QuantumCircuit(num_qb)\n"
   ]
  }
 ],
 "metadata": {
  "kernelspec": {
   "display_name": "qiskit_env",
   "language": "python",
   "name": "qiskit_env"
  },
  "language_info": {
   "codemirror_mode": {
    "name": "ipython",
    "version": 3
   },
   "file_extension": ".py",
   "mimetype": "text/x-python",
   "name": "python",
   "nbconvert_exporter": "python",
   "pygments_lexer": "ipython3",
   "version": "3.10.5"
  }
 },
 "nbformat": 4,
 "nbformat_minor": 5
}
