{
 "cells": [
  {
   "cell_type": "markdown",
   "id": "5a3a48f1",
   "metadata": {},
   "source": [
    "# CNOT Gate on 2 Qubits after H gate: \n",
    "\n",
    "We saw the CNOT Gate on [2 Qubits in their z-bases](15%20CNOT%20Gate%20on%20two%20qubits.ipynb). \n",
    "Now lets compute other CNOTs. \n",
    "\n",
    "$ U_{CNOT} \\ \\vert + - \\rangle  = c_3 \\vert -- \\rangle + c_2 \\vert -+ \\rangle + c_1 \\vert +- \\rangle + c_0 \\vert ++ \\rangle \\text{ where } c_k \\in \\mathbb{C^2} $\n",
    "\n"
   ]
  },
  {
   "cell_type": "code",
   "execution_count": 1,
   "id": "f7960c0e",
   "metadata": {},
   "outputs": [],
   "source": [
    "from qiskit import QuantumCircuit, Aer, execute\n",
    "from qiskit.visualization import plot_bloch_multivector, plot_histogram \n",
    "from qiskit_textbook.tools import array_to_latex"
   ]
  },
  {
   "cell_type": "markdown",
   "id": "db2e4fbe",
   "metadata": {},
   "source": [
    "## Compute $U_{CNOT} \\ \\vert ++ \\rangle$ :"
   ]
  },
  {
   "cell_type": "code",
   "execution_count": null,
   "id": "c0a9dd4b",
   "metadata": {},
   "outputs": [],
   "source": []
  },
  {
   "cell_type": "markdown",
   "id": "a8259b34",
   "metadata": {},
   "source": [
    "## Compute $U_{CNOT} \\ \\vert +- \\rangle$ :"
   ]
  },
  {
   "cell_type": "code",
   "execution_count": null,
   "id": "09d36318",
   "metadata": {},
   "outputs": [],
   "source": []
  },
  {
   "cell_type": "markdown",
   "id": "a79a5535",
   "metadata": {},
   "source": [
    "## Compute $U_{CNOT} \\ \\vert -+ \\rangle$ :"
   ]
  },
  {
   "cell_type": "code",
   "execution_count": null,
   "id": "3f776533",
   "metadata": {},
   "outputs": [],
   "source": []
  },
  {
   "cell_type": "markdown",
   "id": "db692b4d",
   "metadata": {},
   "source": [
    "## Compute $U_{CNOT} \\ \\vert -- \\rangle$ :"
   ]
  },
  {
   "cell_type": "code",
   "execution_count": null,
   "id": "ad7a36eb",
   "metadata": {},
   "outputs": [],
   "source": []
  }
 ],
 "metadata": {
  "kernelspec": {
   "display_name": "python3-qiskit",
   "language": "python",
   "name": "python3-qiskit"
  },
  "language_info": {
   "codemirror_mode": {
    "name": "ipython",
    "version": 3
   },
   "file_extension": ".py",
   "mimetype": "text/x-python",
   "name": "python",
   "nbconvert_exporter": "python",
   "pygments_lexer": "ipython3",
   "version": "3.10.0"
  }
 },
 "nbformat": 4,
 "nbformat_minor": 5
}
