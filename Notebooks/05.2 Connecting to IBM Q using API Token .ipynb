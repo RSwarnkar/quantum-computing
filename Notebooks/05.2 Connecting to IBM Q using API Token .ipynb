{
 "cells": [
  {
   "cell_type": "code",
   "execution_count": null,
   "id": "26233fe4",
   "metadata": {},
   "outputs": [],
   "source": [
    "# https://subscription.packtpub.com/book/programming/9781838828448/1/ch01lvl1sec06/installing-your-api-key-and-accessing-your-provider\n",
    "\n",
    "from qiskit import IBMQ\n",
    "IBMQ.save_account('MY_API_TOKEN')\n",
    "IBMQ.load_account()\n",
    "provider = IBMQ.get_provider()\n",
    "    "
   ]
  }
 ],
 "metadata": {
  "kernelspec": {
   "display_name": "python3-qiskit",
   "language": "python",
   "name": "python3-qiskit"
  },
  "language_info": {
   "codemirror_mode": {
    "name": "ipython",
    "version": 3
   },
   "file_extension": ".py",
   "mimetype": "text/x-python",
   "name": "python",
   "nbconvert_exporter": "python",
   "pygments_lexer": "ipython3",
   "version": "3.10.0"
  }
 },
 "nbformat": 4,
 "nbformat_minor": 5
}
