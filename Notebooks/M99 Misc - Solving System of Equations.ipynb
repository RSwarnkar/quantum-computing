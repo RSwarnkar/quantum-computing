{
 "cells": [
  {
   "cell_type": "markdown",
   "id": "9bd7a994",
   "metadata": {},
   "source": [
    "## System of equations: \n",
    "\n",
    "Consider 4 linear equations in 4 variables: \n",
    "\n",
    "$$\n",
    "a_1 x + a_2 y + a_3 z + a_4 w = p \\\\\n",
    "b_1 x + b_2 y + b_3 z + b_4 w = q \\\\\n",
    "c_1 x + c_2 y + c_3 z + c_4 w = r \\\\\n",
    "d_1 x + d_2 y + d_3 z + d_4 w = s \\\\\n",
    "$$\n",
    "\n",
    "Here, $$p,q,r,s,a_i, b_i, c_i, d_i$$  \n",
    "\n",
    "are arbitrary constants such that all equations are linearly independent. "
   ]
  },
  {
   "cell_type": "markdown",
   "id": "436c5e3e",
   "metadata": {},
   "source": [
    "## Representing: \n",
    "\n",
    "In the form of Matrices: \n",
    "\n",
    "\\begin{equation} \n",
    "\\begin{bmatrix}  \n",
    "a_1 & a_2 & a_3 & a_4 \\\\  \n",
    "b_1 & b_2 & b_3 & b_4 \\\\  \n",
    "c_1 & c_2 & c_3 & c_4 \\\\  \n",
    "d_1 & d_2 & d_3 & d_4 \\\\  \n",
    "\\end{bmatrix}  \n",
    "\\begin{bmatrix}  \n",
    "x \\\\  \n",
    "y \\\\  \n",
    "z \\\\  \n",
    "w \\\\  \n",
    "\\end{bmatrix}  \n",
    "=\n",
    "\\begin{bmatrix}  \n",
    "p \\\\\n",
    "q \\\\\n",
    "r  \\\\\n",
    "s \\\\ \n",
    "\\end{bmatrix}  \n",
    "\\end{equation}\n",
    "\n",
    "# Solution: \n",
    "\n",
    "Given: $ A \\cdot x = b $ we can attempt to find another matrix $A^{-1}$ such that $ A^{-1} \\cdot A = I $ Therefore $A^{-1}$ is called the inverse of A. Inverse exist if $|A| \\neq 0$ .\n",
    "\n",
    "Hence, solution is : \n",
    "\n",
    "\n",
    "$ x = \\frac{1}{|A|}  \\cdot A \\cdot b $ provided $|A| \\neq 0$.\n",
    "\n",
    "\n",
    "# Resources:\n",
    "* [Khan Academy](https://www.youtube.com/watch?v=AUqeb9Z3y3k)\n",
    "* [Byjus](https://byjus.com/jee/solving-linear-equations-using-matrix/)"
   ]
  },
  {
   "cell_type": "code",
   "execution_count": null,
   "id": "7c80a911",
   "metadata": {},
   "outputs": [],
   "source": []
  }
 ],
 "metadata": {
  "kernelspec": {
   "display_name": "qiskit_env",
   "language": "python",
   "name": "qiskit_env"
  },
  "language_info": {
   "codemirror_mode": {
    "name": "ipython",
    "version": 3
   },
   "file_extension": ".py",
   "mimetype": "text/x-python",
   "name": "python",
   "nbconvert_exporter": "python",
   "pygments_lexer": "ipython3",
   "version": "3.10.5"
  }
 },
 "nbformat": 4,
 "nbformat_minor": 5
}
