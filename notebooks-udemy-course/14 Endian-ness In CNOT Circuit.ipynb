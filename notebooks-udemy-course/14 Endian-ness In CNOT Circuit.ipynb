{
 "cells": [
  {
   "cell_type": "markdown",
   "id": "d875a839",
   "metadata": {},
   "source": [
    "Refering to [this question](https://stackoverflow.com/questions/65833565/can-i-change-the-byte-ordering-from-little-endian-to-big-endian-in-qiskit) on SO: \n",
    "\n",
    "The regular Matrix representation of a CNOT gate as found in literature is:\n",
    "\n",
    "$$\\begin{bmatrix}\n",
    "      1 & 0 &  0 & 0\\\\\n",
    "      0 & 1 &  0 & 0\\\\\n",
    "      0 & 0 &  0 & 1\\\\\n",
    "      0 & 0 &  1 & 0     \n",
    "\\end{bmatrix}$$\n",
    "\n",
    "However in Qiskit, the matrix is represented as CNOT =\n",
    "\n",
    "$$\\begin{bmatrix}\n",
    "      1  & 0 &  0 &  0\\\\\n",
    "      0  & 0 &  0 &  1\\\\\n",
    "      0  & 0 &  1 &  0\\\\\n",
    "      0  & 1 &  0 &  0\n",
    "\\end{bmatrix}$$\n",
    "\n",
    "Is this something related to the Big-endian/Little-endian issue? Is there a way to represent my matrix the same way it is recovered in literature?\n"
   ]
  },
  {
   "cell_type": "code",
   "execution_count": 1,
   "id": "2d6a94d2",
   "metadata": {},
   "outputs": [
    {
     "name": "stdout",
     "output_type": "stream",
     "text": [
      "Little endian:\n",
      "Operator([[1.+0.j, 0.+0.j, 0.+0.j, 0.+0.j],\n",
      "          [0.+0.j, 0.+0.j, 0.+0.j, 1.+0.j],\n",
      "          [0.+0.j, 0.+0.j, 1.+0.j, 0.+0.j],\n",
      "          [0.+0.j, 1.+0.j, 0.+0.j, 0.+0.j]],\n",
      "         input_dims=(2, 2), output_dims=(2, 2))\n",
      "Big endian:\n",
      "Operator([[1.+0.j, 0.+0.j, 0.+0.j, 0.+0.j],\n",
      "          [0.+0.j, 1.+0.j, 0.+0.j, 0.+0.j],\n",
      "          [0.+0.j, 0.+0.j, 0.+0.j, 1.+0.j],\n",
      "          [0.+0.j, 0.+0.j, 1.+0.j, 0.+0.j]],\n",
      "         input_dims=(2, 2), output_dims=(2, 2))\n"
     ]
    }
   ],
   "source": [
    "from qiskit import QuantumCircuit\n",
    "from qiskit.quantum_info import Operator\n",
    "\n",
    "circuit = QuantumCircuit(2)\n",
    "circuit.cx(0, 1)\n",
    "\n",
    "print('Little endian:')\n",
    "print(Operator(circuit))\n",
    "\n",
    "print('Big endian:')\n",
    "print(Operator(circuit.reverse_bits()))"
   ]
  },
  {
   "cell_type": "code",
   "execution_count": 6,
   "id": "1f422dc7",
   "metadata": {},
   "outputs": [
    {
     "data": {
      "text/latex": [
       "$\\displaystyle \n",
       "\\text{U_(little endian) = }\\begin{bmatrix}\n",
       "1 & 0 & 0 & 0  \\\\\n",
       "0 & 0 & 0 & 1  \\\\\n",
       "0 & 0 & 1 & 0  \\\\\n",
       "0 & 1 & 0 & 0  \\\\\n",
       "\\end{bmatrix}\n",
       "$$\n",
       "$"
      ],
      "text/plain": [
       "<IPython.core.display.Math object>"
      ]
     },
     "metadata": {},
     "output_type": "display_data"
    },
    {
     "data": {
      "text/latex": [
       "$\\displaystyle \n",
       "\\text{U_(big endian) = }\\begin{bmatrix}\n",
       "1 & 0 & 0 & 0  \\\\\n",
       "0 & 1 & 0 & 0  \\\\\n",
       "0 & 0 & 0 & 1  \\\\\n",
       "0 & 0 & 1 & 0  \\\\\n",
       "\\end{bmatrix}\n",
       "$$\n",
       "$"
      ],
      "text/plain": [
       "<IPython.core.display.Math object>"
      ]
     },
     "metadata": {},
     "output_type": "display_data"
    }
   ],
   "source": [
    "from qiskit_textbook.tools import array_to_latex\n",
    "from qiskit import QuantumCircuit, execute, Aer\n",
    "\n",
    "backend = Aer.get_backend(\"unitary_simulator\")\n",
    "out1 = execute(circuit,backend).result().get_unitary()\n",
    "out2 = execute(circuit.reverse_bits(),backend).result().get_unitary()\n",
    "\n",
    "from qiskit_textbook.tools import array_to_latex\n",
    "array_to_latex(out1, pretext=\"\\\\text{U_(little endian) = }\")\n",
    "array_to_latex(out2, pretext=\"\\\\text{U_(big endian) = }\")\n",
    " "
   ]
  },
  {
   "attachments": {
    "image.png": {
     "image/png": "[encoded data removed]"
    }
   },
   "cell_type": "markdown",
   "id": "0a21366e",
   "metadata": {},
   "source": [
    "Thus literature uses big endian. qiskit uses little endian. \n",
    "\n",
    "![image.png](attachment:image.png)"
   ]
  },
  {
   "cell_type": "code",
   "execution_count": null,
   "id": "676f4637",
   "metadata": {},
   "outputs": [],
   "source": []
  }
 ],
 "metadata": {
  "kernelspec": {
   "display_name": "python3-qiskit",
   "language": "python",
   "name": "python3-qiskit"
  },
  "language_info": {
   "codemirror_mode": {
    "name": "ipython",
    "version": 3
   },
   "file_extension": ".py",
   "mimetype": "text/x-python",
   "name": "python",
   "nbconvert_exporter": "python",
   "pygments_lexer": "ipython3",
   "version": "3.10.0"
  }
 },
 "nbformat": 4,
 "nbformat_minor": 5
}
