{
 "cells": [
  {
   "cell_type": "markdown",
   "id": "b1d49580",
   "metadata": {},
   "source": [
    "## UGate() "
   ]
  },
  {
   "cell_type": "code",
   "execution_count": 23,
   "id": "3248e897",
   "metadata": {},
   "outputs": [],
   "source": [
    "from qiskit_textbook.tools import array_to_latex\n",
    "from qiskit import QuantumCircuit, execute, Aer\n",
    "from qiskit.visualization import plot_bloch_multivector, plot_histogram, visualize_transition \n"
   ]
  },
  {
   "cell_type": "code",
   "execution_count": 24,
   "id": "d21f65da",
   "metadata": {},
   "outputs": [
    {
     "data": {
      "text/latex": [
       "$\\displaystyle \n",
       "\\text{U = }\\begin{bmatrix}\n",
       "1 & 0  \\\\\n",
       "0 & -1  \\\\\n",
       "\\end{bmatrix}\n",
       "$$\n",
       "$"
      ],
      "text/plain": [
       "<IPython.core.display.Math object>"
      ]
     },
     "metadata": {},
     "output_type": "display_data"
    }
   ],
   "source": [
    "qc = QuantumCircuit(1)\n",
    "\n",
    "\n",
    "# Define Euler Angles\n",
    "# https://en.wikipedia.org/wiki/Euler_angles\n",
    "\n",
    "theta =  0        # rotate by angle wrt. x-axis     \n",
    "phi   =  0        # rotate by angle wrt. y-axis\n",
    "lmbda =  math.pi  # rotate by angle wrt. z-axiz\n",
    "\n",
    "qc.u(theta,phi,lmbda,0) \n",
    "\n",
    "backend1 = Aer.get_backend(\"statevector_simulator\")\n",
    "out1 = execute(qc,backend1).result().get_statevector()\n",
    "\n",
    "#plot_histogram(execute(qc,backend1).result().get_counts())\n",
    "\n",
    "backend2 = Aer.get_backend(\"unitary_simulator\")\n",
    "out2 = execute(qc,backend2).result().get_unitary()\n",
    "\n",
    "from qiskit_textbook.tools import array_to_latex\n",
    "array_to_latex(out2, pretext=\"\\\\text{U = }\")\n"
   ]
  },
  {
   "cell_type": "markdown",
   "id": "969abbc3",
   "metadata": {},
   "source": [
    "\n",
    "Here is the outcome: \n",
    "\n",
    "when $(\\theta,\\phi,\\lambda) = (0,0,0)$ then outcome $U = I = \\begin{bmatrix}1 & 0 \\\\ 0 & 1 \\\\ \\end{bmatrix}$\n",
    "\n",
    "when $(\\theta,\\phi,\\lambda) = (\\pi,0,0)$ then outcome $U = \\begin{bmatrix} 0 & -1 \\\\ 1 & 0 \\\\ \\end{bmatrix}$\n",
    "\n",
    "when $(\\theta,\\phi,\\lambda) = (0,\\pi,0)$ then outcome $U = \\begin{bmatrix} 1 & 0 \\\\ 0 & -1 \\\\ \\end{bmatrix}$\n",
    "\n",
    "when $(\\theta,\\phi,\\lambda) = (0,0,\\pi)$ then outcome $U = \\begin{bmatrix} 1 & 0 \\\\ 0 & -1 \\\\ \\end{bmatrix}$\n",
    "\n",
    "\n"
   ]
  },
  {
   "cell_type": "code",
   "execution_count": null,
   "id": "7d0a2c45",
   "metadata": {},
   "outputs": [],
   "source": []
  }
 ],
 "metadata": {
  "kernelspec": {
   "display_name": "python3-qiskit",
   "language": "python",
   "name": "python3-qiskit"
  },
  "language_info": {
   "codemirror_mode": {
    "name": "ipython",
    "version": 3
   },
   "file_extension": ".py",
   "mimetype": "text/x-python",
   "name": "python",
   "nbconvert_exporter": "python",
   "pygments_lexer": "ipython3",
   "version": "3.10.0"
  }
 },
 "nbformat": 4,
 "nbformat_minor": 5
}
