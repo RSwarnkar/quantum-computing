{
 "cells": [
  {
   "cell_type": "markdown",
   "id": "1d00cb67",
   "metadata": {},
   "source": [
    "## RSA Prime Factorization: \n",
    "\n",
    "* Give a large number viz., RSA-Number, $n \\in I$, we want to do the prime factors of this RSA number. \n",
    "\n",
    "#### Idea: \n",
    "So we follow below algorithm: \n",
    "* Since RSA has two prime factors $p,q$ , this number can be represented as a rectangular number $R_b(n) = [p \\times q]_{p \\times q} $  \n",
    "* Length of sides of rectngle  $R_b$ will represent the factors. \n",
    "\n",
    "#### Challanges: \n",
    "\n",
    "* Number of balls required for $R_{2048}$ will be $2^{2048} >> 2^{80}$ which is number of atoms in visible universe! \n",
    "\n",
    "#### Problem statement:\n",
    "* Can we find an Quantum Algorithm that can effectively search for rectangularity number $R_b(n) = [p \\times q]_{p \\times q} $ ?\n",
    "* Can that quantum algorithm naturally stop in linear real time as the rectangularity number beacomes a valid rectangle?   \n"
   ]
  },
  {
   "cell_type": "markdown",
   "id": "dfe992f3",
   "metadata": {},
   "source": []
  }
 ],
 "metadata": {
  "kernelspec": {
   "display_name": "qiskit_env",
   "language": "python",
   "name": "qiskit_env"
  },
  "language_info": {
   "codemirror_mode": {
    "name": "ipython",
    "version": 3
   },
   "file_extension": ".py",
   "mimetype": "text/x-python",
   "name": "python",
   "nbconvert_exporter": "python",
   "pygments_lexer": "ipython3",
   "version": "3.10.5"
  }
 },
 "nbformat": 4,
 "nbformat_minor": 5
}
