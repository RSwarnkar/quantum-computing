{
 "cells": [
  {
   "cell_type": "markdown",
   "id": "b97b2d8d",
   "metadata": {},
   "source": [
    "Study this topic: \n",
    "    \n",
    "https://byjus.com/maths/adjoint-of-a-matrix/"
   ]
  },
  {
   "cell_type": "code",
   "execution_count": null,
   "id": "c64962ff",
   "metadata": {},
   "outputs": [],
   "source": []
  }
 ],
 "metadata": {
  "kernelspec": {
   "display_name": "qiskit_env",
   "language": "python",
   "name": "qiskit_env"
  },
  "language_info": {
   "codemirror_mode": {
    "name": "ipython",
    "version": 3
   },
   "file_extension": ".py",
   "mimetype": "text/x-python",
   "name": "python",
   "nbconvert_exporter": "python",
   "pygments_lexer": "ipython3",
   "version": "3.10.5"
  }
 },
 "nbformat": 4,
 "nbformat_minor": 5
}
