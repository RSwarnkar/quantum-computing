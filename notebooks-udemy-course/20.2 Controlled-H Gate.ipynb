{
 "cells": [
  {
   "cell_type": "markdown",
   "id": "2565c2c2",
   "metadata": {},
   "source": [
    "## Controlled H Gate: \n",
    "\n",
    "Write down the matrix representation for the CH-gate and describe how it acts on the state $\\vert q_0 q_1 \\rangle$. \n"
   ]
  },
  {
   "cell_type": "code",
   "execution_count": 1,
   "id": "a99268be",
   "metadata": {},
   "outputs": [],
   "source": [
    "from qiskit import QuantumCircuit, Aer, execute\n",
    "from qiskit.visualization import plot_bloch_multivector, plot_histogram, visualize_transition \n",
    "from qiskit_textbook.tools import array_to_latex\n"
   ]
  },
  {
   "cell_type": "markdown",
   "id": "3b2189bc",
   "metadata": {},
   "source": [
    "### Calculate $C_{hadamard}\\vert 00 \\rangle$:"
   ]
  },
  {
   "cell_type": "code",
   "execution_count": 7,
   "id": "2e19179a",
   "metadata": {},
   "outputs": [
    {
     "data": {
      "image/png": "[encoded data removed]",
      "text/plain": [
       "<Figure size 146.652x144.48 with 1 Axes>"
      ]
     },
     "execution_count": 7,
     "metadata": {},
     "output_type": "execute_result"
    }
   ],
   "source": [
    "num_qb = 2\n",
    "qc1 = QuantumCircuit(num_qb)\n",
    "\n",
    "qc1.ch(control_qubit=0,target_qubit=1)\n",
    "\n",
    "qc1.draw(\"mpl\")"
   ]
  },
  {
   "cell_type": "code",
   "execution_count": 8,
   "id": "8d58c339",
   "metadata": {},
   "outputs": [
    {
     "data": {
      "text/latex": [
       "$\\displaystyle \n",
       "U|00> = \\begin{bmatrix}\n",
       "1 \\\\\n",
       "0 \\\\\n",
       "0 \\\\\n",
       "0\n",
       "\\end{bmatrix}\n",
       "$"
      ],
      "text/plain": [
       "<IPython.core.display.Math object>"
      ]
     },
     "metadata": {},
     "output_type": "display_data"
    },
    {
     "data": {
      "text/latex": [
       "$\\displaystyle \n",
       "U = \\begin{bmatrix}\n",
       "1 & 0 & 0 & 0  \\\\\n",
       "0 & \\tfrac{1}{\\sqrt{2}} & 0 & \\tfrac{1}{\\sqrt{2}}  \\\\\n",
       "0 & 0 & 1 & 0  \\\\\n",
       "0 & \\tfrac{1}{\\sqrt{2}} & 0 & -\\tfrac{1}{\\sqrt{2}}  \\\\\n",
       "\\end{bmatrix}\n",
       "$$\n",
       "$"
      ],
      "text/plain": [
       "<IPython.core.display.Math object>"
      ]
     },
     "metadata": {},
     "output_type": "display_data"
    }
   ],
   "source": [
    "backend1 = Aer.get_backend(\"statevector_simulator\")\n",
    "backend2 = Aer.get_backend(\"unitary_simulator\")\n",
    "\n",
    "out1 = execute(qc1,backend1).result().get_statevector()\n",
    "out2 = execute(qc1,backend2).result().get_unitary()\n",
    "\n",
    "array_to_latex(out1, pretext=\"U|00> = \")\n",
    "array_to_latex(out2, pretext=\"U = \")"
   ]
  },
  {
   "cell_type": "markdown",
   "id": "91ad2e85",
   "metadata": {},
   "source": [
    "### Calculate $C_{hadamard}\\vert 01 \\rangle$:"
   ]
  },
  {
   "cell_type": "code",
   "execution_count": 9,
   "id": "d96aa2f8",
   "metadata": {},
   "outputs": [
    {
     "data": {
      "image/png": "[encoded data removed]",
      "text/plain": [
       "<Figure size 206.852x144.48 with 1 Axes>"
      ]
     },
     "execution_count": 9,
     "metadata": {},
     "output_type": "execute_result"
    }
   ],
   "source": [
    "num_qb = 2\n",
    "qc1 = QuantumCircuit(num_qb)\n",
    "\n",
    "qc1.x(1) # Flip the second qubit\n",
    "qc1.ch(control_qubit=0,target_qubit=1)\n",
    "\n",
    "qc1.draw(\"mpl\")"
   ]
  },
  {
   "cell_type": "code",
   "execution_count": 11,
   "id": "d7cb15f6",
   "metadata": {},
   "outputs": [
    {
     "data": {
      "text/latex": [
       "$\\displaystyle \n",
       "U|01> = \\begin{bmatrix}\n",
       "0 \\\\\n",
       "0 \\\\\n",
       "1 \\\\\n",
       "0\n",
       "\\end{bmatrix}\n",
       "$"
      ],
      "text/plain": [
       "<IPython.core.display.Math object>"
      ]
     },
     "metadata": {},
     "output_type": "display_data"
    },
    {
     "data": {
      "text/latex": [
       "$\\displaystyle \n",
       "U = \\begin{bmatrix}\n",
       "0 & 0 & 1 & 0  \\\\\n",
       "0 & \\tfrac{1}{\\sqrt{2}} & 0 & \\tfrac{1}{\\sqrt{2}}  \\\\\n",
       "1 & 0 & 0 & 0  \\\\\n",
       "0 & -\\tfrac{1}{\\sqrt{2}} & 0 & \\tfrac{1}{\\sqrt{2}}  \\\\\n",
       "\\end{bmatrix}\n",
       "$$\n",
       "$"
      ],
      "text/plain": [
       "<IPython.core.display.Math object>"
      ]
     },
     "metadata": {},
     "output_type": "display_data"
    }
   ],
   "source": [
    "backend1 = Aer.get_backend(\"statevector_simulator\")\n",
    "backend2 = Aer.get_backend(\"unitary_simulator\")\n",
    "\n",
    "out1 = execute(qc1,backend1).result().get_statevector()\n",
    "out2 = execute(qc1,backend2).result().get_unitary()\n",
    "\n",
    "array_to_latex(out1, pretext=\"U|01> = \")\n",
    "array_to_latex(out2, pretext=\"U = \")"
   ]
  },
  {
   "cell_type": "markdown",
   "id": "7e1dace5",
   "metadata": {},
   "source": [
    "### Calculate $C_{hadamard}\\vert 10 \\rangle$:"
   ]
  },
  {
   "cell_type": "code",
   "execution_count": 12,
   "id": "1e453da8",
   "metadata": {},
   "outputs": [
    {
     "data": {
      "image/png": "[encoded data removed]",
      "text/plain": [
       "<Figure size 206.852x144.48 with 1 Axes>"
      ]
     },
     "execution_count": 12,
     "metadata": {},
     "output_type": "execute_result"
    }
   ],
   "source": [
    "num_qb = 2\n",
    "qc1 = QuantumCircuit(num_qb)\n",
    "\n",
    "qc1.x(0) # Flip the first qubit\n",
    "qc1.ch(control_qubit=0,target_qubit=1)\n",
    "\n",
    "qc1.draw(\"mpl\")"
   ]
  },
  {
   "cell_type": "code",
   "execution_count": 14,
   "id": "9717ddd0",
   "metadata": {},
   "outputs": [
    {
     "data": {
      "text/latex": [
       "$\\displaystyle \n",
       "U|10> = \\begin{bmatrix}\n",
       "0 \\\\\n",
       "\\tfrac{1}{\\sqrt{2}} \\\\\n",
       "0 \\\\\n",
       "\\tfrac{1}{\\sqrt{2}}\n",
       "\\end{bmatrix}\n",
       "$"
      ],
      "text/plain": [
       "<IPython.core.display.Math object>"
      ]
     },
     "metadata": {},
     "output_type": "display_data"
    },
    {
     "data": {
      "text/latex": [
       "$\\displaystyle \n",
       "U = \\begin{bmatrix}\n",
       "0 & 1 & 0 & 0  \\\\\n",
       "\\tfrac{1}{\\sqrt{2}} & 0 & \\tfrac{1}{\\sqrt{2}} & 0  \\\\\n",
       "0 & 0 & 0 & 1  \\\\\n",
       "\\tfrac{1}{\\sqrt{2}} & 0 & -\\tfrac{1}{\\sqrt{2}} & 0  \\\\\n",
       "\\end{bmatrix}\n",
       "$$\n",
       "$"
      ],
      "text/plain": [
       "<IPython.core.display.Math object>"
      ]
     },
     "metadata": {},
     "output_type": "display_data"
    }
   ],
   "source": [
    "backend1 = Aer.get_backend(\"statevector_simulator\")\n",
    "backend2 = Aer.get_backend(\"unitary_simulator\")\n",
    "\n",
    "out1 = execute(qc1,backend1).result().get_statevector()\n",
    "out2 = execute(qc1,backend2).result().get_unitary()\n",
    "\n",
    "array_to_latex(out1, pretext=\"U|10> = \")\n",
    "array_to_latex(out2, pretext=\"U = \")"
   ]
  },
  {
   "cell_type": "markdown",
   "id": "bd440b1a",
   "metadata": {},
   "source": [
    "### Calculate $C_{hadamard}\\vert 11 \\rangle$:"
   ]
  },
  {
   "cell_type": "code",
   "execution_count": 18,
   "id": "e9b143a7",
   "metadata": {},
   "outputs": [
    {
     "data": {
      "image/png": "[encoded data removed]",
      "text/plain": [
       "<Figure size 206.852x144.48 with 1 Axes>"
      ]
     },
     "execution_count": 18,
     "metadata": {},
     "output_type": "execute_result"
    }
   ],
   "source": [
    "num_qb = 2\n",
    "qc1 = QuantumCircuit(num_qb)\n",
    "\n",
    "qc1.x(0) # Flip the first qubit\n",
    "qc1.x(1) # Flip the second qubit\n",
    "qc1.ch(control_qubit=0,target_qubit=1)\n",
    "\n",
    "qc1.draw(\"mpl\")"
   ]
  },
  {
   "cell_type": "code",
   "execution_count": 19,
   "id": "3b6544d1",
   "metadata": {},
   "outputs": [
    {
     "data": {
      "text/latex": [
       "$\\displaystyle \n",
       "U|11> = \\begin{bmatrix}\n",
       "0 \\\\\n",
       "\\tfrac{1}{\\sqrt{2}} \\\\\n",
       "0 \\\\\n",
       "-\\tfrac{1}{\\sqrt{2}}\n",
       "\\end{bmatrix}\n",
       "$"
      ],
      "text/plain": [
       "<IPython.core.display.Math object>"
      ]
     },
     "metadata": {},
     "output_type": "display_data"
    },
    {
     "data": {
      "text/latex": [
       "$\\displaystyle \n",
       "U = \\begin{bmatrix}\n",
       "0 & 0 & 0 & 1  \\\\\n",
       "\\tfrac{1}{\\sqrt{2}} & 0 & \\tfrac{1}{\\sqrt{2}} & 0  \\\\\n",
       "0 & 1 & 0 & 0  \\\\\n",
       "-\\tfrac{1}{\\sqrt{2}} & 0 & \\tfrac{1}{\\sqrt{2}} & 0  \\\\\n",
       "\\end{bmatrix}\n",
       "$$\n",
       "$"
      ],
      "text/plain": [
       "<IPython.core.display.Math object>"
      ]
     },
     "metadata": {},
     "output_type": "display_data"
    }
   ],
   "source": [
    "backend1 = Aer.get_backend(\"statevector_simulator\")\n",
    "backend2 = Aer.get_backend(\"unitary_simulator\")\n",
    "\n",
    "out1 = execute(qc1,backend1).result().get_statevector()\n",
    "out2 = execute(qc1,backend2).result().get_unitary()\n",
    "\n",
    "array_to_latex(out1, pretext=\"U|11> = \")\n",
    "array_to_latex(out2, pretext=\"U = \")"
   ]
  },
  {
   "cell_type": "markdown",
   "id": "707cc70d",
   "metadata": {},
   "source": [
    "## Conclusion: \n",
    "\n",
    "$$C_{H} \\vert 00 \\rangle = \\begin{bmatrix} 1 \\\\ 0 \\\\ 0 \\\\ 0 \\\\ \\end{bmatrix} , \\ \n",
    "C_{H} \\vert 01 \\rangle   = \\begin{bmatrix} 0 \\\\ 0 \\\\ 1 \\\\ 0 \\\\ \\end{bmatrix} , \\ \n",
    "C_{H} \\vert 10 \\rangle   = \\frac{1}{\\sqrt{2}} \\begin{bmatrix} 0 \\\\ 1 \\\\ 0 \\\\ 1 \\\\ \\end{bmatrix} , \\ \n",
    "C_{H} \\vert 11 \\rangle   = \\frac{1}{\\sqrt{2}} \\begin{bmatrix} 0 \\\\ 1 \\\\ 0 \\\\ -1 \\\\ \\end{bmatrix} .\n",
    "$$\n"
   ]
  },
  {
   "cell_type": "code",
   "execution_count": null,
   "id": "1b3a7d21",
   "metadata": {},
   "outputs": [],
   "source": []
  }
 ],
 "metadata": {
  "kernelspec": {
   "display_name": "qiskit_env",
   "language": "python",
   "name": "qiskit_env"
  },
  "language_info": {
   "codemirror_mode": {
    "name": "ipython",
    "version": 3
   },
   "file_extension": ".py",
   "mimetype": "text/x-python",
   "name": "python",
   "nbconvert_exporter": "python",
   "pygments_lexer": "ipython3",
   "version": "3.10.5"
  }
 },
 "nbformat": 4,
 "nbformat_minor": 5
}
