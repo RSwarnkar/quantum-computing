{
 "cells": [
  {
   "cell_type": "markdown",
   "id": "8b5b377b",
   "metadata": {},
   "source": [
    "# Questions and Doubts:\n",
    "\n",
    "\n",
    "- What is MathJax and What is TikZ library. \n",
    "- what is difference between superposition and entanglement \n",
    "- Can we have a single qubit in entanglement? \n",
    "- What is QASM and just gather some infor about this \n",
    "- Can we apply Toffoli on 3 gates\n",
    "- Collect and documebnt list of all possible quantum gate and which are not possible in Qiskit (e.g. Toffoli gate) \n"
   ]
  },
  {
   "cell_type": "markdown",
   "id": "a7fd2b5d",
   "metadata": {},
   "source": [
    "# Wikipedia Links: "
   ]
  },
  {
   "cell_type": "markdown",
   "id": "742edb71",
   "metadata": {},
   "source": [
    "* [Controlled_NOT_gate](https://en.wikipedia.org/wiki/Controlled_NOT_gate)\n",
    "* [Euler_angles](https://en.wikipedia.org/wiki/Euler_angles)\n",
    "* [Spherical_coordinate_system](https://en.wikipedia.org/wiki/Spherical_coordinate_system)"
   ]
  },
  {
   "cell_type": "code",
   "execution_count": null,
   "id": "cacc2c1d",
   "metadata": {},
   "outputs": [],
   "source": []
  }
 ],
 "metadata": {
  "kernelspec": {
   "display_name": "qiskit_env",
   "language": "python",
   "name": "qiskit_env"
  },
  "language_info": {
   "codemirror_mode": {
    "name": "ipython",
    "version": 3
   },
   "file_extension": ".py",
   "mimetype": "text/x-python",
   "name": "python",
   "nbconvert_exporter": "python",
   "pygments_lexer": "ipython3",
   "version": "3.10.5"
  }
 },
 "nbformat": 4,
 "nbformat_minor": 5
}
