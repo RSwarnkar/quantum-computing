{
 "cells": [
  {
   "cell_type": "markdown",
   "id": "e806973c",
   "metadata": {},
   "source": [
    "# CNOT Gate on 2 Qubits: \n",
    "\n",
    "We know that: \n",
    "\n",
    "$\\vert \\psi_1 \\psi_2 \\rangle  = c_3 \\vert 11 \\rangle + c_2 \\vert 10 \\rangle + c_1 \\vert 01 \\rangle + c_0 \\vert 00 \\rangle \\text{ where } c_k \\in \\mathbb{C^2} $\n",
    "\n",
    "Therefore: \n",
    "\n",
    "$ U \\ \\vert \\psi_1 \\psi_2 \\rangle  = c_3 U \\ \\vert 11 \\rangle + c_2 U \\ \\vert 10 \\rangle + c_1 U \\ \\vert 01 \\rangle + c_0 U \\ \\vert 00 \\rangle = \\sum_{k=1} ^{2^n} c_k \\ U \\vert k \\rangle \\text{ where } n=2 $\n",
    "\n",
    "Let's define U as CNOT Gate. which can be implemented in `qiskit` using `QuantumCircuit.cx()` function. And then find all the \n",
    "\n",
    "$  c_k \\ U \\vert k \\rangle $ "
   ]
  },
  {
   "cell_type": "markdown",
   "id": "0cc6e820",
   "metadata": {},
   "source": [
    "## Conclusion: \n",
    "\n",
    "Thus: \n",
    "\n",
    "$$\n",
    "U(00)=\\begin{bmatrix} 1 \\\\ 0 \\\\ 0 \\\\ 0 \\\\ \\end{bmatrix} ,\\\n",
    "U(01)=\\begin{bmatrix} 0 \\\\ 0 \\\\ 1 \\\\ 0 \\\\ \\end{bmatrix} ,\\\n",
    "U(10)=\\begin{bmatrix} 0 \\\\ 0 \\\\ 0 \\\\ 1 \\\\ \\end{bmatrix} ,\\\n",
    "U(11)=\\begin{bmatrix} 0 \\\\ 1 \\\\ 0 \\\\ 0 \\\\ \\end{bmatrix} ,\\\n",
    "\\text{where} \\ U \\equiv C_{NOT}.\n",
    "$$"
   ]
  },
  {
   "cell_type": "code",
   "execution_count": 1,
   "id": "e1710c27",
   "metadata": {},
   "outputs": [],
   "source": [
    "from qiskit import QuantumCircuit, Aer, execute\n",
    "from qiskit.visualization import plot_bloch_multivector, plot_histogram \n",
    "from qiskit_textbook.tools import array_to_latex"
   ]
  },
  {
   "cell_type": "markdown",
   "id": "19e18fa8",
   "metadata": {},
   "source": [
    "## Compute $U\\vert 00 \\rangle$ :\n"
   ]
  },
  {
   "cell_type": "code",
   "execution_count": 2,
   "id": "85d67113",
   "metadata": {},
   "outputs": [
    {
     "data": {
      "image/png": "[encoded data removed]",
      "text/plain": [
       "<Figure size 146.652x144.48 with 1 Axes>"
      ]
     },
     "execution_count": 2,
     "metadata": {},
     "output_type": "execute_result"
    }
   ],
   "source": [
    "num_qb = 2\n",
    "qc1 = QuantumCircuit(num_qb)\n",
    "qc1.cx(control_qubit=0,target_qubit=1)\n",
    "qc1.draw(\"mpl\")"
   ]
  },
  {
   "cell_type": "code",
   "execution_count": 3,
   "id": "cea7fa7a",
   "metadata": {},
   "outputs": [
    {
     "data": {
      "text/latex": [
       "$\\displaystyle \n",
       "\\text{U = }\\begin{bmatrix}\n",
       "1 & 0 & 0 & 0  \\\\\n",
       "0 & 0 & 0 & 1  \\\\\n",
       "0 & 0 & 1 & 0  \\\\\n",
       "0 & 1 & 0 & 0  \\\\\n",
       "\\end{bmatrix}\n",
       "$$\n",
       "$"
      ],
      "text/plain": [
       "<IPython.core.display.Math object>"
      ]
     },
     "metadata": {},
     "output_type": "display_data"
    },
    {
     "data": {
      "text/latex": [
       "$\\displaystyle \n",
       "\\text{U(00) = }\\begin{bmatrix}\n",
       "1 \\\\\n",
       "0 \\\\\n",
       "0 \\\\\n",
       "0\n",
       "\\end{bmatrix}\n",
       "$"
      ],
      "text/plain": [
       "<IPython.core.display.Math object>"
      ]
     },
     "metadata": {},
     "output_type": "display_data"
    }
   ],
   "source": [
    "out1 = execute(qc1,Aer.get_backend(\"unitary_simulator\")).result().get_unitary()\n",
    "out2 = execute(qc1,Aer.get_backend(\"statevector_simulator\")).result().get_statevector()\n",
    "\n",
    "array_to_latex(out1, pretext=\"\\\\text{U = }\")\n",
    "array_to_latex(out2, pretext=\"\\\\text{U(00) = }\")"
   ]
  },
  {
   "cell_type": "markdown",
   "id": "c849626e",
   "metadata": {},
   "source": [
    "## Compute $U\\vert 01 \\rangle$ :"
   ]
  },
  {
   "cell_type": "code",
   "execution_count": 7,
   "id": "73394da6",
   "metadata": {},
   "outputs": [
    {
     "data": {
      "image/png": "[encoded data removed]",
      "text/plain": [
       "<Figure size 206.852x144.48 with 1 Axes>"
      ]
     },
     "execution_count": 7,
     "metadata": {},
     "output_type": "execute_result"
    }
   ],
   "source": [
    "num_qb = 2\n",
    "qc2 = QuantumCircuit(num_qb)\n",
    "qc2.x(1)\n",
    "qc2.cx(control_qubit=0,target_qubit=1)\n",
    "qc2.draw(\"mpl\")"
   ]
  },
  {
   "cell_type": "code",
   "execution_count": 8,
   "id": "382749c4",
   "metadata": {},
   "outputs": [
    {
     "data": {
      "text/latex": [
       "$\\displaystyle \n",
       "\\text{U = }\\begin{bmatrix}\n",
       "0 & 0 & 1 & 0  \\\\\n",
       "0 & 1 & 0 & 0  \\\\\n",
       "1 & 0 & 0 & 0  \\\\\n",
       "0 & 0 & 0 & 1  \\\\\n",
       "\\end{bmatrix}\n",
       "$$\n",
       "$"
      ],
      "text/plain": [
       "<IPython.core.display.Math object>"
      ]
     },
     "metadata": {},
     "output_type": "display_data"
    },
    {
     "data": {
      "text/latex": [
       "$\\displaystyle \n",
       "\\text{U(00) = }\\begin{bmatrix}\n",
       "0 \\\\\n",
       "0 \\\\\n",
       "1 \\\\\n",
       "0\n",
       "\\end{bmatrix}\n",
       "$"
      ],
      "text/plain": [
       "<IPython.core.display.Math object>"
      ]
     },
     "metadata": {},
     "output_type": "display_data"
    }
   ],
   "source": [
    "out1 = execute(qc2,Aer.get_backend(\"unitary_simulator\")).result().get_unitary()\n",
    "out2 = execute(qc2,Aer.get_backend(\"statevector_simulator\")).result().get_statevector()\n",
    "\n",
    "array_to_latex(out1, pretext=\"\\\\text{U = }\")\n",
    "array_to_latex(out2, pretext=\"\\\\text{U(00) = }\")"
   ]
  },
  {
   "cell_type": "markdown",
   "id": "03e584c1",
   "metadata": {},
   "source": [
    "## Compute $U\\vert 10 \\rangle$ :"
   ]
  },
  {
   "cell_type": "code",
   "execution_count": 9,
   "id": "5acedff2",
   "metadata": {},
   "outputs": [
    {
     "data": {
      "image/png": "[encoded data removed]",
      "text/plain": [
       "<Figure size 206.852x144.48 with 1 Axes>"
      ]
     },
     "execution_count": 9,
     "metadata": {},
     "output_type": "execute_result"
    }
   ],
   "source": [
    "num_qb = 2\n",
    "qc3 = QuantumCircuit(num_qb)\n",
    "qc3.x(0)\n",
    "qc3.cx(control_qubit=0,target_qubit=1)\n",
    "qc3.draw(\"mpl\")"
   ]
  },
  {
   "cell_type": "code",
   "execution_count": 10,
   "id": "a86a2ef2",
   "metadata": {},
   "outputs": [
    {
     "data": {
      "text/latex": [
       "$\\displaystyle \n",
       "\\text{U = }\\begin{bmatrix}\n",
       "0 & 1 & 0 & 0  \\\\\n",
       "0 & 0 & 1 & 0  \\\\\n",
       "0 & 0 & 0 & 1  \\\\\n",
       "1 & 0 & 0 & 0  \\\\\n",
       "\\end{bmatrix}\n",
       "$$\n",
       "$"
      ],
      "text/plain": [
       "<IPython.core.display.Math object>"
      ]
     },
     "metadata": {},
     "output_type": "display_data"
    },
    {
     "data": {
      "text/latex": [
       "$\\displaystyle \n",
       "\\text{U(00) = }\\begin{bmatrix}\n",
       "0 \\\\\n",
       "0 \\\\\n",
       "0 \\\\\n",
       "1\n",
       "\\end{bmatrix}\n",
       "$"
      ],
      "text/plain": [
       "<IPython.core.display.Math object>"
      ]
     },
     "metadata": {},
     "output_type": "display_data"
    }
   ],
   "source": [
    "out1 = execute(qc3,Aer.get_backend(\"unitary_simulator\")).result().get_unitary()\n",
    "out2 = execute(qc3,Aer.get_backend(\"statevector_simulator\")).result().get_statevector()\n",
    "\n",
    "array_to_latex(out1, pretext=\"\\\\text{U = }\")\n",
    "array_to_latex(out2, pretext=\"\\\\text{U(00) = }\")"
   ]
  },
  {
   "cell_type": "markdown",
   "id": "e25600b5",
   "metadata": {},
   "source": [
    "## Compute $U\\vert 11 \\rangle$ :"
   ]
  },
  {
   "cell_type": "code",
   "execution_count": 13,
   "id": "8452d3a4",
   "metadata": {},
   "outputs": [
    {
     "data": {
      "image/png": "[encoded data removed]",
      "text/plain": [
       "<Figure size 206.852x144.48 with 1 Axes>"
      ]
     },
     "execution_count": 13,
     "metadata": {},
     "output_type": "execute_result"
    }
   ],
   "source": [
    "num_qb = 2\n",
    "qc3 = QuantumCircuit(num_qb)\n",
    "qc3.x(0)\n",
    "qc3.x(1)\n",
    "qc3.cx(control_qubit=0,target_qubit=1)\n",
    "qc3.draw(\"mpl\")"
   ]
  },
  {
   "cell_type": "code",
   "execution_count": 14,
   "id": "0605166e",
   "metadata": {},
   "outputs": [
    {
     "data": {
      "text/latex": [
       "$\\displaystyle \n",
       "\\text{U = }\\begin{bmatrix}\n",
       "0 & 0 & 0 & 1  \\\\\n",
       "1 & 0 & 0 & 0  \\\\\n",
       "0 & 1 & 0 & 0  \\\\\n",
       "0 & 0 & 1 & 0  \\\\\n",
       "\\end{bmatrix}\n",
       "$$\n",
       "$"
      ],
      "text/plain": [
       "<IPython.core.display.Math object>"
      ]
     },
     "metadata": {},
     "output_type": "display_data"
    },
    {
     "data": {
      "text/latex": [
       "$\\displaystyle \n",
       "\\text{U(00) = }\\begin{bmatrix}\n",
       "0 \\\\\n",
       "1 \\\\\n",
       "0 \\\\\n",
       "0\n",
       "\\end{bmatrix}\n",
       "$"
      ],
      "text/plain": [
       "<IPython.core.display.Math object>"
      ]
     },
     "metadata": {},
     "output_type": "display_data"
    }
   ],
   "source": [
    "out1 = execute(qc3,Aer.get_backend(\"unitary_simulator\")).result().get_unitary()\n",
    "out2 = execute(qc3,Aer.get_backend(\"statevector_simulator\")).result().get_statevector()\n",
    "\n",
    "array_to_latex(out1, pretext=\"\\\\text{U = }\")\n",
    "array_to_latex(out2, pretext=\"\\\\text{U(00) = }\")"
   ]
  },
  {
   "cell_type": "code",
   "execution_count": null,
   "id": "a560fa84",
   "metadata": {},
   "outputs": [],
   "source": []
  }
 ],
 "metadata": {
  "kernelspec": {
   "display_name": "qiskit_env",
   "language": "python",
   "name": "qiskit_env"
  },
  "language_info": {
   "codemirror_mode": {
    "name": "ipython",
    "version": 3
   },
   "file_extension": ".py",
   "mimetype": "text/x-python",
   "name": "python",
   "nbconvert_exporter": "python",
   "pygments_lexer": "ipython3",
   "version": "3.10.5"
  }
 },
 "nbformat": 4,
 "nbformat_minor": 5
}
