{
 "cells": [
  {
   "cell_type": "markdown",
   "id": "fa27b2da",
   "metadata": {},
   "source": [
    "Cool things to do with Numpy:\n",
    "* Create arrays (`np.array()`)\n",
    "* Matrix multiply(`np.matmul()`)\n",
    "* Dot product of vectors (`np.dot()`)\n",
    "* Kronecker product (Tensor product) (`np.kron()`) \n",
    "* check if two matrices equal (`np.all()`)\n",
    "* transpose (`np.transpose()`)\n",
    "* find norm of vector (`numpy.linalg.norm()`)\n",
    "* reshape an array (`np.reshape()`)\n",
    "\n",
    "    \n",
    "    "
   ]
  },
  {
   "cell_type": "markdown",
   "id": "d798eca6",
   "metadata": {},
   "source": [
    "- List of numbers between a given range \n",
    "- List of random number\n",
    "- List of random number between range \n",
    "- Pick a random number from a random list \n",
    "- Pick a random between a range\n",
    "- All zeros, ones, constants and alternate\n",
    "- Progressions: Arithmatic, Geometric, Hormonic progression"
   ]
  },
  {
   "cell_type": "code",
   "execution_count": 1,
   "id": "b1de06d1",
   "metadata": {},
   "outputs": [],
   "source": [
    "import numpy as np"
   ]
  },
  {
   "cell_type": "markdown",
   "id": "946504d5",
   "metadata": {},
   "source": [
    "### List of random numbers: "
   ]
  },
  {
   "cell_type": "code",
   "execution_count": 24,
   "id": "8921d7f5",
   "metadata": {},
   "outputs": [
    {
     "name": "stdout",
     "output_type": "stream",
     "text": [
      "[6 1 7 4 5 0 2 2 8 8]\n",
      "[ -8 -10   1  -8  -2 -10  -2  -7   2  -2]\n",
      "-9\n"
     ]
    }
   ],
   "source": [
    "list01 = np.random.randint(low=0,high=10,size=10) # between -0 to 9\n",
    "print(list01)\n",
    "\n",
    "list01 = np.random.randint(low=-10,high=11,size=10) # between -10 to 10\n",
    "print(list01)\n",
    "\n",
    "list01 = np.random.randint(low=-10,high=11,size=1) # Only 1 value between -10 to 10\n",
    "print(list01[0])"
   ]
  },
  {
   "cell_type": "code",
   "execution_count": 8,
   "id": "3666b9bc",
   "metadata": {},
   "outputs": [
    {
     "name": "stdout",
     "output_type": "stream",
     "text": [
      "[0.50957153 0.82497398 0.68861144 0.75468974 0.75425002]\n"
     ]
    }
   ],
   "source": [
    "list01 = np.random.rand(5) # floating point\n",
    "print(list01)"
   ]
  },
  {
   "cell_type": "code",
   "execution_count": 28,
   "id": "215c0e7f",
   "metadata": {},
   "outputs": [
    {
     "name": "stdout",
     "output_type": "stream",
     "text": [
      "[[0.51340417 0.95306619 0.29757916]\n",
      " [0.78702803 0.27841934 0.15724281]\n",
      " [0.20376632 0.97462624 0.3962346 ]]\n",
      "\n",
      "[[5 3 1]\n",
      " [4 3 9]\n",
      " [7 7 9]]\n"
     ]
    }
   ],
   "source": [
    "list01 = np.random.rand(3,3) # with shape\n",
    "print(list01)\n",
    "\n",
    "print() \n",
    "\n",
    "list01 = np.random.randint(low=0,high=10,size=9) # Reshaped with integers\n",
    "print(list01.reshape(3,3))\n"
   ]
  },
  {
   "cell_type": "code",
   "execution_count": 1,
   "id": "6a5ad023",
   "metadata": {},
   "outputs": [
    {
     "name": "stdout",
     "output_type": "stream",
     "text": [
      "[6, 8, 5]\n"
     ]
    }
   ],
   "source": [
    "## Select 3 points from list of points\n",
    "all_data = [0,1,2,3,4,5,6,7,8,9]\n",
    "from random import shuffle\n",
    "shuffle(all_data)\n",
    "res = all_data[:3]# or any other number of items\n",
    "print(res)"
   ]
  },
  {
   "cell_type": "markdown",
   "id": "55e78bcf",
   "metadata": {},
   "source": [
    "### All zeros, ones, constants and alternate:"
   ]
  },
  {
   "cell_type": "code",
   "execution_count": 29,
   "id": "304e2191",
   "metadata": {},
   "outputs": [
    {
     "name": "stdout",
     "output_type": "stream",
     "text": [
      "[0. 0. 0. 0. 0. 0. 0. 0. 0. 0.]\n"
     ]
    }
   ],
   "source": [
    "list02 = np.zeros(10)\n",
    "print(list02)"
   ]
  },
  {
   "cell_type": "code",
   "execution_count": 30,
   "id": "f0bb5bfb",
   "metadata": {},
   "outputs": [
    {
     "name": "stdout",
     "output_type": "stream",
     "text": [
      "[1. 1. 1. 1. 1. 1. 1. 1. 1. 1.]\n"
     ]
    }
   ],
   "source": [
    "list02 = np.ones(10) \n",
    "print(list02)"
   ]
  },
  {
   "cell_type": "code",
   "execution_count": 34,
   "id": "4bdf0623",
   "metadata": {},
   "outputs": [
    {
     "name": "stdout",
     "output_type": "stream",
     "text": [
      "[3.14 3.14 3.14 3.14 3.14 3.14 3.14 3.14 3.14 3.14]\n",
      "[10. 10. 10. 10. 10. 10. 10. 10. 10. 10.]\n",
      "[42 42 42 42 42]\n"
     ]
    }
   ],
   "source": [
    "list02 = np.ones(10) * 3.14\n",
    "print(list02)\n",
    "\n",
    "list02 = np.ones(10) * 10\n",
    "print(list02)\n",
    "\n",
    "list02 = np.random.randint(low=42,high=43,size=5) \n",
    "print(list02)\n"
   ]
  },
  {
   "cell_type": "code",
   "execution_count": 13,
   "id": "637b2cb5",
   "metadata": {},
   "outputs": [
    {
     "name": "stdout",
     "output_type": "stream",
     "text": [
      "4.349485090875334\n",
      "\n",
      "[0.24519522096226132, 5.728486276079251, 0.48096545342377706, 1.8762748962959395, 0.6391854436841552, 5.507182929309845, 6.1386098237098725, 6.1382836584612654, 5.910722997474203, 0.6375434652706207]\n",
      "\n",
      "[1.94 5.43 4.   3.4  5.12]\n",
      "[-0.36087288  0.65758674 -0.65364362 -0.96679819  0.39641721]\n",
      "\n"
     ]
    }
   ],
   "source": [
    "### Generate nagles between range [0,2pi) i.e exclude 2pi\n",
    "\n",
    "import random, math\n",
    "\n",
    "theta = random.uniform(0,2*math.pi)\n",
    "\n",
    "print(theta)\n",
    "print()\n",
    "\n",
    "angles = [random.uniform(0,2*math.pi) for _ in range(10)] # 5 angles\n",
    "print(angles)\n",
    "print()\n",
    "\n",
    "angles = np.array( [random.uniform(0,2*math.pi) for _ in range(5)] )\n",
    "angles = np.around(angles, 2)\n",
    "cos = np.cos(angles)\n",
    "print(angles)\n",
    "print(cos)\n",
    "print()\n"
   ]
  },
  {
   "cell_type": "markdown",
   "id": "7b841b3b",
   "metadata": {},
   "source": [
    "### Progressions: Arithmatic, Geometric, Hormonic progression"
   ]
  },
  {
   "cell_type": "code",
   "execution_count": 42,
   "id": "4ea4d685",
   "metadata": {},
   "outputs": [
    {
     "name": "stdout",
     "output_type": "stream",
     "text": [
      "[0.  0.1 0.2 0.3 0.4 0.5 0.6 0.7 0.8 0.9]\n",
      "[ 0  2  4  6  8 10 12 14 16 18]\n",
      "[0.  0.1 0.2 0.3 0.4 0.5 0.6 0.7 0.8 0.9]\n",
      "[0.         0.39269908 0.78539816 1.17809725 1.57079633 1.96349541\n",
      " 2.35619449 2.74889357 3.14159265]\n"
     ]
    }
   ],
   "source": [
    "list03 = np.arange(start=0, stop=1, step=0.1)\n",
    "print(list03)\n",
    "\n",
    "list03 = np.arange(start=0, stop=20, step=2)\n",
    "print(list03)\n",
    "\n",
    "list03 = np.arange(start=0, stop=1, step=0.1)\n",
    "print(list03)\n",
    "\n",
    "\n",
    "list03 = np.arange(start=0, stop=(np.pi+np.pi/8), step=0.125*np.pi) # 0 to pi with step = pi/8 including pi\n",
    "print(list03)"
   ]
  },
  {
   "cell_type": "markdown",
   "id": "ae01d317",
   "metadata": {},
   "source": [
    "#### What is the difference between np.linspace and np.arange?\n",
    "\n",
    "* np.arange allows you to define the stepsize \n",
    "* np.linspace allows you to define how many values you get including the specified min and max value "
   ]
  },
  {
   "cell_type": "code",
   "execution_count": 44,
   "id": "d553323b",
   "metadata": {},
   "outputs": [
    {
     "data": {
      "text/plain": [
       "array([0.  , 0.25, 0.5 , 0.75, 1.  ])"
      ]
     },
     "execution_count": 44,
     "metadata": {},
     "output_type": "execute_result"
    }
   ],
   "source": [
    "np.linspace(start=0,stop=1,num=5)"
   ]
  },
  {
   "cell_type": "code",
   "execution_count": 46,
   "id": "4cbae8df",
   "metadata": {},
   "outputs": [
    {
     "data": {
      "text/plain": [
       "array([0.  , 0.25, 0.5 , 0.75])"
      ]
     },
     "execution_count": 46,
     "metadata": {},
     "output_type": "execute_result"
    }
   ],
   "source": [
    "np.arange(start=0,stop=1,step=0.25)"
   ]
  },
  {
   "cell_type": "markdown",
   "id": "70c9e846",
   "metadata": {},
   "source": [
    "### Random Stochastic matrix:"
   ]
  },
  {
   "cell_type": "code",
   "execution_count": 1,
   "id": "b933b72e",
   "metadata": {},
   "outputs": [
    {
     "name": "stdout",
     "output_type": "stream",
     "text": [
      "[[0.28753225 0.44495156 0.73617705]\n",
      " [0.2485788  0.5151379  0.1061739 ]\n",
      " [0.46388895 0.03991054 0.15764906]]\n",
      "Verification:  [1. 1. 1.]\n"
     ]
    }
   ],
   "source": [
    "import numpy as np\n",
    "\n",
    "def stochastic_matrix(x,y):\n",
    "    w = np.random.rand(x*y)\n",
    "    w = np.reshape(w,(x,y))\n",
    "    w = w / np.sum(w,axis=0)\n",
    "    return w\n",
    " \n",
    "u = stochastic_matrix(3,3)\n",
    "print(u)\n",
    "print(\"Verification: \",u.sum(axis=0))"
   ]
  },
  {
   "cell_type": "markdown",
   "id": "9d1f41b4",
   "metadata": {},
   "source": [
    "### generate statevector from binary sequence "
   ]
  },
  {
   "cell_type": "code",
   "execution_count": 1,
   "id": "8af6d89a",
   "metadata": {},
   "outputs": [
    {
     "name": "stdout",
     "output_type": "stream",
     "text": [
      "[[0]\n",
      " [0]\n",
      " [0]\n",
      " [0]\n",
      " [0]\n",
      " [0]\n",
      " [0]\n",
      " [0]\n",
      " [0]\n",
      " [1]\n",
      " [0]\n",
      " [0]\n",
      " [0]\n",
      " [0]\n",
      " [0]\n",
      " [0]]\n",
      "(16, 1)\n",
      "\n",
      "[[0]\n",
      " [0]\n",
      " [0]\n",
      " [0]\n",
      " [0]\n",
      " [0]\n",
      " [0]\n",
      " [1]\n",
      " [0]\n",
      " [0]\n",
      " [0]\n",
      " [0]\n",
      " [0]\n",
      " [0]\n",
      " [0]\n",
      " [0]]\n",
      "(16, 1)\n"
     ]
    }
   ],
   "source": [
    "import numpy as np\n",
    "\n",
    "\n",
    "def generate_state_vector_from_string(mystring):\n",
    "    \n",
    "    vi = [x for x in mystring]\n",
    "    \n",
    "    vec = np.array([[0],[0]])\n",
    "    \n",
    "    result_vector = np.array([])\n",
    "    \n",
    "    for i in range(len(vi)):   \n",
    "        if(vi[i]=='0'): vec = np.array([[1],[0]])\n",
    "        if(vi[i]=='1'): vec = np.array([[0],[1]])\n",
    "            \n",
    "        if (i==0): # Very important will go 1 less because kroneckr operations are only 3 not 4 \n",
    "            result_vector = vec\n",
    "        else:\n",
    "            result_vector = np.kron(result_vector,vec)  # Calculating from left \n",
    "        # In an expression having 3 or more Tensor products, \n",
    "        # do you calculate from left or right? A (x) B (x) C is it AB (x) C  (Left) or A (x) BC  (Right)?\n",
    "\n",
    "    return result_vector\n",
    "\n",
    "u10 = generate_state_vector_from_string('1001')\n",
    "\n",
    "print(u10)\n",
    "print(np.shape(u10))\n",
    "\n",
    "print()\n",
    "\n",
    "u8 = generate_state_vector_from_string('0111')\n",
    "\n",
    "print(u8)\n",
    "print(np.shape(u8))"
   ]
  },
  {
   "cell_type": "code",
   "execution_count": 3,
   "id": "7c729aa4",
   "metadata": {},
   "outputs": [
    {
     "name": "stdout",
     "output_type": "stream",
     "text": [
      "[[0.7]\n",
      " [0.3]]\n"
     ]
    }
   ],
   "source": [
    "import numpy as np\n",
    "u = np.array([[0.4],[0.6]])\n",
    "M = np.array([[0.5,1],[0.5,0]])\n",
    "\n",
    "X = np.matmul(M,u)\n",
    "X = np.matmul(M,X)\n",
    "X = np.matmul(M,X)\n",
    "\n",
    "print(X)"
   ]
  },
  {
   "cell_type": "markdown",
   "id": "fa44a990",
   "metadata": {},
   "source": [
    "# Other helpful commands:\n"
   ]
  },
  {
   "cell_type": "code",
   "execution_count": 17,
   "id": "f209b4c6",
   "metadata": {},
   "outputs": [
    {
     "data": {
      "text/plain": [
       "['__bool__',\n",
       " '__class__',\n",
       " '__delattr__',\n",
       " '__dir__',\n",
       " '__doc__',\n",
       " '__eq__',\n",
       " '__format__',\n",
       " '__ge__',\n",
       " '__getattribute__',\n",
       " '__gt__',\n",
       " '__hash__',\n",
       " '__init__',\n",
       " '__init_subclass__',\n",
       " '__le__',\n",
       " '__lt__',\n",
       " '__ne__',\n",
       " '__new__',\n",
       " '__reduce__',\n",
       " '__reduce_ex__',\n",
       " '__repr__',\n",
       " '__setattr__',\n",
       " '__sizeof__',\n",
       " '__str__',\n",
       " '__subclasshook__']"
      ]
     },
     "execution_count": 17,
     "metadata": {},
     "output_type": "execute_result"
    }
   ],
   "source": [
    "# Very helpful commands in python:\n",
    "import inspect\n",
    "import numpy\n",
    "from qiskit import Aer, execute\n",
    "#dir(inspect)\n",
    "#help(numpy.random.rand)\n",
    "dir(Aer.aer)\n",
    "inspect.getfullargspec(Aer.aer.get_backend)\n"
   ]
  },
  {
   "cell_type": "code",
   "execution_count": null,
   "id": "9b0e273e",
   "metadata": {},
   "outputs": [],
   "source": []
  }
 ],
 "metadata": {
  "kernelspec": {
   "display_name": "qcourse511",
   "language": "python",
   "name": "qcourse511"
  },
  "language_info": {
   "codemirror_mode": {
    "name": "ipython",
    "version": 3
   },
   "file_extension": ".py",
   "mimetype": "text/x-python",
   "name": "python",
   "nbconvert_exporter": "python",
   "pygments_lexer": "ipython3",
   "version": "3.10.5"
  }
 },
 "nbformat": 4,
 "nbformat_minor": 5
}
