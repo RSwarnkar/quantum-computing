{
 "cells": [
  {
   "cell_type": "code",
   "execution_count": 1,
   "id": "b1180839",
   "metadata": {},
   "outputs": [],
   "source": [
    "import qiskit"
   ]
  },
  {
   "cell_type": "code",
   "execution_count": 2,
   "id": "64f4e486",
   "metadata": {},
   "outputs": [
    {
     "data": {
      "text/plain": [
       "'0.21.2'"
      ]
     },
     "execution_count": 2,
     "metadata": {},
     "output_type": "execute_result"
    }
   ],
   "source": [
    "qiskit.__version__"
   ]
  },
  {
   "cell_type": "code",
   "execution_count": 3,
   "id": "b723ca5c",
   "metadata": {},
   "outputs": [
    {
     "data": {
      "text/plain": [
       "['Aer',\n",
       " 'AerWrapper',\n",
       " 'AncillaRegister',\n",
       " 'BasicAer',\n",
       " 'ClassicalRegister',\n",
       " 'IBMQ',\n",
       " 'IBMQWrapper',\n",
       " 'MissingOptionalLibraryError',\n",
       " 'QiskitError',\n",
       " 'QiskitVersion',\n",
       " 'QuantumCircuit',\n",
       " 'QuantumRegister',\n",
       " '__all__',\n",
       " '__builtins__',\n",
       " '__cached__',\n",
       " '__doc__',\n",
       " '__file__',\n",
       " '__loader__',\n",
       " '__name__',\n",
       " '__package__',\n",
       " '__path__',\n",
       " '__qiskit_version__',\n",
       " '__spec__',\n",
       " '__version__',\n",
       " '_accelerate',\n",
       " '_config',\n",
       " '_user_config',\n",
       " 'assemble',\n",
       " 'assembler',\n",
       " 'circuit',\n",
       " 'compiler',\n",
       " 'converters',\n",
       " 'dagcircuit',\n",
       " 'exceptions',\n",
       " 'execute',\n",
       " 'execute_function',\n",
       " 'extensions',\n",
       " 'namespace',\n",
       " 'new_meta_path_finder',\n",
       " 'pkgutil',\n",
       " 'providers',\n",
       " 'pulse',\n",
       " 'qasm',\n",
       " 'qiskit',\n",
       " 'qobj',\n",
       " 'quantum_info',\n",
       " 'result',\n",
       " 'schedule',\n",
       " 'scheduler',\n",
       " 'sequence',\n",
       " 'synthesis',\n",
       " 'sys',\n",
       " 'tools',\n",
       " 'transpile',\n",
       " 'transpiler',\n",
       " 'user_config',\n",
       " 'utils',\n",
       " 'version',\n",
       " 'warnings']"
      ]
     },
     "execution_count": 3,
     "metadata": {},
     "output_type": "execute_result"
    }
   ],
   "source": [
    "dir(qiskit)"
   ]
  },
  {
   "cell_type": "code",
   "execution_count": 11,
   "id": "9e3e59fc",
   "metadata": {},
   "outputs": [
    {
     "data": {
      "text/plain": [
       "{'qiskit-terra': '0.21.2', 'qiskit-aer': '0.10.4', 'qiskit-ignis': None, 'qiskit-ibmq-provider': '0.19.2', 'qiskit': '0.37.2', 'qiskit-nature': None, 'qiskit-finance': None, 'qiskit-optimization': None, 'qiskit-machine-learning': None}"
      ]
     },
     "execution_count": 11,
     "metadata": {},
     "output_type": "execute_result"
    }
   ],
   "source": [
    "qiskit.QiskitVersion()"
   ]
  },
  {
   "cell_type": "code",
   "execution_count": 37,
   "id": "46c01681",
   "metadata": {},
   "outputs": [
    {
     "data": {
      "text/html": [
       "<div>\n",
       "<style scoped>\n",
       "    .dataframe tbody tr th:only-of-type {\n",
       "        vertical-align: middle;\n",
       "    }\n",
       "\n",
       "    .dataframe tbody tr th {\n",
       "        vertical-align: top;\n",
       "    }\n",
       "\n",
       "    .dataframe thead th {\n",
       "        text-align: right;\n",
       "    }\n",
       "</style>\n",
       "<table border=\"1\" class=\"dataframe\">\n",
       "  <thead>\n",
       "    <tr style=\"text-align: right;\">\n",
       "      <th></th>\n",
       "      <th>Library</th>\n",
       "      <th>Version</th>\n",
       "    </tr>\n",
       "  </thead>\n",
       "  <tbody>\n",
       "    <tr>\n",
       "      <th>0</th>\n",
       "      <td>qiskit-terra</td>\n",
       "      <td>0.21.2</td>\n",
       "    </tr>\n",
       "    <tr>\n",
       "      <th>1</th>\n",
       "      <td>qiskit-aer</td>\n",
       "      <td>0.10.4</td>\n",
       "    </tr>\n",
       "    <tr>\n",
       "      <th>2</th>\n",
       "      <td>qiskit-ignis</td>\n",
       "      <td>None</td>\n",
       "    </tr>\n",
       "    <tr>\n",
       "      <th>3</th>\n",
       "      <td>qiskit-ibmq-provider</td>\n",
       "      <td>0.19.2</td>\n",
       "    </tr>\n",
       "    <tr>\n",
       "      <th>4</th>\n",
       "      <td>qiskit</td>\n",
       "      <td>0.37.2</td>\n",
       "    </tr>\n",
       "    <tr>\n",
       "      <th>5</th>\n",
       "      <td>qiskit-nature</td>\n",
       "      <td>None</td>\n",
       "    </tr>\n",
       "    <tr>\n",
       "      <th>6</th>\n",
       "      <td>qiskit-finance</td>\n",
       "      <td>None</td>\n",
       "    </tr>\n",
       "    <tr>\n",
       "      <th>7</th>\n",
       "      <td>qiskit-optimization</td>\n",
       "      <td>None</td>\n",
       "    </tr>\n",
       "    <tr>\n",
       "      <th>8</th>\n",
       "      <td>qiskit-machine-learning</td>\n",
       "      <td>None</td>\n",
       "    </tr>\n",
       "  </tbody>\n",
       "</table>\n",
       "</div>"
      ],
      "text/plain": [
       "                   Library Version\n",
       "0             qiskit-terra  0.21.2\n",
       "1               qiskit-aer  0.10.4\n",
       "2             qiskit-ignis    None\n",
       "3     qiskit-ibmq-provider  0.19.2\n",
       "4                   qiskit  0.37.2\n",
       "5            qiskit-nature    None\n",
       "6           qiskit-finance    None\n",
       "7      qiskit-optimization    None\n",
       "8  qiskit-machine-learning    None"
      ]
     },
     "execution_count": 37,
     "metadata": {},
     "output_type": "execute_result"
    }
   ],
   "source": [
    "import json\n",
    "import pandas as pd\n",
    "import qiskit\n",
    "\n",
    "ver = qiskit.QiskitVersion()\n",
    "ver = str(ver).replace(\"None\",\"'None'\").replace(\"'\",\"\\\"\")\n",
    "\n",
    "ver = json.loads(ver)\n",
    "\n",
    "df = pd.DataFrame({'Library' : ver.keys() , 'Version' : ver.values() })\n",
    "df.head(20)\n"
   ]
  },
  {
   "cell_type": "code",
   "execution_count": null,
   "id": "c9af49fb",
   "metadata": {},
   "outputs": [],
   "source": []
  }
 ],
 "metadata": {
  "kernelspec": {
   "display_name": "qcourse511",
   "language": "python",
   "name": "qcourse511"
  },
  "language_info": {
   "codemirror_mode": {
    "name": "ipython",
    "version": 3
   },
   "file_extension": ".py",
   "mimetype": "text/x-python",
   "name": "python",
   "nbconvert_exporter": "python",
   "pygments_lexer": "ipython3",
   "version": "3.10.5"
  }
 },
 "nbformat": 4,
 "nbformat_minor": 5
}
