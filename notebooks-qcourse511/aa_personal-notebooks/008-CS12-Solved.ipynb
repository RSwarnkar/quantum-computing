{
 "cells": [
  {
   "cell_type": "markdown",
   "metadata": {},
   "source": [
    "## Probabilistic bits\n",
    "\n",
    "We start with a short introduction to the probabilistic bits to trace the details of the game below.\n",
    "\n",
    "Suppose that we have a biased coin landing on heads with probability $ 0.3 $, and it is tossed once but we do not see the outcome.\n",
    "\n",
    "Even though it lands on either heads or tails, our information about the outcome is probabilistic: It is heads with probability $ 0.3 $ and tails with probablity $ 0.7 $. \n",
    "\n",
    "If we consider this coin as a system with two states (heads and tails: respectively, states 0 and 1), then we can say that after one iteration it is in states 0 and 1 with probabilities 0.3 and 0.7, respectively.\n",
    "\n",
    "In general, a probabilistic bit is in states 0 and 1 with probabilities $ p $ and $ 1-p $, where $ p $ is a number between 0 and 1. Remark that if $  p=1 $ or $ p=0 $, then the bit becomes deterministic (which is not a coin at all its just same face always). \n",
    "\n",
    "If the above biased coin is tossed once more, the probabilisties of the getting heads and tails (or being in the states in 0 and 1) will still be the same. In the following game, by using two biased-coins, we will be able to have different probabilities for the states 0 and 1. This game is our first step to define a probabilitic operator for probabilistic bits."
   ]
  },
  {
   "cell_type": "markdown",
   "metadata": {},
   "source": [
    "## The game"
   ]
  },
  {
   "attachments": {
    "image.png": {
     "image/png": "[encoded data removed]"
    }
   },
   "cell_type": "markdown",
   "metadata": {},
   "source": [
    "Our friend Asja has one euro and one cent. \n",
    "\n",
    "Both coins are biased, and the probabilities of getting heads and tails are as follows:\n",
    "<ul>\n",
    "    <li> one euro: heads with probability $ 0.6 $ and tails with probability $ 0.4 $. </li>\n",
    "    <li> one cent: heads with probability $ 0.3 $ and tails with probability $ 0.7 $. </li>\n",
    "</ul>\n",
    "\n",
    "Asja flips her coins based on the following <b>protocol</b>: \n",
    "<ol> \n",
    "    <li> she starts with flipping one euro[*]; </li>\n",
    "    <li> whenever she gets heads, she flips one euro in the next round; and, </li>\n",
    "    <li> whenever she gets tails, she flips one cent in the next round. </li>\n",
    "</ol>\n",
    "\n",
    "By using a single bit, we summarize all transitions of this game as follows:\n",
    "\n",
    "$\n",
    "GameCoins = \\begin{array}{c|cc} \\hookleftarrow & \\mathbf{Head} & \\mathbf{Tail} \\\\ \\hline \\mathbf{Head} & 0.6 & 0.3\\\\  \\mathbf{Tail} & 0.4 & 0.7  \\end{array} = \\begin{array}{c|cc} \\hookleftarrow & \\mathbf{0} & \\mathbf{1} \\\\ \\hline \\mathbf{0} & 0.6 & 0.3 \\\\  \\mathbf{1} & 0.4 & 0.7  \\end{array}\n",
    "$\n",
    "\n",
    "[*] We should fix an initial condition. Otherwise, Asja cannot pick any of the coins at the beginning of game.\n",
    "\n",
    "\n",
    "![image.png](attachment:image.png)"
   ]
  },
  {
   "cell_type": "markdown",
   "metadata": {},
   "source": [
    "<h3>Task 1: Convince yourself </h3>\n",
    "\n",
    "Convince yourself about the correctness of transitions given in the table.\n",
    "\n",
    "<i> Remark that there is no difference between getting heads from the one euro coin or from the one cent coin.\n",
    "    \n",
    "Therefore, one bit is enough to represent all transitions.\n",
    "</i>"
   ]
  },
  {
   "cell_type": "markdown",
   "metadata": {},
   "source": [
    "<h3> Tracing Asja's three coin tosses </h3>\n",
    "\n",
    "Suppose that Asja <b>secretly</b> tosses her coins based on the defined protocol.\n",
    "\n",
    "By using python, we can calculate the probabilities of Asja seeing heads and tails after three coin tosses.\n",
    "\n",
    "<i><b>Remark:</b> In the previous tasks of [Coin Flipping](B06_Coin_Flip.ipynb), we know the ideal ratios, and we experiment many coin tosses and then expect to observe the results close to the ideal ratios.\n",
    "    \n",
    "Here we calculate the exact probabilities (the ideal ratio) by using python. (We will not do the experiments as in the previous tasks.)\n",
    "</i>\n",
    "\n",
    "We present our solution step by step."
   ]
  },
  {
   "cell_type": "code",
   "execution_count": 1,
   "metadata": {},
   "outputs": [
    {
     "name": "stdout",
     "output_type": "stream",
     "text": [
      "the probability of getting head after 3 coin tosses is 0.44399999999999995\n",
      "the probability of getting tail after 3 coin tosses is 0.556\n"
     ]
    }
   ],
   "source": [
    "#\n",
    "# OUR SOLUTION\n",
    "#\n",
    "\n",
    "# initial condition:\n",
    "# Asja will start with one euro,\n",
    "#    and so, we assume that the probability of having head is 1 at the beginning.\n",
    "prob_head = 1\n",
    "prob_tail = 0\n",
    "\n",
    "\n",
    "#\n",
    "# first coin-flip\n",
    "#\n",
    "\n",
    "# the new probability of head is calculated by using the first row of table\n",
    "new_prob_head = prob_head * 0.6 + prob_tail * 0.3\n",
    "\n",
    "# the new probability of tail is calculated by using the second row of the table\n",
    "new_prob_tail = prob_head * 0.4 + prob_tail * 0.7\n",
    "\n",
    "# update the probabilities for the second round\n",
    "prob_head = new_prob_head\n",
    "prob_tail = new_prob_tail\n",
    "\n",
    "#\n",
    "# second coin-flip\n",
    "#\n",
    "# we do the same calculations\n",
    "\n",
    "new_prob_head = prob_head * 0.6 + prob_tail * 0.3\n",
    "new_prob_tail = prob_head * 0.4 + prob_tail * 0.7\n",
    "\n",
    "prob_head = new_prob_head\n",
    "prob_tail = new_prob_tail\n",
    "\n",
    "#\n",
    "# third coin-flip\n",
    "#\n",
    "# we do the same calculations\n",
    "\n",
    "new_prob_head = prob_head * 0.6 + prob_tail * 0.3\n",
    "new_prob_tail = prob_head * 0.4 + prob_tail * 0.7\n",
    "\n",
    "prob_head = new_prob_head\n",
    "prob_tail = new_prob_tail\n",
    "\n",
    "# print prob_head and prob_tail\n",
    "print(\"the probability of getting head after 3 coin tosses is\",prob_head)\n",
    "print(\"the probability of getting tail after 3 coin tosses is\",prob_tail)"
   ]
  },
  {
   "cell_type": "markdown",
   "metadata": {},
   "source": [
    "<h3> Task 2: Tracing ten biased coin tosses </h3>\n",
    "\n",
    "By using python, calculate the probabilities of Asja seeing heads and tails after 10 coin tosses.\n",
    "\n",
    "$\n",
    "GameCoins = \\begin{array}{c|cc} \\hookleftarrow & \\mathbf{Head} & \\mathbf{Tail} \\\\ \\hline \\mathbf{Head} & 0.6 & 0.3\\\\  \\mathbf{Tail} & 0.4 & 0.7  \\end{array} = \\begin{array}{c|cc} \\hookleftarrow & \\mathbf{0} & \\mathbf{1} \\\\ \\hline \\mathbf{0} & 0.6 & 0.3 \\\\  \\mathbf{1} & 0.4 & 0.7  \\end{array}\n",
    "$\n",
    "\n",
    "Use a loop in your solution."
   ]
  },
  {
   "cell_type": "code",
   "execution_count": 6,
   "metadata": {},
   "outputs": [
    {
     "name": "stdout",
     "output_type": "stream",
     "text": [
      "[[0.4285748]\n",
      " [0.5714252]]\n"
     ]
    }
   ],
   "source": [
    "import numpy as np \n",
    "\n",
    "biased_op = np.array([[0.6,0.3],[0.4,0.7]])\n",
    "state = np.array([[1],[0]])\n",
    "\n",
    "for i in range(10):\n",
    "    state = np.matmul(biased_op,state)\n",
    "\n",
    "print(state)"
   ]
  },
  {
   "cell_type": "markdown",
   "metadata": {},
   "source": [
    "<a href=\"CS12_Coin_Flip_Game_Solutions.ipynb#task2\">click for our solution</a>"
   ]
  },
  {
   "cell_type": "markdown",
   "metadata": {},
   "source": [
    "<h3> Task 3</h3>\n",
    "\n",
    "Repeat Task 2 for 20, 30, and 50 coin tosses."
   ]
  },
  {
   "cell_type": "code",
   "execution_count": 24,
   "metadata": {},
   "outputs": [
    {
     "name": "stdout",
     "output_type": "stream",
     "text": [
      "Iterations= 20  Resultant state=\n",
      " [[0.42857143]\n",
      " [0.57142857]]\n",
      "Iterations= 30  Resultant state=\n",
      " [[0.42857143]\n",
      " [0.57142857]]\n",
      "Iterations= 50  Resultant state=\n",
      " [[0.42857143]\n",
      " [0.57142857]]\n"
     ]
    }
   ],
   "source": [
    "import numpy as np \n",
    "\n",
    "biased_op = np.array([[0.6,0.3],[0.4,0.7]])\n",
    "state = np.array([[1],[0]])\n",
    "\n",
    "iterations = [20,30,50]\n",
    "result = []\n",
    "\n",
    "for it in iterations:\n",
    "    state = np.array([[1],[0]])\n",
    "    for i in range(it):\n",
    "        state = np.matmul(biased_op,state)\n",
    "    result.append(state)\n",
    "    \n",
    "for it in range(len(iterations)):\n",
    "    print(\"Iterations=\",iterations[it],\" Resultant state=\\n\",result[it])\n"
   ]
  },
  {
   "cell_type": "markdown",
   "metadata": {},
   "source": [
    "<a href=\"CS12_Coin_Flip_Game_Solutions.ipynb#task3\">click for our solution</a>"
   ]
  },
  {
   "cell_type": "markdown",
   "metadata": {},
   "source": [
    "<h3> Task 4</h3>\n",
    "\n",
    "Repeat Task 2 for 10, 20, and 50 coin tosses by picking different initial conditions, e.g., \n",
    "    \n",
    "    prob_head = prob_tail = 1/2\n",
    "or\n",
    "    \n",
    "    prob_head = 0 \n",
    "    prob_tail = 1"
   ]
  },
  {
   "cell_type": "code",
   "execution_count": 25,
   "metadata": {},
   "outputs": [
    {
     "name": "stdout",
     "output_type": "stream",
     "text": [
      "Iterations= 20  Resultant state=\n",
      " [[0.42857143]\n",
      " [0.57142857]]\n",
      "Iterations= 30  Resultant state=\n",
      " [[0.42857143]\n",
      " [0.57142857]]\n",
      "Iterations= 50  Resultant state=\n",
      " [[0.42857143]\n",
      " [0.57142857]]\n"
     ]
    }
   ],
   "source": [
    "import numpy as np \n",
    "\n",
    "biased_op = np.array([[0.6,0.3],[0.4,0.7]])\n",
    "state = np.array([[1],[0]])\n",
    "\n",
    "iterations = [20,30,50]\n",
    "result = []\n",
    "\n",
    "for it in iterations:\n",
    "    state = np.array([[0],[1]])\n",
    "    for i in range(it):\n",
    "        state = np.matmul(biased_op,state)\n",
    "    result.append(state)\n",
    "    \n",
    "for it in range(len(iterations)):\n",
    "    print(\"Iterations=\",iterations[it],\" Resultant state=\\n\",result[it])"
   ]
  },
  {
   "cell_type": "markdown",
   "metadata": {},
   "source": [
    "<a href=\"CS12_Coin_Flip_Game_Solutions.ipynb#task4\">click for our solution</a>"
   ]
  },
  {
   "cell_type": "markdown",
   "metadata": {},
   "source": [
    "<hr>"
   ]
  },
  {
   "cell_type": "markdown",
   "metadata": {},
   "source": [
    "<h3> Extra: Arbitrary transitions for GameCoins</h3>\n",
    "\n",
    "By changing the bias of each Asja's coin, we can define arbitrary GameCoins.\n",
    "\n",
    "If $ a $ is the probability of getting heads for one euro and $ b $ is the probability of getting heads for one cent, then we have the following transitions:\n",
    "\n",
    "$\n",
    "GameCoins(a,b) = \\begin{array}{c|cc} \\hookleftarrow & \\mathbf{Head} & \\mathbf{Tail} \\\\ \\hline \\mathbf{Head} & a & b\\\\  \\mathbf{Tail} & 1-a & 1-b  \\end{array} = \\begin{array}{c|cc} \\hookleftarrow & \\mathbf{0} & \\mathbf{1} \\\\ \\hline \\mathbf{0} & a & b \\\\  \\mathbf{1} & 1-a & 1-b  \\end{array}\n",
    "$"
   ]
  },
  {
   "cell_type": "markdown",
   "metadata": {},
   "source": [
    "<h3> Task 5 </h3>\n",
    "\n",
    "Observe that if $ a=1 $ and $ b = 0 $, then it is Identity operator, i.e., the initial condition will stay as it is.\n",
    "\n",
    "If $ a=0 $ and $ b=1 $, then it is NOT operator. NOT operator swaps the probabilities of heads and tails in each step. If the initial probabilities are not $ 0.5 $ and $ 0.5 $, then the system never converges to a fixed probabilities."
   ]
  },
  {
   "cell_type": "code",
   "execution_count": 1,
   "metadata": {},
   "outputs": [],
   "source": [
    "import numpy as np \n",
    "\n",
    "def GameCoins(a,b):\n",
    "    \n",
    "    if(a+b!=1):\n",
    "        return np.array([[1,0],[0,1]]) # identity \n",
    "    else:\n",
    "        return np.array([[a,b],[1-a,1-b]])\n"
   ]
  },
  {
   "cell_type": "code",
   "execution_count": 3,
   "metadata": {},
   "outputs": [
    {
     "name": "stdout",
     "output_type": "stream",
     "text": [
      "Starting with head\n",
      "Result after Identity Toss= 0 : Head:Tail =  1 : 0\n",
      "Result after Identity Toss= 1 : Head:Tail =  1 : 0\n",
      "Result after Identity Toss= 2 : Head:Tail =  1 : 0\n",
      "Result after Identity Toss= 3 : Head:Tail =  1 : 0\n",
      "Result after Identity Toss= 4 : Head:Tail =  1 : 0\n",
      "Result after Identity Toss= 5 : Head:Tail =  1 : 0\n",
      "Result after Identity Toss= 6 : Head:Tail =  1 : 0\n",
      "Result after Identity Toss= 7 : Head:Tail =  1 : 0\n",
      "Result after Identity Toss= 8 : Head:Tail =  1 : 0\n",
      "Result after Identity Toss= 9 : Head:Tail =  1 : 0\n"
     ]
    }
   ],
   "source": [
    "state = np.array([[1],[0]]) # Head \n",
    "print(\"Starting with head\")\n",
    "for i in range(10):\n",
    "    operator_id = GameCoins(1,0) # identity \n",
    "    state = np.matmul(operator_id,state) \n",
    "    print(\"Result after Identity Toss=\",i,\": Head:Tail = \",state[0][0],\":\",state[1][0])"
   ]
  },
  {
   "cell_type": "code",
   "execution_count": 4,
   "metadata": {},
   "outputs": [
    {
     "name": "stdout",
     "output_type": "stream",
     "text": [
      "Starting with head\n",
      "Result after Identity Toss= 0 : Head:Tail =  0 : 1\n",
      "Result after Identity Toss= 1 : Head:Tail =  1 : 0\n",
      "Result after Identity Toss= 2 : Head:Tail =  0 : 1\n",
      "Result after Identity Toss= 3 : Head:Tail =  1 : 0\n",
      "Result after Identity Toss= 4 : Head:Tail =  0 : 1\n",
      "Result after Identity Toss= 5 : Head:Tail =  1 : 0\n",
      "Result after Identity Toss= 6 : Head:Tail =  0 : 1\n",
      "Result after Identity Toss= 7 : Head:Tail =  1 : 0\n",
      "Result after Identity Toss= 8 : Head:Tail =  0 : 1\n",
      "Result after Identity Toss= 9 : Head:Tail =  1 : 0\n"
     ]
    }
   ],
   "source": [
    "state = np.array([[1],[0]]) # Head    \n",
    "print(\"Starting with head\")\n",
    "for i in range(10):\n",
    "    operator_not = GameCoins(0,1) # NOT \n",
    "    state = np.matmul(operator_not,state) \n",
    "    print(\"Result after Identity Toss=\",i,\": Head:Tail = \",state[0][0],\":\",state[1][0])"
   ]
  },
  {
   "cell_type": "code",
   "execution_count": 5,
   "metadata": {},
   "outputs": [
    {
     "name": "stdout",
     "output_type": "stream",
     "text": [
      "Starting with head\n",
      "Result after Identity Toss= 0 : Head:Tail =  0.5 : 0.5\n",
      "Result after Identity Toss= 1 : Head:Tail =  0.5 : 0.5\n",
      "Result after Identity Toss= 2 : Head:Tail =  0.5 : 0.5\n",
      "Result after Identity Toss= 3 : Head:Tail =  0.5 : 0.5\n",
      "Result after Identity Toss= 4 : Head:Tail =  0.5 : 0.5\n",
      "Result after Identity Toss= 5 : Head:Tail =  0.5 : 0.5\n",
      "Result after Identity Toss= 6 : Head:Tail =  0.5 : 0.5\n",
      "Result after Identity Toss= 7 : Head:Tail =  0.5 : 0.5\n",
      "Result after Identity Toss= 8 : Head:Tail =  0.5 : 0.5\n",
      "Result after Identity Toss= 9 : Head:Tail =  0.5 : 0.5\n"
     ]
    }
   ],
   "source": [
    "state = np.array([[1],[0]]) # Head    \n",
    "print(\"Starting with head\")\n",
    "for i in range(10):\n",
    "    operator_fair = GameCoins(0.5,0.5) # Fair \n",
    "    state = np.matmul(operator_fair,state) \n",
    "    print(\"Result after Identity Toss=\",i,\": Head:Tail = \",state[0][0],\":\",state[1][0])\n"
   ]
  },
  {
   "cell_type": "markdown",
   "metadata": {},
   "source": [
    "<h3> Task 6</h3>\n",
    "\n",
    "Randomly pick the values of $ a $ and $ b $, and then implement Tasks 3 and 4 for $ GameCoins(a,b) $."
   ]
  },
  {
   "cell_type": "code",
   "execution_count": 21,
   "metadata": {},
   "outputs": [],
   "source": [
    "import numpy as np \n",
    "\n",
    "def GameCoins2(a,b):\n",
    "    return np.array([[a,b],[1-a,1-b]])\n",
    "\n",
    "\n",
    "a = np.round(np.random.rand(1)[0],1)\n",
    "b = np.round(np.random.rand(1)[0],1)\n",
    "\n",
    "#print(\"a=\",a,\" b=\",b)\n",
    "#print()\n",
    "#print(\"1-a=\",1-a,\" 1-b=\",1-b)\n",
    "#print()\n",
    "\n",
    "biased_op = GameCoins2(a,b)\n",
    "state = np.array([[1],[0]]) # Head  \n"
   ]
  },
  {
   "cell_type": "code",
   "execution_count": 22,
   "metadata": {},
   "outputs": [
    {
     "name": "stdout",
     "output_type": "stream",
     "text": [
      "Initial state is head\n",
      "Biased operator is\n",
      " [[0.3 0.6]\n",
      " [0.7 0.4]]\n",
      "Result after Biased Tossese= 1 : \tHead:Tail = \t 0.6 \t:\t 0.4\n",
      "Result after Biased Tossese= 2 : \tHead:Tail = \t 0.42 \t:\t 0.58\n",
      "Result after Biased Tossese= 8 : \tHead:Tail = \t 0.4615081799999999 \t:\t 0.5384918199999998\n",
      "Result after Biased Tossese= 16 : \tHead:Tail = \t 0.46153845955168954 \t:\t 0.53846154044831\n",
      "Result after Biased Tossese= 32 : \tHead:Tail = \t 0.46153846153846123 \t:\t 0.5384615384615381\n",
      "Result after Biased Tossese= 64 : \tHead:Tail = \t 0.46153846153846123 \t:\t 0.5384615384615381\n",
      "Result after Biased Tossese= 100 : \tHead:Tail = \t 0.46153846153846123 \t:\t 0.5384615384615381\n",
      "Result after Biased Tossese= 1000 : \tHead:Tail = \t 0.46153846153846123 \t:\t 0.5384615384615381\n"
     ]
    }
   ],
   "source": [
    "\n",
    "print(\"Initial state is head\")\n",
    "print(\"Biased operator is\\n\",biased_op)\n",
    "\n",
    "iterations = [1,2,8,16,32,64,100,1000]\n",
    "result = []\n",
    "\n",
    "for it in iterations:\n",
    "    state = np.array([[0],[1]])\n",
    "    for i in range(it):\n",
    "        state = np.matmul(biased_op,state)\n",
    "    result.append(state)\n",
    "    \n",
    "for it in range(len(iterations)):\n",
    "    print(\"Result after Biased Tossese=\",iterations[it],\": \\tHead:Tail = \\t\",result[it][0][0],\"\\t:\\t\",result[it][1][0])\n",
    "\n"
   ]
  },
  {
   "cell_type": "markdown",
   "metadata": {},
   "source": [
    "<h3> Task 7</h3>\n",
    "\n",
    "10 times repeat Task 6 and observe whether the probabilities converge in each time."
   ]
  },
  {
   "cell_type": "code",
   "execution_count": 36,
   "metadata": {},
   "outputs": [
    {
     "name": "stdout",
     "output_type": "stream",
     "text": [
      "a= 0.6768629400313702  b= 0.39908911158863514\n",
      "\n",
      "1-a= 0.32313705996862985  1-b= 0.6009108884113649\n",
      "\n",
      "[[0.67686294 0.39908911]\n",
      " [0.32313706 0.60091089]]\n",
      "\n",
      "Iterations= 1  Resultant state=\n",
      " [[0.39908911]\n",
      " [0.60091089]]\n",
      "Iterations= 10  Resultant state=\n",
      " [[0.55258039]\n",
      " [0.44741961]]\n",
      "Iterations= 100  Resultant state=\n",
      " [[0.5525819]\n",
      " [0.4474181]]\n",
      "Iterations= 1000  Resultant state=\n",
      " [[0.5525819]\n",
      " [0.4474181]]\n",
      "Iterations= 10000  Resultant state=\n",
      " [[0.5525819]\n",
      " [0.4474181]]\n"
     ]
    }
   ],
   "source": [
    "import numpy as np \n",
    "\n",
    "def GameCoins2(a,b):\n",
    "    return np.array([[a,b],[1-a,1-b]])\n",
    "\n",
    "\n",
    "a = np.random.rand(1)[0]\n",
    "b = np.random.rand(1)[0]\n",
    "\n",
    "print(\"a=\",a,\" b=\",b)\n",
    "print()\n",
    "print(\"1-a=\",1-a,\" 1-b=\",1-b)\n",
    "print()\n",
    "\n",
    "biased_op = GameCoins2(a,b)\n",
    "state = np.array([[1],[0]]) # Head  \n",
    "\n",
    "print(biased_op)\n",
    "print()\n",
    "\n",
    "iterations = [1,10,100,1000,10000]\n",
    "result = []\n",
    "\n",
    "for it in iterations:\n",
    "    state = np.array([[0],[1]])\n",
    "    for i in range(it):\n",
    "        state = np.matmul(biased_op,state)\n",
    "    result.append(state)\n",
    "    \n",
    "for it in range(len(iterations)):\n",
    "    print(\"Iterations=\",iterations[it],\" Resultant state=\\n\",result[it])\n",
    "\n"
   ]
  },
  {
   "cell_type": "markdown",
   "metadata": {},
   "source": [
    "<h3>Task 8</h3>\n",
    "\n",
    "We can rewrite arbitrary GameCoins as \n",
    "\n",
    "$  \\begin{array}{c|cc} \\hookleftarrow & \\mathbf{Head} & \\mathbf{Tail} \\\\ \\hline \\mathbf{Head} & 1-y & x\\\\  \\mathbf{Tail} & y & 1-x  \\end{array} = \\begin{array}{c|cc} \\hookleftarrow & \\mathbf{0} & \\mathbf{1} \\\\ \\hline \\mathbf{0} & 1-y & x \\\\  \\mathbf{1} & y & 1-x  \\end{array}.\n",
    "$ \n",
    "\n",
    "We assume that it is neither Identity nor NOT operator. Then, independent of the initial state, the system always converges to \n",
    "\n",
    "$ Pr[\\mbox{\"heads\"}] = \\dfrac{x}{x+y} $ and $ Pr[\\mbox{\"tails\"}]=\\dfrac{y}{x+y} $, \n",
    "\n",
    "which are the probabilities of getting heads and tails, respectively.\n",
    "\n",
    "Observe this fact by checking the results of Task 7."
   ]
  },
  {
   "cell_type": "code",
   "execution_count": 44,
   "metadata": {},
   "outputs": [
    {
     "name": "stdout",
     "output_type": "stream",
     "text": [
      "[[0.67686294 0.39908911]\n",
      " [0.32313706 0.60091089]]\n",
      "\n",
      "[[0.553]\n",
      " [0.447]]\n",
      "\n",
      "0.553\n",
      "0.447\n",
      "Is Pr_heads verified: [ True]\n",
      "Is Pr_tails verified: [ True]\n"
     ]
    }
   ],
   "source": [
    "# Verification:\n",
    "\n",
    "print(biased_op)\n",
    "print()\n",
    "\n",
    "\n",
    "\n",
    "print(np.round(result[-1], 3)) \n",
    "print()\n",
    "\n",
    "pr_heads = biased_op[0][1] / (biased_op[0][1]+biased_op[1][0])\n",
    "pr_heads = np.round(pr_heads,3)\n",
    "print(pr_heads)\n",
    "\n",
    "pr_tails = biased_op[1][0] / (biased_op[0][1]+biased_op[1][0])\n",
    "pr_tails = np.round(pr_tails,3)\n",
    "print(pr_tails)\n",
    "\n",
    "print(\"Is Pr_heads verified:\",pr_heads==np.round(result[-1][0],3) )\n",
    "print(\"Is Pr_tails verified:\",pr_tails==np.round(result[-1][1],3) )"
   ]
  },
  {
   "cell_type": "code",
   "execution_count": 23,
   "metadata": {},
   "outputs": [],
   "source": [
    "import numpy as np \n",
    "\n",
    "def GameCoins2(a,b):\n",
    "    return np.array([[a,b],[1-a,1-b]])\n",
    "\n",
    "\n",
    "a = np.round(np.random.rand(1)[0],1)\n",
    "b = np.round(np.random.rand(1)[0],1)\n",
    "\n",
    "#print(\"a=\",a,\" b=\",b)\n",
    "#print()\n",
    "#print(\"1-a=\",1-a,\" 1-b=\",1-b)\n",
    "#print()\n",
    "\n",
    "biased_op = GameCoins2(a,b)\n",
    "state = np.array([[1],[0]]) # Head  \n",
    "\n",
    "\n",
    "\n",
    "actual_p_head = biased_op[0][1] / (biased_op[0][1] + biased_op[1][0])\n",
    "actual_p_tail = biased_op[1][0] / (biased_op[0][1] + biased_op[1][0])"
   ]
  },
  {
   "cell_type": "code",
   "execution_count": 25,
   "metadata": {},
   "outputs": [
    {
     "name": "stdout",
     "output_type": "stream",
     "text": [
      "Initial state is head\n",
      "Biased operator is\n",
      " [[0.9 0.3]\n",
      " [0.1 0.7]]\n",
      "Result after Biased Tossese= 1 : \tHead:Tail = \t 0.3 \t:\t 0.7\n",
      "Result after Biased Tossese= 2 : \tHead:Tail = \t 0.48 \t:\t 0.5199999999999999\n",
      "Result after Biased Tossese= 8 : \tHead:Tail = \t 0.73740288 \t:\t 0.2625971199999999\n",
      "Result after Biased Tossese= 16 : \tHead:Tail = \t 0.7497884167569407 \t:\t 0.25021158324305914\n",
      "Result after Biased Tossese= 32 : \tHead:Tail = \t 0.7499999403100416 \t:\t 0.25000005968995825\n",
      "Result after Biased Tossese= 64 : \tHead:Tail = \t 0.7499999999999948 \t:\t 0.25000000000000455\n",
      "Result after Biased Tossese= 100 : \tHead:Tail = \t 0.7499999999999993 \t:\t 0.24999999999999975\n",
      "Result after Biased Tossese= 1000 : \tHead:Tail = \t 0.7499999999999993 \t:\t 0.24999999999999975\n",
      "Actual P(H):  0.75\n",
      "Actual P(H):  0.24999999999999997\n",
      "Compare and see...\n"
     ]
    }
   ],
   "source": [
    "print(\"Initial state is head\")\n",
    "print(\"Biased operator is\\n\",biased_op)\n",
    "\n",
    "iterations = [1,2,8,16,32,64,100,1000]\n",
    "result = []\n",
    "\n",
    "for it in iterations:\n",
    "    state = np.array([[0],[1]])\n",
    "    for i in range(it):\n",
    "        state = np.matmul(biased_op,state)\n",
    "    result.append(state)\n",
    "    \n",
    "for it in range(len(iterations)):\n",
    "    print(\"Result after Biased Tossese=\",iterations[it],\": \\tHead:Tail = \\t\",result[it][0][0],\"\\t:\\t\",result[it][1][0])\n",
    "\n",
    "    \n",
    "print(\"Actual P(H): \",actual_p_head)\n",
    "print(\"Actual P(H): \",actual_p_tail)\n",
    "\n",
    "print(\"Compare and see...\")"
   ]
  },
  {
   "cell_type": "code",
   "execution_count": null,
   "metadata": {},
   "outputs": [],
   "source": []
  }
 ],
 "metadata": {
  "kernelspec": {
   "display_name": "Python 3 (ipykernel)",
   "language": "python",
   "name": "python3"
  },
  "language_info": {
   "codemirror_mode": {
    "name": "ipython",
    "version": 3
   },
   "file_extension": ".py",
   "mimetype": "text/x-python",
   "name": "python",
   "nbconvert_exporter": "python",
   "pygments_lexer": "ipython3",
   "version": "3.10.5"
  }
 },
 "nbformat": 4,
 "nbformat_minor": 2
}
