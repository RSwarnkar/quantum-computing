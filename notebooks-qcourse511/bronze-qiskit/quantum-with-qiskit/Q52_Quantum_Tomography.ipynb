{
 "cells": [
  {
   "cell_type": "markdown",
   "metadata": {},
   "source": [
    "<a href=\"https://qworld.net\" target=\"_blank\" align=\"left\"><img src=\"../qworld/images/header.jpg\"  align=\"left\"></a>\n",
    "$ \\newcommand{\\bra}[1]{\\langle #1|} $\n",
    "$ \\newcommand{\\ket}[1]{|#1\\rangle} $\n",
    "$ \\newcommand{\\braket}[2]{\\langle #1|#2\\rangle} $\n",
    "$ \\newcommand{\\dot}[2]{ #1 \\cdot #2} $\n",
    "$ \\newcommand{\\biginner}[2]{\\left\\langle #1,#2\\right\\rangle} $\n",
    "$ \\newcommand{\\mymatrix}[2]{\\left( \\begin{array}{#1} #2\\end{array} \\right)} $\n",
    "$ \\newcommand{\\myvector}[1]{\\mymatrix{c}{#1}} $\n",
    "$ \\newcommand{\\myrvector}[1]{\\mymatrix{r}{#1}} $\n",
    "$ \\newcommand{\\mypar}[1]{\\left( #1 \\right)} $\n",
    "$ \\newcommand{\\mybigpar}[1]{ \\Big( #1 \\Big)} $\n",
    "$ \\newcommand{\\sqrttwo}{\\frac{1}{\\sqrt{2}}} $\n",
    "$ \\newcommand{\\dsqrttwo}{\\dfrac{1}{\\sqrt{2}}} $\n",
    "$ \\newcommand{\\onehalf}{\\frac{1}{2}} $\n",
    "$ \\newcommand{\\donehalf}{\\dfrac{1}{2}} $\n",
    "$ \\newcommand{\\hadamard}{ \\mymatrix{rr}{ \\sqrttwo & \\sqrttwo \\\\ \\sqrttwo & -\\sqrttwo }} $\n",
    "$ \\newcommand{\\vzero}{\\myvector{1\\\\0}} $\n",
    "$ \\newcommand{\\vone}{\\myvector{0\\\\1}} $\n",
    "$ \\newcommand{\\stateplus}{\\myvector{ \\sqrttwo \\\\  \\sqrttwo } } $\n",
    "$ \\newcommand{\\stateminus}{ \\myrvector{ \\sqrttwo \\\\ -\\sqrttwo } } $\n",
    "$ \\newcommand{\\myarray}[2]{ \\begin{array}{#1}#2\\end{array}} $\n",
    "$ \\newcommand{\\X}{ \\mymatrix{cc}{0 & 1 \\\\ 1 & 0}  } $\n",
    "$ \\newcommand{\\I}{ \\mymatrix{rr}{1 & 0 \\\\ 0 & 1}  } $\n",
    "$ \\newcommand{\\Z}{ \\mymatrix{rr}{1 & 0 \\\\ 0 & -1}  } $\n",
    "$ \\newcommand{\\Htwo}{ \\mymatrix{rrrr}{ \\frac{1}{2} & \\frac{1}{2} & \\frac{1}{2} & \\frac{1}{2} \\\\ \\frac{1}{2} & -\\frac{1}{2} & \\frac{1}{2} & -\\frac{1}{2} \\\\ \\frac{1}{2} & \\frac{1}{2} & -\\frac{1}{2} & -\\frac{1}{2} \\\\ \\frac{1}{2} & -\\frac{1}{2} & -\\frac{1}{2} & \\frac{1}{2} } } $\n",
    "$ \\newcommand{\\CNOT}{ \\mymatrix{cccc}{1 & 0 & 0 & 0 \\\\ 0 & 1 & 0 & 0 \\\\ 0 & 0 & 0 & 1 \\\\ 0 & 0 & 1 & 0} } $\n",
    "$ \\newcommand{\\norm}[1]{ \\left\\lVert #1 \\right\\rVert } $\n",
    "$ \\newcommand{\\pstate}[1]{ \\lceil \\mspace{-1mu} #1 \\mspace{-1.5mu} \\rfloor } $\n",
    "$ \\newcommand{\\greenbit}[1] {\\mathbf{{\\color{green}#1}}} $\n",
    "$ \\newcommand{\\bluebit}[1] {\\mathbf{{\\color{blue}#1}}} $\n",
    "$ \\newcommand{\\redbit}[1] {\\mathbf{{\\color{red}#1}}} $\n",
    "$ \\newcommand{\\brownbit}[1] {\\mathbf{{\\color{brown}#1}}} $\n",
    "$ \\newcommand{\\blackbit}[1] {\\mathbf{{\\color{black}#1}}} $"
   ]
  },
  {
   "cell_type": "markdown",
   "metadata": {},
   "source": [
    "<font style=\"font-size:28px;\" align=\"left\"><b>Quantum Tomography  </b></font>\n",
    "<br>\n",
    "_prepared by Abuzer Yakaryilmaz_\n",
    "<br><br>\n",
    "[<img src=\"../qworld/images/watch_lecture.jpg\" align=\"left\">](https://youtu.be/mIEiWCJ6R58)\n",
    "<br><br><br>"
   ]
  },
  {
   "cell_type": "markdown",
   "metadata": {},
   "source": [
    "We study a simplified version of quantum tomography here. \n",
    "\n",
    "It is similar to learn the bias of a coin by collecting statistics from tossing this coin many times. But, only making measurement may not be enough to make a good guess.\n",
    "\n",
    "Suppose that you are given 1000 copies of a qubit and your task is to learn the state of this qubit. We use a python class called \"unknown_qubit\" for doing our quantum experiments. \n",
    "\n",
    "Please run the following cell before continuing."
   ]
  },
  {
   "cell_type": "code",
   "execution_count": 1,
   "metadata": {},
   "outputs": [],
   "source": [
    "# class unknown_qubit\n",
    "#   available_qubit = 1000 -> you get at most 1000 qubit copies\n",
    "#   get_qubits(number_of_qubits) -> you get the specified number of qubits for your experiment\n",
    "#   measure_qubits() -> your qubits are measured and the result is returned as a dictionary variable\n",
    "#                    -> after measurement, these qubits are destroyed\n",
    "#   rotate_qubits(angle) -> your qubits are rotated with the specified angle in radian\n",
    "#   compare_my_guess(my_angle) -> your guess in radian is compared with the real angle\n",
    "\n",
    "from random import randrange\n",
    "from math import pi\n",
    "from qiskit import QuantumRegister, ClassicalRegister, QuantumCircuit, execute, Aer\n",
    "class unknown_qubit:   \n",
    "    def __init__(self):\n",
    "        self.__theta = randrange(18000)/18000*pi        \n",
    "        self.__available_qubits = 1000\n",
    "        self.__active_qubits = 0\n",
    "        print(self.__available_qubits,\"qubits are created\")\n",
    "    \n",
    "    def get_qubits(self,number_of_qubits=None):\n",
    "        if number_of_qubits is None or isinstance(number_of_qubits,int) is False or number_of_qubits < 1:\n",
    "            print()\n",
    "            print(\"ERROR: the method 'get_qubits' takes the number of qubit(s) as a positive integer, i.e., get_qubits(100)\")\n",
    "        elif number_of_qubits <= self.__available_qubits:\n",
    "            self.__qc = QuantumCircuit(1,1)\n",
    "            self.__qc.ry(2 * self.__theta,0)\n",
    "            self.__active_qubits = number_of_qubits\n",
    "            self.__available_qubits = self.__available_qubits - self.__active_qubits\n",
    "            print()\n",
    "            print(\"You have\",number_of_qubits,\"active qubits that are set to (cos(theta),sin(theta))\")\n",
    "            self.available_qubits()\n",
    "        else:\n",
    "            print()\n",
    "            print(\"WARNING: you requested\",number_of_qubits,\"qubits, but there is not enough available qubits!\")\n",
    "            self.available_qubits()\n",
    "            \n",
    "    def measure_qubits(self):    \n",
    "        if self.__active_qubits > 0:            \n",
    "            self.__qc.measure(0,0)\n",
    "            job = execute(self.__qc,Aer.get_backend('qasm_simulator'),shots=self.__active_qubits)\n",
    "            counts = job.result().get_counts(self.__qc)\n",
    "            print()\n",
    "            print(\"your\",self.__active_qubits,\"qubits are measured\")\n",
    "            print(\"counts = \",counts)\n",
    "            self.__active_qubits = 0\n",
    "            return counts\n",
    "        else:\n",
    "            print()\n",
    "            print(\"WARNING: there is no active qubits -- you might first execute 'get_qubits()' method\")\n",
    "            self.available_qubits()\n",
    "            \n",
    "    def rotate_qubits(self,angle=None):\n",
    "        if angle is None or (isinstance(angle,float) is False and isinstance(angle,int) is False):\n",
    "            print()\n",
    "            print(\"ERROR: the method 'rotate_qubits' takes a real-valued angle in radian as its parameter, i.e., rotate_qubits(1.2121)\")\n",
    "        elif self.__active_qubits > 0:\n",
    "            self.__qc.ry(2 * angle,0)\n",
    "            print()\n",
    "            print(\"your active qubits are rotated by angle\",angle,\"in radian\")\n",
    "        else:\n",
    "            print()\n",
    "            print(\"WARNING: there is no active qubits -- you might first execute 'get_qubits()' method\")\n",
    "            self.available_qubits()    \n",
    "    \n",
    "    def compare_my_guess(self,my_angle):\n",
    "        if my_angle is None or (isinstance(my_angle,float) is False and isinstance(my_angle,int) is False):\n",
    "            print(\"ERROR: the method 'compare_my_guess' takes a real-valued angle in radian as your guessed angle, i.e., compare_my_guess(1.2121)\")\n",
    "        else:\n",
    "            self.__available_qubits = 0\n",
    "            diff = abs(my_angle-self.__theta)\n",
    "            print()\n",
    "            print(self.__theta,\"is the original\",)\n",
    "            print(my_angle,\"is your guess\")\n",
    "            print(\"the angle difference between the original theta and your guess is\",diff/pi*180,\"degree\")\n",
    "            print(\"-->the number of available qubits is (set to) zero, and so you cannot make any further experiment\")\n",
    "\n",
    "    def available_qubits(self):\n",
    "        print(\"--> the number of available unused qubit(s) is\",self.__available_qubits)              "
   ]
  },
  {
   "cell_type": "markdown",
   "metadata": {},
   "source": [
    "class unknown_qubit:\n",
    "    \n",
    "    available_qubit = 1000 -> you get at most 1000 qubit copies\n",
    "    get_qubits(number_of_qubits) -> you get the specified number of qubits for your experiment\n",
    "    measure_qubits() -> your qubits are measured and the result is returned as a dictionary variable\n",
    "                     -> after measurement, these qubits are destroyed\n",
    "    rotate_qubits(angle) -> your qubits are rotated with the specified angle in radian\n",
    "    compare_my_guess(my_angle) -> your guess in radian is compared with the real angle"
   ]
  },
  {
   "cell_type": "markdown",
   "metadata": {},
   "source": [
    "<h3> Task 1 </h3>\n",
    "\n",
    "You are given 1000 copies of the identical qubits which are in the same quantum state lying in the first or second quadrant of the unit circle. \n",
    "\n",
    "This quantum state is represented by an angle $ \\theta \\in [0,\\pi) $, and your task is to guess this angle.\n",
    "\n",
    "You use the class __unknown_qubit__ and its methods for your experiments. \n",
    "\n",
    "_Remark that the measurement outcomes of the quantum states with angles $ \\pi \\over 3 $ and $ 2 \\pi \\over 3 $ are identical even though they are different quantum states. Therefore, getting 1000 qubits and then measuring them does not guarantee the correct answer._\n",
    "\n",
    "Test your solution at least ten times."
   ]
  },
  {
   "cell_type": "code",
   "execution_count": null,
   "metadata": {},
   "outputs": [],
   "source": [
    "from math import pi, cos, sin, acos, asin\n",
    "\n",
    "my_experiment = unknown_qubit()\n",
    "\n",
    "# we use 900 copies to determine our two candidates\n",
    "my_experiment.get_qubits(900)\n",
    "counts = my_experiment.measure_qubits()\n",
    "\n",
    "number_of_observed_zeros = 0\n",
    "if '0' in counts:\n",
    "    number_of_observed_zeros = counts['0']\n",
    "\n",
    "probability_of_observing_zeros = number_of_observed_zeros/900\n",
    "cos_theta = probability_of_observing_zeros ** 0.5\n",
    "theta = acos(cos_theta)\n",
    "\n",
    "theta_first_candidate = theta\n",
    "theta_second_candidate = pi-theta\n",
    "\n",
    "print(\"the first candidate is\",theta_first_candidate,\"in radian and\",theta_first_candidate*180/pi,\"in degree\")\n",
    "print(\"the second candidate is\",theta_second_candidate,\"in radian and\",theta_second_candidate*180/pi,\"in degree\")"
   ]
  },
  {
   "cell_type": "code",
   "execution_count": null,
   "metadata": {},
   "outputs": [],
   "source": [
    "my_experiment.get_qubits(100)\n",
    "my_experiment.rotate_qubits(-1 * theta_first_candidate)\n",
    "\n",
    "counts = my_experiment.measure_qubits()\n",
    "number_of_observed_zeros = 0\n",
    "if '0' in counts:\n",
    "    number_of_observed_zeros = counts['0']\n",
    "\n",
    "if number_of_observed_zeros == 100:\n",
    "    my_guess = theta_first_candidate\n",
    "else:\n",
    "    my_guess = theta_second_candidate\n",
    "    \n",
    "my_experiment.compare_my_guess(my_guess)"
   ]
  },
  {
   "cell_type": "code",
   "execution_count": null,
   "metadata": {},
   "outputs": [],
   "source": [
    "for i in range(10):\n",
    "    print(\"Experiment\",(i+1))\n",
    "    print(\"___________\")\n",
    "    print()\n",
    "    my_experiment = unknown_qubit()\n",
    "    my_experiment.get_qubits(900)\n",
    "    counts = my_experiment.measure_qubits()\n",
    "\n",
    "    number_of_observed_zeros = 0\n",
    "    if '0' in counts:\n",
    "        number_of_observed_zeros = counts['0']\n",
    "\n",
    "    probability_of_observing_zeros = number_of_observed_zeros/900\n",
    "    cos_theta = probability_of_observing_zeros ** 0.5\n",
    "    theta = acos(cos_theta)\n",
    "\n",
    "    theta_first_candidate = theta\n",
    "    theta_second_candidate = pi-theta\n",
    "    \n",
    "    my_experiment.get_qubits(100)\n",
    "    my_experiment.rotate_qubits(-1 * theta_first_candidate)\n",
    "\n",
    "    counts = my_experiment.measure_qubits()\n",
    "    number_of_observed_zeros = 0\n",
    "    if '0' in counts:\n",
    "        number_of_observed_zeros = counts['0']\n",
    "\n",
    "    if number_of_observed_zeros == 100:\n",
    "        my_guess = theta_first_candidate\n",
    "    else:\n",
    "        my_guess = theta_second_candidate\n",
    "\n",
    "    my_experiment.compare_my_guess(my_guess)\n",
    "    print()\n",
    "    print()\n",
    "    print()"
   ]
  },
  {
   "cell_type": "markdown",
   "metadata": {},
   "source": [
    "[click for our solution](Q52_Quantum_Tomography_Solution.ipynb#task1)"
   ]
  },
  {
   "cell_type": "markdown",
   "metadata": {},
   "source": [
    "<h3> Task 2 (extra) </h3>\n",
    "\n",
    "You are given 1000 identical quantum systems with two qubits that are in states $ \\myvector{\\cos \\theta_1 \\\\ \\sin \\theta_1} $ and $ \\myvector{\\cos \\theta_2 \\\\ \\sin \\theta_2} $, where $ \\theta_1,\\theta_2 \\in [0,\\pi) $.\n",
    "\n",
    "Your task is to guess the values of $ \\theta_1 $ and $ \\theta_2 $. \n",
    "\n",
    "Create a quantum circuit with two qubits. \n",
    "\n",
    "Randomly pick $\\theta_1$ and $ \\theta_2 $ and set the states of qubits respectively. (Do not use $ \\theta_1 $ and $ \\theta_2 $ except initializing the qubits.)\n",
    "\n",
    "Do experiments (making measurements and/or applying basic quantum operators) with your circuit(s). You may create more than one circuit.\n",
    "\n",
    "Assume that the total number of shots does not exceed 1000 throughout the whole experiment.\n",
    "\n",
    "_Since you have two qubits, your measurement outcomes will be '00', '01', '10', and '11'._"
   ]
  },
  {
   "cell_type": "markdown",
   "metadata": {},
   "source": [
    "### Approach:\n",
    "\n",
    "Given \n",
    "\n",
    "$ \\vert q_0 \\rangle = \\begin{bmatrix} \\cos\\alpha \\\\ \\sin\\alpha \\end{bmatrix} $\n",
    "$ \\vert q_1 \\rangle = \\begin{bmatrix} \\cos\\beta \\\\ \\sin\\beta \\end{bmatrix}$\n",
    "\n",
    "\n",
    "Therefore\n",
    "\n",
    "$$\n",
    "\\vert q_0 \\rangle  \\otimes \\vert q_1 \\rangle = \\begin{bmatrix} \\cos\\alpha \\\\ \\sin\\alpha \\end{bmatrix} \\otimes \\begin{bmatrix} \\cos\\beta \\\\ \\sin\\beta \\end{bmatrix} = \n",
    "\\begin{bmatrix} \\cos\\alpha . \\cos\\beta \\\\ \n",
    "\\cos\\alpha . \\sin\\beta \\\\\n",
    "\\sin\\alpha . \\cos\\beta \\\\\n",
    "\\sin\\alpha . \\sin\\beta \\\\\n",
    "\\end{bmatrix} = \\vert q_0q_1 \\rangle\n",
    "$$\n",
    "\n",
    "\n",
    "Thus measurement probability should be: \n",
    "$$\n",
    "P(\\vert 00 \\rangle) = \\cos^2\\alpha . \\cos^2\\beta = x   \\\\ \n",
    "P(\\vert 01 \\rangle) = \\cos^2\\alpha . \\sin^2\\beta = y   \\\\\n",
    "P(\\vert 10 \\rangle) = \\sin^2\\alpha . \\cos^2\\beta = z   \\\\\n",
    "P(\\vert 11 \\rangle) = \\sin^2\\alpha . \\sin^2\\beta = w   \\\\\n",
    "$$\n",
    "\n",
    "\n",
    "```\n",
    "Quantum_State_1 = [cosA, sinA]\n",
    "Quantum_State_2 = [cosB, sinB]\n",
    "\n",
    "sqrt('00') = cosAcosB\n",
    "sqrt('01') = cosAsinB\n",
    "sqrt('10') = sinAcosB\n",
    "sqrt('11') = sinAsinB\n",
    "\n",
    "sinAcosB + cosAsinB = sin(A+B)\n",
    "sinAcosB - cosAsinB = sin(A-B)\n",
    "cosAcosB - sinAsinB = cos(A+B)\n",
    "cosAcosB + sinAsinB = cos(A-B)\n",
    "\n",
    "[(A+B) + (A-B)]/2 = A\n",
    "[(A+B) - (A-B)]/2 = B\n",
    "```"
   ]
  },
  {
   "cell_type": "code",
   "execution_count": 1,
   "metadata": {},
   "outputs": [
    {
     "name": "stdout",
     "output_type": "stream",
     "text": [
      "Secret or unknown Theta1:  0.71  Radians or  40.680003454288446  Degrees\n",
      "Secret or unknown Theta2:  1.0  Radians or  57.29577951308232  Degrees\n"
     ]
    },
    {
     "data": {
      "image/png": "[encoded data removed]",
      "text/plain": [
       "<Figure size 370.906x284.278 with 1 Axes>"
      ]
     },
     "execution_count": 1,
     "metadata": {},
     "output_type": "execute_result"
    }
   ],
   "source": [
    "import numpy as np\n",
    "import random\n",
    "import math\n",
    "from qiskit import QuantumCircuit, QuantumRegister, ClassicalRegister, execute, Aer\n",
    "from qiskit.visualization import plot_histogram \n",
    "\n",
    "# Select two hidden, unknown angles => Initial States of 2 qubits\n",
    "secret_theta1 = np.around(random.uniform(0,math.pi),2)\n",
    "secret_theta2 = np.around(random.uniform(0,math.pi),2)\n",
    "\n",
    "print(\"Secret or unknown Theta1: \", secret_theta1,\" Radians or \",(secret_theta1*180/math.pi),\" Degrees\") \n",
    "print(\"Secret or unknown Theta2: \", secret_theta2,\" Radians or \",(secret_theta2*180/math.pi),\" Degrees\")\n",
    "\n",
    "# Prepare circuit\n",
    "q = QuantumRegister(2,'q')\n",
    "c = ClassicalRegister(2,'c')\n",
    "qc = QuantumCircuit(q,c)\n",
    "# apply rotations\n",
    "qc.ry(2*secret_theta1,q[0])\n",
    "qc.ry(2*secret_theta2,q[1])\n",
    "qc.measure(q,c)\n",
    "# Draw Circuit\n",
    "qc.draw(\"mpl\")\n"
   ]
  },
  {
   "cell_type": "code",
   "execution_count": 2,
   "metadata": {},
   "outputs": [
    {
     "name": "stdout",
     "output_type": "stream",
     "text": [
      "{'10': 377, '11': 274, '00': 156, '01': 93}\n"
     ]
    }
   ],
   "source": [
    "# Execute Trial for 900 Shots\n",
    "job = execute(experiments=qc, backend=Aer.get_backend(\"statevector_simulator\"),shots=900)\n",
    "counts = job.result().get_counts(qc)\n",
    "print(counts)"
   ]
  },
  {
   "cell_type": "code",
   "execution_count": 3,
   "metadata": {},
   "outputs": [
    {
     "name": "stdout",
     "output_type": "stream",
     "text": [
      "cosAcosB =  12.489995996796797  which equals to sqrt( 156 )\n",
      "cosAsinB =  9.643650760992955  which equals to sqrt( 93 )\n",
      "sinAcosB =  19.4164878389476  which equals to sqrt( 377 )\n",
      "sinAsinB =  16.55294535724685  which equals to sqrt( 274 )\n",
      "\n",
      "sin_of_A_plus_B =  29.060138599940554\n",
      "sin_of_A_minus_B =  9.772837077954645\n",
      "cos_of_A_plus_B =  -4.062949360450052\n",
      "cos_of_A_minus_B =  29.042941354043645\n",
      "\n",
      "Theta 1 + Theta2 =  nan\n",
      "Theta 1 - Theta2 =  nan\n",
      "\n",
      "Approximation of Theta1:  nan  Radians ==  nan\n",
      "Approximation of Theta2:  nan  Radians ==  nan\n"
     ]
    },
    {
     "name": "stderr",
     "output_type": "stream",
     "text": [
      "C:\\Users\\Rajesh Swarnkar\\AppData\\Local\\Temp\\ipykernel_10796\\2550985918.py:40: RuntimeWarning: invalid value encountered in arcsin\n",
      "  A_plus_B  = np.arcsin(sin_of_A_plus_B)\n",
      "C:\\Users\\Rajesh Swarnkar\\AppData\\Local\\Temp\\ipykernel_10796\\2550985918.py:41: RuntimeWarning: invalid value encountered in arccos\n",
      "  A_minus_B = np.arccos(cos_of_A_minus_B)\n"
     ]
    }
   ],
   "source": [
    "# Titrations with 900 Shots\n",
    "my_approximation_theta1 = 0\n",
    "my_approximation_theta2 = 0\n",
    "\n",
    "\n",
    "# WARNING: DIVIDE_BY_ZERO possible\n",
    "# Tan pi/2 is Infynity \n",
    "# Tan inverse of Infinity is np.arctan(np.inf) = +/-pi/2\n",
    "#my_approximation_theta1 = 2 * np.arctan( np.sqrt(_10/_00) )\n",
    "#my_approximation_theta2 = 2 * np.arctan( np.sqrt(_01/_00) )\n",
    "\n",
    "\n",
    "cosAcosB = np.sqrt(counts.get('00'))\n",
    "cosAsinB = np.sqrt(counts.get('01'))\n",
    "sinAcosB = np.sqrt(counts.get('10'))\n",
    "sinAsinB = np.sqrt(counts.get('11'))\n",
    "\n",
    "print(\"cosAcosB = \",cosAcosB, \" which equals to sqrt(\",counts.get('00'),\")\")\n",
    "print(\"cosAsinB = \",cosAsinB, \" which equals to sqrt(\",counts.get('01'),\")\")\n",
    "print(\"sinAcosB = \",sinAcosB, \" which equals to sqrt(\",counts.get('10'),\")\")\n",
    "print(\"sinAsinB = \",sinAsinB, \" which equals to sqrt(\",counts.get('11'),\")\")\n",
    "print()\n",
    "\n",
    "#sinAcosB + cosAsinB = sin(A+B)\n",
    "#sinAcosB - cosAsinB = sin(A-B)\n",
    "#cosAcosB - sinAsinB = cos(A+B)\n",
    "#cosAcosB + sinAsinB = cos(A-B)\n",
    "\n",
    "sin_of_A_plus_B  = sinAcosB + cosAsinB\n",
    "sin_of_A_minus_B = sinAcosB - cosAsinB\n",
    "cos_of_A_plus_B  = cosAcosB - sinAsinB\n",
    "cos_of_A_minus_B = cosAcosB + sinAsinB\n",
    "\n",
    "print(\"sin_of_A_plus_B = \",sin_of_A_plus_B)\n",
    "print(\"sin_of_A_minus_B = \",sin_of_A_minus_B)\n",
    "print(\"cos_of_A_plus_B = \",cos_of_A_plus_B)\n",
    "print(\"cos_of_A_minus_B = \",cos_of_A_minus_B)\n",
    "print()\n",
    "\n",
    "A_plus_B  = np.arcsin(sin_of_A_plus_B)\n",
    "A_minus_B = np.arccos(cos_of_A_minus_B)\n",
    "\n",
    "print(\"Theta 1 + Theta2 = \",A_plus_B)\n",
    "print(\"Theta 1 - Theta2 = \",A_minus_B)\n",
    "print()\n",
    "\n",
    "# [(A+B) + (A-B)]/2 = A\n",
    "my_approximation_theta1 = (A_plus_B + A_minus_B) / 2\n",
    "\n",
    "#[(A+B) - (A-B)]/2 = B\n",
    "my_approximation_theta2 = (A_plus_B - A_minus_B) / 2\n",
    "\n",
    "\n",
    "print(\"Approximation of Theta1: \",my_approximation_theta1,\" Radians == \",(my_approximation_theta1*180/math.pi))\n",
    "print(\"Approximation of Theta2: \",my_approximation_theta2,\" Radians == \",(my_approximation_theta2*180/math.pi))"
   ]
  },
  {
   "cell_type": "code",
   "execution_count": 40,
   "metadata": {},
   "outputs": [
    {
     "name": "stdout",
     "output_type": "stream",
     "text": [
      "{'11': 56, '10': 13, '01': 20, '00': 11}\n"
     ]
    },
    {
     "data": {
      "image/png": "[encoded data removed]",
      "text/plain": [
       "<Figure size 700x500 with 1 Axes>"
      ]
     },
     "execution_count": 40,
     "metadata": {},
     "output_type": "execute_result"
    }
   ],
   "source": [
    "job = execute(experiments=qc, backend=Aer.get_backend(\"statevector_simulator\"),shots=100)\n",
    "counts = job.result().get_counts(qc)\n",
    "print(counts)\n",
    "#plot_histogram(counts)"
   ]
  },
  {
   "cell_type": "markdown",
   "metadata": {},
   "source": [
    "<h3> Task 3 (Discussion) </h3>\n",
    "\n",
    "If the angle in Task 1 is picked in range $ [0,2\\pi) $, then can we determine its quadrant correctly?"
   ]
  },
  {
   "cell_type": "markdown",
   "metadata": {},
   "source": [
    "<h3> Global phase </h3>\n",
    "\n",
    "Suppose that we have a qubit and its state is either $ \\ket{0} $ or $ -\\ket{0} $.\n",
    "\n",
    "Is there any sequence of one-qubit gates such that we can measure different results after applying them?\n",
    "\n",
    "All one-qubit gates are $ 2 \\times 2 $ matrices, and their application is represented by a single matrix: $ A_n \\cdot \\cdots \\cdot A_2 \\cdot A_1 = A $.\n",
    "\n",
    "By linearity, if $ A \\ket{0} = \\ket{u} $, then $ A (- \\ket{0}) = -\\ket{u} $. Thus, after measurement, the probabilities of observing state $ \\ket{0} $ and state $ \\ket{1} $ are the same for $ \\ket{u} $ and $ -\\ket{u} $. Therefore, we cannot distinguish them.\n",
    "\n",
    "Even though the states $ \\ket{0} $ and $ -\\ket{0} $ are different mathematically, they are assumed as identical from the physical point of view. \n",
    "\n",
    "The minus sign in front of $ -\\ket{0} $ is called as a global phase.\n",
    "\n",
    "In general, a global phase can be a complex number with magnitude 1."
   ]
  }
 ],
 "metadata": {
  "kernelspec": {
   "display_name": "Python 3 (ipykernel)",
   "language": "python",
   "name": "python3"
  },
  "language_info": {
   "codemirror_mode": {
    "name": "ipython",
    "version": 3
   },
   "file_extension": ".py",
   "mimetype": "text/x-python",
   "name": "python",
   "nbconvert_exporter": "python",
   "pygments_lexer": "ipython3",
   "version": "3.10.5"
  }
 },
 "nbformat": 4,
 "nbformat_minor": 2
}
