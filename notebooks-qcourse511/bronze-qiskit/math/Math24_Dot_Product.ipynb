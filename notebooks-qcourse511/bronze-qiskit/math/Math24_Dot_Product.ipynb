{
 "cells": [
  {
   "cell_type": "markdown",
   "metadata": {},
   "source": [
    "<a href=\"https://qworld.net\" target=\"_blank\" align=\"left\"><img src=\"../qworld/images/header.jpg\"  align=\"left\"></a>\n",
    "$ \\newcommand{\\bra}[1]{\\langle #1|} $\n",
    "$ \\newcommand{\\ket}[1]{|#1\\rangle} $\n",
    "$ \\newcommand{\\braket}[2]{\\langle #1|#2\\rangle} $\n",
    "$ \\newcommand{\\dot}[2]{ #1 \\cdot #2} $\n",
    "$ \\newcommand{\\biginner}[2]{\\left\\langle #1,#2\\right\\rangle} $\n",
    "$ \\newcommand{\\mymatrix}[2]{\\left( \\begin{array}{#1} #2\\end{array} \\right)} $\n",
    "$ \\newcommand{\\myvector}[1]{\\mymatrix{c}{#1}} $\n",
    "$ \\newcommand{\\myrvector}[1]{\\mymatrix{r}{#1}} $\n",
    "$ \\newcommand{\\mypar}[1]{\\left( #1 \\right)} $\n",
    "$ \\newcommand{\\mybigpar}[1]{ \\Big( #1 \\Big)} $\n",
    "$ \\newcommand{\\sqrttwo}{\\frac{1}{\\sqrt{2}}} $\n",
    "$ \\newcommand{\\dsqrttwo}{\\dfrac{1}{\\sqrt{2}}} $\n",
    "$ \\newcommand{\\onehalf}{\\frac{1}{2}} $\n",
    "$ \\newcommand{\\donehalf}{\\dfrac{1}{2}} $\n",
    "$ \\newcommand{\\hadamard}{ \\mymatrix{rr}{ \\sqrttwo & \\sqrttwo \\\\ \\sqrttwo & -\\sqrttwo }} $\n",
    "$ \\newcommand{\\vzero}{\\myvector{1\\\\0}} $\n",
    "$ \\newcommand{\\vone}{\\myvector{0\\\\1}} $\n",
    "$ \\newcommand{\\stateplus}{\\myvector{ \\sqrttwo \\\\  \\sqrttwo } } $\n",
    "$ \\newcommand{\\stateminus}{ \\myrvector{ \\sqrttwo \\\\ -\\sqrttwo } } $\n",
    "$ \\newcommand{\\myarray}[2]{ \\begin{array}{#1}#2\\end{array}} $\n",
    "$ \\newcommand{\\X}{ \\mymatrix{cc}{0 & 1 \\\\ 1 & 0}  } $\n",
    "$ \\newcommand{\\I}{ \\mymatrix{rr}{1 & 0 \\\\ 0 & 1}  } $\n",
    "$ \\newcommand{\\Z}{ \\mymatrix{rr}{1 & 0 \\\\ 0 & -1}  } $\n",
    "$ \\newcommand{\\Htwo}{ \\mymatrix{rrrr}{ \\frac{1}{2} & \\frac{1}{2} & \\frac{1}{2} & \\frac{1}{2} \\\\ \\frac{1}{2} & -\\frac{1}{2} & \\frac{1}{2} & -\\frac{1}{2} \\\\ \\frac{1}{2} & \\frac{1}{2} & -\\frac{1}{2} & -\\frac{1}{2} \\\\ \\frac{1}{2} & -\\frac{1}{2} & -\\frac{1}{2} & \\frac{1}{2} } } $\n",
    "$ \\newcommand{\\CNOT}{ \\mymatrix{cccc}{1 & 0 & 0 & 0 \\\\ 0 & 1 & 0 & 0 \\\\ 0 & 0 & 0 & 1 \\\\ 0 & 0 & 1 & 0} } $\n",
    "$ \\newcommand{\\norm}[1]{ \\left\\lVert #1 \\right\\rVert } $\n",
    "$ \\newcommand{\\pstate}[1]{ \\lceil \\mspace{-1mu} #1 \\mspace{-1.5mu} \\rfloor } $\n",
    "$ \\newcommand{\\greenbit}[1] {\\mathbf{{\\color{green}#1}}} $\n",
    "$ \\newcommand{\\bluebit}[1] {\\mathbf{{\\color{blue}#1}}} $\n",
    "$ \\newcommand{\\redbit}[1] {\\mathbf{{\\color{red}#1}}} $\n",
    "$ \\newcommand{\\brownbit}[1] {\\mathbf{{\\color{brown}#1}}} $\n",
    "$ \\newcommand{\\blackbit}[1] {\\mathbf{{\\color{black}#1}}} $"
   ]
  },
  {
   "cell_type": "markdown",
   "metadata": {},
   "source": [
    "<font style=\"font-size:28px;\" align=\"left\"><b>Vectors: Dot (Scalar) Product</b></font>\n",
    "<br>\n",
    "_prepared by Abuzer Yakaryilmaz_\n",
    "<br><br>"
   ]
  },
  {
   "cell_type": "markdown",
   "metadata": {},
   "source": [
    "<i>Dot product</i> is a specific way of defining multiplication between two vectors with the same size. \n",
    "\n",
    "It is also called <i>scalar product</i>, because the result is a <i>scalar value</i>, e.g., a real number.\n",
    "\n",
    "Consider the following two vectors:\n",
    "$$\n",
    "    u = \\myrvector{-3 \\\\ -2 \\\\ 0 \\\\ -1 \\\\ 4} \\mbox{ and } v = \\myrvector{-1\\\\ -1 \\\\2 \\\\ -3 \\\\ 5}.\n",
    "$$\n",
    "\n",
    "The dot product of $ u $ and $ v $, denoted by $ \\dot{u}{v}$, can be defined algorithmically.\n",
    "\n",
    "<u>Pairwise multiplication</u>: the values in the same positions are multiplied with each other.\n",
    "\n",
    "<u>Summation of all pairwise multiplications</u>: Then we sum all the results obtained from the pairwise multiplications.\n",
    "\n",
    "We write its Python code below."
   ]
  },
  {
   "cell_type": "code",
   "execution_count": null,
   "metadata": {},
   "outputs": [],
   "source": [
    "# let's define both vectors\n",
    "u = [-3,-2,0,-1,4]\n",
    "v = [-1,-1,2,-3,5]\n",
    "\n",
    "uv = 0; # summation is initially zero\n",
    "\n",
    "for i in range(len(u)): # iteratively access every pair with the same indices\n",
    "    print(\"pairwise multiplication of the entries with index\",i,\"is\",u[i]*v[i])\n",
    "    uv = uv + u[i]*v[i] # i-th entries are multiplied and then added to summation\n",
    "    \n",
    "print() # print an empty line    \n",
    "print(\"The dot product of\",u,'and',v,'is',uv)"
   ]
  },
  {
   "cell_type": "markdown",
   "metadata": {},
   "source": [
    "The pairwise multiplications of entries are\n",
    "<ul>\n",
    "    <li> $ (-3)\\cdot(-1) = 3 $, </li>\n",
    "    <li> $ (-2)\\cdot(-1) = 2 $, </li>\n",
    "    <li> $ 0\\cdot 2 = 0 $, </li>\n",
    "    <li> $ (-1)\\cdot(-3) = 3 $, and, </li>\n",
    "    <li> $ 4 \\cdot 5  = 20 $. </li>\n",
    "</ul>\n",
    "\n",
    "Thus the summation of all pairwise multiplications of entries is $ 3+2+0+3+20 = 28 $.\n",
    "\n",
    "<b>Remark that the dimensions of the given vectors must be the same. Otherwise, the dot product is not defined.</b>"
   ]
  },
  {
   "cell_type": "markdown",
   "metadata": {},
   "source": [
    "<h3> Task 1 </h3>\n",
    "\n",
    "Find the dot product of the following vectors in Python:\n",
    "\n",
    "$$\n",
    "    v = \\myrvector{-3 \\\\ 4 \\\\ -5 \\\\ 6} ~~~~\\mbox{and}~~~~ u = \\myrvector{4 \\\\ 3 \\\\ 6 \\\\ 5}.\n",
    "$$\n",
    "\n",
    "Your outcome should be $0$."
   ]
  },
  {
   "cell_type": "code",
   "execution_count": 2,
   "metadata": {},
   "outputs": [
    {
     "name": "stdout",
     "output_type": "stream",
     "text": [
      "0\n"
     ]
    }
   ],
   "source": [
    "import numpy as np\n",
    "u = np.array([-3,4,-5,6])\n",
    "v = np.array([4,3,6,5])\n",
    "\n",
    "uv_dot = np.dot(u,v)\n",
    "\n",
    "print(uv_dot)\n"
   ]
  },
  {
   "cell_type": "markdown",
   "metadata": {},
   "source": [
    "<a href=\"Math24_Dot_Product_Solutions.ipynb#task1\">click for our solution</a>"
   ]
  },
  {
   "cell_type": "markdown",
   "metadata": {},
   "source": [
    "<h3> Task 2 </h3>\n",
    "\n",
    "Let $ u = \\myrvector{ -3 \\\\ -4 } $ be a 2 dimensional vector.\n",
    "\n",
    "Find $ \\dot{u}{u} $ in Python."
   ]
  },
  {
   "cell_type": "code",
   "execution_count": 3,
   "metadata": {},
   "outputs": [
    {
     "name": "stdout",
     "output_type": "stream",
     "text": [
      "25\n"
     ]
    }
   ],
   "source": [
    "import numpy as np \n",
    "u = np.array([-3, -4])\n",
    "print(np.dot(u,u))"
   ]
  },
  {
   "cell_type": "markdown",
   "metadata": {},
   "source": [
    "<a href=\"Math24_Dot_Product_Solutions.ipynb#task2\">click for our solution</a>"
   ]
  },
  {
   "cell_type": "markdown",
   "metadata": {},
   "source": [
    "<h3> Notes:</h3>\n",
    "\n",
    "As may be observed from Task 2, the <b>length</b> of a vector can be calculated by using its <b>dot product</b> with itself.\n",
    "\n",
    "$$ \\norm{u} = \\sqrt{\\dot{u}{u}}. $$\n",
    "\n",
    "$ \\dot{u}{u} $ is $25$, and so $ \\norm{u} = \\sqrt{25} = 5 $. \n",
    "\n",
    "$ \\dot{u}{u} $ automatically accumulates the contribution of each entry to the length."
   ]
  },
  {
   "cell_type": "markdown",
   "metadata": {},
   "source": [
    "<h3> Orthogonal (perpendicular) vectors </h3>\n",
    "\n",
    "For simplicity, we consider 2-dimensional vectors.\n",
    "\n",
    "The following two vectors are perpendicular (orthogonal) to each other.\n",
    "\n",
    "The angle between them is $ 90 $ degrees. "
   ]
  },
  {
   "cell_type": "code",
   "execution_count": 4,
   "metadata": {},
   "outputs": [
    {
     "data": {
      "image/png": "[encoded data removed]",
      "text/plain": [
       "<Figure size 600x600 with 1 Axes>"
      ]
     },
     "metadata": {},
     "output_type": "display_data"
    }
   ],
   "source": [
    "%run math.py\n",
    "dot_product(\"example1\")"
   ]
  },
  {
   "cell_type": "code",
   "execution_count": 5,
   "metadata": {},
   "outputs": [
    {
     "name": "stdout",
     "output_type": "stream",
     "text": [
      "the dot product of u and v is 0\n"
     ]
    }
   ],
   "source": [
    "# let's find the dot product of v and u\n",
    "v = [-4,0]\n",
    "u = [0,-5]\n",
    "result = 0;\n",
    "\n",
    "for i in range(2):\n",
    "    result = result + v[i]*u[i]\n",
    "\n",
    "print(\"the dot product of u and v is\",result)"
   ]
  },
  {
   "cell_type": "markdown",
   "metadata": {},
   "source": [
    "Now, let's check the dot product of the following two vectors:"
   ]
  },
  {
   "cell_type": "code",
   "execution_count": 6,
   "metadata": {},
   "outputs": [
    {
     "data": {
      "image/png": "[encoded data removed]",
      "text/plain": [
       "<Figure size 600x600 with 1 Axes>"
      ]
     },
     "metadata": {},
     "output_type": "display_data"
    }
   ],
   "source": [
    "%run math.py\n",
    "dot_product(\"example2\")"
   ]
  },
  {
   "cell_type": "code",
   "execution_count": 7,
   "metadata": {},
   "outputs": [
    {
     "name": "stdout",
     "output_type": "stream",
     "text": [
      "the dot product of u and v is 0\n"
     ]
    }
   ],
   "source": [
    "# we can use the same code\n",
    "v = [-4,3]\n",
    "u = [-3,-4]\n",
    "result = 0;\n",
    "\n",
    "for i in range(2):\n",
    "    result = result + v[i]*u[i]\n",
    "\n",
    "print(\"the dot product of u and v is\",result)"
   ]
  },
  {
   "cell_type": "markdown",
   "metadata": {},
   "source": [
    "The dot product of new $ u $ and $ v $ is also $0$. \n",
    "\n",
    "This is not surprising, because the vectors $u$ and $v$ (in both cases) are orthogonal to each other.\n",
    "\n",
    "<h3>Fact:</h3> \n",
    "<ul>\n",
    "    <li>The dot product of two orthogonal (perpendicular) vectors is zero.</li>\n",
    "    <li>If the dot product of two vectors is zero, then they are orthogonal to each other.</li>\n",
    "</ul>\n",
    "\n",
    "<i> This fact is important, because, as we will see later, orthogonal vectors (states) can be distinguished perfectly. </i>"
   ]
  },
  {
   "cell_type": "markdown",
   "metadata": {},
   "source": [
    "<h3> Task 3 </h3>\n",
    "\n",
    "Verify that (i) $ u $ is orthogonal to $ -v $, (ii) $ -u $ is orthogonal to $ v $, and (iii) $ -u $ is orthogonal to $ -v $."
   ]
  },
  {
   "cell_type": "code",
   "execution_count": 4,
   "metadata": {},
   "outputs": [
    {
     "data": {
      "image/png": "[encoded data removed]",
      "text/plain": [
       "<Figure size 504x504 with 1 Axes>"
      ]
     },
     "metadata": {
      "needs_background": "light"
     },
     "output_type": "display_data"
    }
   ],
   "source": [
    "%run math.py\n",
    "dot_product(\"example3\")"
   ]
  },
  {
   "cell_type": "code",
   "execution_count": 9,
   "metadata": {},
   "outputs": [
    {
     "name": "stdout",
     "output_type": "stream",
     "text": [
      "4\n"
     ]
    }
   ],
   "source": [
    "# you may consider to write a function in Python for dot product\n",
    "\n",
    "def dot_product(a,b):\n",
    "    import numpy as np\n",
    "    return np.dot(a,b)\n",
    "\n",
    "print(dot_product([2,2],[1,1]))"
   ]
  },
  {
   "cell_type": "markdown",
   "metadata": {},
   "source": [
    "<a href=\"Math24_Dot_Product_Solutions.ipynb#task3\">click for our solution</a>"
   ]
  },
  {
   "cell_type": "markdown",
   "metadata": {},
   "source": [
    "<h3> Task 4 </h3>\n",
    "\n",
    "Find the dot product of $ v $ and $ u $ in Python.\n",
    "\n",
    "$$\n",
    "    v = \\myrvector{-1 \\\\ 2 \\\\ -3 \\\\ 4} ~~~~\\mbox{and}~~~~ u = \\myrvector{-2 \\\\ -1 \\\\ 5 \\\\ 2}.\n",
    "$$\n",
    "\n",
    "Find the dot product of $ -2v $ and $ 3u $ in Python.\n",
    "\n",
    "Compare both results."
   ]
  },
  {
   "cell_type": "code",
   "execution_count": 10,
   "metadata": {},
   "outputs": [
    {
     "name": "stdout",
     "output_type": "stream",
     "text": [
      "-7\n"
     ]
    }
   ],
   "source": [
    "print(dot_product([-1,2,-3,4],[-2,-1,5,2]))"
   ]
  },
  {
   "cell_type": "code",
   "execution_count": 11,
   "metadata": {},
   "outputs": [
    {
     "name": "stdout",
     "output_type": "stream",
     "text": [
      "42\n"
     ]
    }
   ],
   "source": [
    "u = np.array([-1,2,-3,4]) * 3\n",
    "v = np.array([-2,-1,5,2]) * -2\n",
    "print(dot_product(u,v))"
   ]
  },
  {
   "cell_type": "markdown",
   "metadata": {},
   "source": [
    "<a href=\"Math24_Dot_Product_Solutions.ipynb#task4\">click for our solution</a>"
   ]
  }
 ],
 "metadata": {
  "kernelspec": {
   "display_name": "Python 3 (ipykernel)",
   "language": "python",
   "name": "python3"
  },
  "language_info": {
   "codemirror_mode": {
    "name": "ipython",
    "version": 3
   },
   "file_extension": ".py",
   "mimetype": "text/x-python",
   "name": "python",
   "nbconvert_exporter": "python",
   "pygments_lexer": "ipython3",
   "version": "3.10.5"
  }
 },
 "nbformat": 4,
 "nbformat_minor": 2
}
