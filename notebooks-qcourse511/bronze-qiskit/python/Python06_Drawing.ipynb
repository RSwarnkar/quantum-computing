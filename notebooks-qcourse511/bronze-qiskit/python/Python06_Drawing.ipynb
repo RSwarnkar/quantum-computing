{
 "cells": [
  {
   "cell_type": "markdown",
   "metadata": {},
   "source": [
    "<a href=\"https://qworld.net\" target=\"_blank\" align=\"left\"><img src=\"../qworld/images/header.jpg\"  align=\"left\"></a>"
   ]
  },
  {
   "cell_type": "markdown",
   "metadata": {},
   "source": [
    "<font style=\"font-size:28px;\" align=\"left\"><b> Python: Drawing </b></font>\n",
    "<br>\n",
    "_prepared by Abuzer Yakaryilmaz_\n",
    "<br><br>"
   ]
  },
  {
   "cell_type": "markdown",
   "metadata": {},
   "source": [
    "Here we list certain tools from the python library \"matplotlib.pyplot\" that we will use throughout the tutorial when solving certain tasks."
   ]
  },
  {
   "cell_type": "markdown",
   "metadata": {},
   "source": [
    "<u><b>Importing</b></u> some useful tools for drawing figures in python:    \n",
    "\n",
    "    from matplotlib.pyplot import plot, figure, arrow, Circle, gca, text, bar  "
   ]
  },
  {
   "cell_type": "markdown",
   "metadata": {},
   "source": [
    "<u><b>Drawing a figure</b></u> with a specified size and dpi value:\n",
    "\n",
    "    figure(figsize=(6,6), dpi=60) \n",
    "The higher dpi value makes the figure bigger.    "
   ]
  },
  {
   "cell_type": "markdown",
   "metadata": {},
   "source": [
    "<u><b>Drawing a <font color=\"blue\">blue</font> point</b></u> at (x,y):\n",
    "\n",
    "    plot(x,y,'bo')\n",
    "For <font color=\"red\">red</font> or <font color=\"green\">green</font> points, 'ro' or 'go' can be used, respectively."
   ]
  },
  {
   "cell_type": "markdown",
   "metadata": {},
   "source": [
    "<u><b>Drawing a line</b></u> from (x,y) to (x+dx,y+dy):\n",
    "\n",
    "    arrow(x,y,dx,dy)\n",
    "Additional parameters:\n",
    "<ul>\n",
    "    <li>color='red'</li>\n",
    "    <li>linewidth=1.5</li>\n",
    "    <li>linestyle='dotted' ('dashed', 'dash-dot', 'solid')</li>\n",
    "</ul>"
   ]
  },
  {
   "cell_type": "markdown",
   "metadata": {},
   "source": [
    "<u><b>Drawing a <font color=\"blue\">blue</font> arrow</b></u> from (x,y) to (x+dx,y+dy) with a specifed size head:\n",
    "    \n",
    "    arrow(x,y,dx,dy,head_width=0.04,head_length=0.08,color=\"blue\")"
   ]
  },
  {
   "cell_type": "markdown",
   "metadata": {},
   "source": [
    "<u><b>Drawing the axes</b></u> on 2-dimensional plane:\n",
    "    \n",
    "    arrow(0,0,1.1,0,head_width=0.04,head_length=0.08)\n",
    "    arrow(0,0,-1.1,0,head_width=0.04,head_length=0.08)\n",
    "    arrow(0,0,0,-1.1,head_width=0.04,head_length=0.08)\n",
    "    arrow(0,0,0,1.1,head_width=0.04,head_length=0.08)"
   ]
  },
  {
   "cell_type": "markdown",
   "metadata": {},
   "source": [
    "<b><u>Drawing a circle</u></b> centered as (x,y) with radius r on 2-dimensional plane:\n",
    "\n",
    "    gca().add_patch( Circle((x,y),r,color='black',fill=False) ) "
   ]
  },
  {
   "cell_type": "markdown",
   "metadata": {},
   "source": [
    "<b><u>Placing a text</u></b> at (x,y):\n",
    "\n",
    "    text(x,y,string)\n",
    "Additional parameters:\n",
    "<ul>\n",
    "    <li>rotation=90 (numeric degree values)</li>\n",
    "    <li>fontsize=12 </li>\n",
    "</ul>    "
   ]
  },
  {
   "cell_type": "markdown",
   "metadata": {},
   "source": [
    "<b><u>Drawing a bar</u></b>:\n",
    "\n",
    "    bar(list_of_labels,list_of_data)   "
   ]
  },
  {
   "cell_type": "markdown",
   "metadata": {},
   "source": [
    "<hr>"
   ]
  },
  {
   "cell_type": "markdown",
   "metadata": {},
   "source": [
    "<h3> Some of our pre-defined functions </h3>\n",
    "\n",
    "We include our predefined functions by using the following line of code from the quantum-related notebooks:\n",
    "\n",
    "    %run quantum.py\n",
    "<table align=\"left\"><tr><td>\n",
    "The file \"qworld/include/drawing.py\" contains our predefined functions for drawing.\n",
    "    </td></tr></table>"
   ]
  },
  {
   "cell_type": "markdown",
   "metadata": {},
   "source": [
    "<u><b>Drawing the axes</b></u> on 2-dimensional plane:\n",
    "\n",
    "    import matplotlib\n",
    "    def draw_axes():\n",
    "        # dummy points for zooming out\n",
    "        points = [ [1.3,0], [0,1.3], [-1.3,0], [0,-1.3] ] \n",
    "        # coordinates for the axes\n",
    "        arrows = [ [1.1,0], [0,1.1], [-1.1,0], [0,-1.1] ] \n",
    "        \n",
    "        # drawing dummy points\n",
    "        for p in points: matplotlib.pyplot.plot(p[0],p[1]+0.2) \n",
    "        # drawing the axes\n",
    "        for a in arrows: matplotlib.pyplot.arrow(0,0,a[0],a[1],head_width=0.04, head_length=0.08) "
   ]
  },
  {
   "cell_type": "markdown",
   "metadata": {},
   "source": [
    "<u><b>Drawing the unit circle</b></u> on 2-dimensional plane:\n",
    "\n",
    "    import matplotlib\n",
    "    def draw_unit_circle():\n",
    "        unit_circle= matplotlib.pyplot.Circle((0,0),1,color='black',fill=False)\n",
    "        matplotlib.pyplot.gca().add_patch(unit_circle) "
   ]
  },
  {
   "cell_type": "code",
   "execution_count": 5,
   "metadata": {},
   "outputs": [
    {
     "data": {
      "image/png": "[encoded data removed]",
      "text/plain": [
       "<Figure size 640x480 with 1 Axes>"
      ]
     },
     "metadata": {},
     "output_type": "display_data"
    }
   ],
   "source": [
    "import matplotlib, matplotlib.pyplot \n",
    "def draw_unit_circle():\n",
    "    unit_circle= matplotlib.pyplot.Circle((0,0),1,color='black',fill=False)\n",
    "    matplotlib.pyplot.gca().add_patch(unit_circle) \n",
    "    \n",
    "draw_unit_circle()"
   ]
  },
  {
   "cell_type": "markdown",
   "metadata": {},
   "source": [
    "<u><b>Drawing a quantum state</b></u> on 2-dimensional plane:\n",
    "\n",
    "    import matplotlib\n",
    "    def draw_quantum_state(x,y,name):\n",
    "        # shorten the line length to 0.92\n",
    "        # line_length + head_length should be 1\n",
    "        x1 = 0.92 * x\n",
    "        y1 = 0.92 * y\n",
    "        matplotlib.pyplot.arrow(0,0,x1,y1,head_width=0.04,head_length=0.08,color=\"blue\")\n",
    "        x2 = 1.15 * x\n",
    "        y2 = 1.15 * y\n",
    "        matplotlib.pyplot.text(x2,y2,name)"
   ]
  },
  {
   "cell_type": "code",
   "execution_count": 9,
   "metadata": {},
   "outputs": [
    {
     "data": {
      "image/png": "[encoded data removed]",
      "text/plain": [
       "<Figure size 640x480 with 1 Axes>"
      ]
     },
     "metadata": {},
     "output_type": "display_data"
    }
   ],
   "source": [
    "import matplotlib\n",
    "def draw_quantum_state(x,y,name):\n",
    "    # shorten the line length to 0.92\n",
    "    # line_length + head_length should be 1\n",
    "    x1 = 0.92 * x\n",
    "    y1 = 0.92 * y\n",
    "    matplotlib.pyplot.arrow(0,0,x1,y1,head_width=0.04,head_length=0.08,color=\"blue\")\n",
    "    x2 = 1.15 * x\n",
    "    y2 = 1.15 * y\n",
    "    matplotlib.pyplot.text(x2,y2,name)\n",
    "    \n",
    "draw_quantum_state(0.689,1,\"Q\")    "
   ]
  },
  {
   "cell_type": "markdown",
   "metadata": {},
   "source": [
    "<u><b>Drawing a qubit</b></u> on 2-dimensional plane:\n",
    "\n",
    "    import matplotlib\n",
    "    def draw_qubit():\n",
    "        # draw a figure\n",
    "        matplotlib.pyplot.figure(figsize=(6,6), dpi=60)\n",
    "        # draw the origin\n",
    "        matplotlib.pyplot.plot(0,0,'ro') # a point in red color\n",
    "        # drawing the axes by using one of our predefined functions\n",
    "        draw_axes()\n",
    "        # drawing the unit circle by using one of our predefined functions\n",
    "        draw_unit_circle()\n",
    "        # drawing |0>\n",
    "        matplotlib.pyplot.plot(1,0,\"o\")\n",
    "        matplotlib.pyplot.text(1.05,0.05,\"|0>\")\n",
    "        # drawing |1>\n",
    "        matplotlib.pyplot.plot(0,1,\"o\")\n",
    "        matplotlib.pyplot.text(0.05,1.05,\"|1>\")\n",
    "        # drawing -|0>\n",
    "        matplotlib.pyplot.plot(-1,0,\"o\")\n",
    "        matplotlib.pyplot.text(-1.2,-0.1,\"-|0>\")\n",
    "        # drawing -|1>\n",
    "        matplotlib.pyplot.plot(0,-1,\"o\")\n",
    "        matplotlib.pyplot.text(-0.2,-1.1,\"-|1>\")"
   ]
  },
  {
   "cell_type": "code",
   "execution_count": 16,
   "metadata": {},
   "outputs": [],
   "source": [
    "import matplotlib\n",
    "\n",
    "def draw_axes():\n",
    "    # dummy points for zooming out\n",
    "    points = [ [1.3,0], [0,1.3], [-1.3,0], [0,-1.3] ] \n",
    "    # coordinates for the axes\n",
    "    arrows = [ [1.1,0], [0,1.1], [-1.1,0], [0,-1.1] ] \n",
    "\n",
    "    # drawing dummy points\n",
    "    for p in points: matplotlib.pyplot.plot(p[0],p[1]+0.2) \n",
    "    # drawing the axes\n",
    "    for a in arrows: matplotlib.pyplot.arrow(0,0,a[0],a[1],head_width=0.04, head_length=0.08) \n",
    "        \n",
    "def draw_qubit():\n",
    "    # draw a figure\n",
    "    matplotlib.pyplot.figure(figsize=(6,6), dpi=60)\n",
    "    # draw the origin\n",
    "    matplotlib.pyplot.plot(0,0,'ro') # a point in red color\n",
    "    # drawing the axes by using one of our predefined functions\n",
    "    draw_axes()\n",
    "    # drawing the unit circle by using one of our predefined functions\n",
    "    draw_unit_circle()\n",
    "    # drawing |0>\n",
    "    matplotlib.pyplot.plot(1,0,\"o\")\n",
    "    matplotlib.pyplot.text(1.05,0.05,\"|0>\")\n",
    "    # drawing |1>\n",
    "    matplotlib.pyplot.plot(0,1,\"o\")\n",
    "    matplotlib.pyplot.text(0.05,1.05,\"|1>\")\n",
    "    # drawing -|0>\n",
    "    matplotlib.pyplot.plot(-1,0,\"o\")\n",
    "    matplotlib.pyplot.text(-1.2,-0.1,\"-|0>\")\n",
    "    # drawing -|1>\n",
    "    matplotlib.pyplot.plot(0,-1,\"o\")\n",
    "    matplotlib.pyplot.text(-0.2,-1.1,\"-|1>\")"
   ]
  },
  {
   "cell_type": "code",
   "execution_count": 17,
   "metadata": {},
   "outputs": [
    {
     "data": {
      "image/png": "[encoded data removed]",
      "text/plain": [
       "<Figure size 360x360 with 1 Axes>"
      ]
     },
     "metadata": {},
     "output_type": "display_data"
    }
   ],
   "source": [
    "draw_qubit()"
   ]
  },
  {
   "cell_type": "code",
   "execution_count": null,
   "metadata": {},
   "outputs": [],
   "source": []
  }
 ],
 "metadata": {
  "kernelspec": {
   "display_name": "qcourse511",
   "language": "python",
   "name": "qcourse511"
  },
  "language_info": {
   "codemirror_mode": {
    "name": "ipython",
    "version": 3
   },
   "file_extension": ".py",
   "mimetype": "text/x-python",
   "name": "python",
   "nbconvert_exporter": "python",
   "pygments_lexer": "ipython3",
   "version": "3.10.5"
  }
 },
 "nbformat": 4,
 "nbformat_minor": 2
}
