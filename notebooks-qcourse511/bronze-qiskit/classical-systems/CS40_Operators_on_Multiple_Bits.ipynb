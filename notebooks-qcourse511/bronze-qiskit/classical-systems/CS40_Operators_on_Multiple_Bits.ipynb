{
 "cells": [
  {
   "cell_type": "markdown",
   "metadata": {},
   "source": [
    "<a href=\"https://qworld.net\" target=\"_blank\" align=\"left\"><img src=\"../qworld/images/header.jpg\"  align=\"left\"></a>\n",
    "$ \\newcommand{\\bra}[1]{\\langle #1|} $\n",
    "$ \\newcommand{\\ket}[1]{|#1\\rangle} $\n",
    "$ \\newcommand{\\braket}[2]{\\langle #1|#2\\rangle} $\n",
    "$ \\newcommand{\\dot}[2]{ #1 \\cdot #2} $\n",
    "$ \\newcommand{\\biginner}[2]{\\left\\langle #1,#2\\right\\rangle} $\n",
    "$ \\newcommand{\\mymatrix}[2]{\\left( \\begin{array}{#1} #2\\end{array} \\right)} $\n",
    "$ \\newcommand{\\myvector}[1]{\\mymatrix{c}{#1}} $\n",
    "$ \\newcommand{\\myrvector}[1]{\\mymatrix{r}{#1}} $\n",
    "$ \\newcommand{\\mypar}[1]{\\left( #1 \\right)} $\n",
    "$ \\newcommand{\\mybigpar}[1]{ \\Big( #1 \\Big)} $\n",
    "$ \\newcommand{\\sqrttwo}{\\frac{1}{\\sqrt{2}}} $\n",
    "$ \\newcommand{\\dsqrttwo}{\\dfrac{1}{\\sqrt{2}}} $\n",
    "$ \\newcommand{\\onehalf}{\\frac{1}{2}} $\n",
    "$ \\newcommand{\\donehalf}{\\dfrac{1}{2}} $\n",
    "$ \\newcommand{\\hadamard}{ \\mymatrix{rr}{ \\sqrttwo & \\sqrttwo \\\\ \\sqrttwo & -\\sqrttwo }} $\n",
    "$ \\newcommand{\\vzero}{\\myvector{1\\\\0}} $\n",
    "$ \\newcommand{\\vone}{\\myvector{0\\\\1}} $\n",
    "$ \\newcommand{\\stateplus}{\\myvector{ \\sqrttwo \\\\  \\sqrttwo } } $\n",
    "$ \\newcommand{\\stateminus}{ \\myrvector{ \\sqrttwo \\\\ -\\sqrttwo } } $\n",
    "$ \\newcommand{\\myarray}[2]{ \\begin{array}{#1}#2\\end{array}} $\n",
    "$ \\newcommand{\\X}{ \\mymatrix{cc}{0 & 1 \\\\ 1 & 0}  } $\n",
    "$ \\newcommand{\\I}{ \\mymatrix{rr}{1 & 0 \\\\ 0 & 1}  } $\n",
    "$ \\newcommand{\\Z}{ \\mymatrix{rr}{1 & 0 \\\\ 0 & -1}  } $\n",
    "$ \\newcommand{\\Htwo}{ \\mymatrix{rrrr}{ \\frac{1}{2} & \\frac{1}{2} & \\frac{1}{2} & \\frac{1}{2} \\\\ \\frac{1}{2} & -\\frac{1}{2} & \\frac{1}{2} & -\\frac{1}{2} \\\\ \\frac{1}{2} & \\frac{1}{2} & -\\frac{1}{2} & -\\frac{1}{2} \\\\ \\frac{1}{2} & -\\frac{1}{2} & -\\frac{1}{2} & \\frac{1}{2} } } $\n",
    "$ \\newcommand{\\CNOT}{ \\mymatrix{cccc}{1 & 0 & 0 & 0 \\\\ 0 & 1 & 0 & 0 \\\\ 0 & 0 & 0 & 1 \\\\ 0 & 0 & 1 & 0} } $\n",
    "$ \\newcommand{\\norm}[1]{ \\left\\lVert #1 \\right\\rVert } $\n",
    "$ \\newcommand{\\pstate}[1]{ \\lceil \\mspace{-1mu} #1 \\mspace{-1.5mu} \\rfloor } $\n",
    "$ \\newcommand{\\greenbit}[1] {\\mathbf{{\\color{green}#1}}} $\n",
    "$ \\newcommand{\\bluebit}[1] {\\mathbf{{\\color{blue}#1}}} $\n",
    "$ \\newcommand{\\redbit}[1] {\\mathbf{{\\color{red}#1}}} $\n",
    "$ \\newcommand{\\brownbit}[1] {\\mathbf{{\\color{brown}#1}}} $\n",
    "$ \\newcommand{\\blackbit}[1] {\\mathbf{{\\color{black}#1}}} $"
   ]
  },
  {
   "cell_type": "markdown",
   "metadata": {},
   "source": [
    "<font style=\"font-size:28px;\" align=\"left\"><b> Operators on Multiple Bits </b></font>\n",
    "<br>\n",
    "_prepared by Abuzer Yakaryilmaz_\n",
    "<br><br>\n",
    "[<img src=\"../qworld/images/watch_lecture.jpg\" align=\"left\">](https://youtu.be/vd21d1KTC5c)\n",
    "<br><br><br>"
   ]
  },
  {
   "cell_type": "markdown",
   "metadata": {},
   "source": [
    "We explain how to construct the operator of a composition system when we apply an operator to one bit or to a few bits of the composite system.\n",
    "\n",
    "*Here we have a simple rule, we assume that the identity operator is applied on the rest of the bits.*"
   ]
  },
  {
   "cell_type": "markdown",
   "metadata": {},
   "source": [
    "### Single bit operators"
   ]
  },
  {
   "cell_type": "markdown",
   "metadata": {},
   "source": [
    "When we have two bits, then our system has four states and any operator of the system can be defined as a $ (4 \\times 4) $-dimensional matrix.\n",
    "\n",
    "For example, if we apply the probabilistic operator $ M =  \\mymatrix{c}{ 0.3 & 0.6 \\\\ 0.7 & 0.4  } $ to the second bit, then how can we represent the corresponding $ (4 \\times 4) $-dimensional matrix?\n",
    "\n",
    "Since we particularly want the $ M $ operator to act on the second qubit and meanwhile leave the first qubit unchanged, we write the $4 \\times 4$ matrix as the tensor product of an identity operator and matrix M such that\n",
    "\n",
    "$ I \\otimes M = \\I \\otimes  \\mymatrix{c}{ 0.3 & 0.6 \\\\ 0.7 & 0.4  } = \\mymatrix{cccc} { 0.3 & 0.6 & 0 & 0 \\\\ 0.7 & 0.4 & 0 & 0 \\\\ 0 & 0 & 0.3 & 0.6 \\\\ 0 & 0& 0.7 & 0.4 }.   $\n",
    "\n",
    "In this way, the identity operator and the M operator act on first and second qubits, respectively, due to the tensor product's definition."
   ]
  },
  {
   "cell_type": "markdown",
   "metadata": {},
   "source": [
    "<h3> Task 1</h3>\n",
    "\n",
    "We have two bits. What is $ (4 \\times 4) $-dimensional matrix representation of the probabilistic operator $ M =  \\mymatrix{c}{ 0.2 & 0.7 \\\\ 0.8 & 0.3  } $ applied to the first bit?"
   ]
  },
  {
   "cell_type": "code",
   "execution_count": 4,
   "metadata": {},
   "outputs": [
    {
     "name": "stdout",
     "output_type": "stream",
     "text": [
      "[[1]\n",
      " [0]\n",
      " [0]\n",
      " [0]]\n",
      "\n",
      "[[0.2 0.  0.7 0. ]\n",
      " [0.  0.2 0.  0.7]\n",
      " [0.8 0.  0.3 0. ]\n",
      " [0.  0.8 0.  0.3]]\n",
      "\n",
      "[[0.2]\n",
      " [0. ]\n",
      " [0.8]\n",
      " [0. ]]\n",
      "\n"
     ]
    }
   ],
   "source": [
    "import numpy as np\n",
    "state = np.kron( np.array([[1],[0]]),np.array([[1],[0]]) )\n",
    "\n",
    "print(state)\n",
    "print()\n",
    "\n",
    "op_m =   np.array([[0.2,0.7],[0.8,0.3]])\n",
    "\n",
    "I2 = np.array([[1,0],[0,1]])\n",
    "\n",
    "# composite operator = M (x) I\n",
    "composite_op = np.kron(op_m,I2)\n",
    "\n",
    "print(composite_op)\n",
    "print()\n",
    "\n",
    "# result = M (x) I on state\n",
    "result = np.matmul(composite_op,state)\n",
    "\n",
    "print(result)\n",
    "print()\n",
    "\n"
   ]
  },
  {
   "cell_type": "markdown",
   "metadata": {},
   "source": [
    "<a href=\"CS40_Operators_on_Multiple_Bits_Solutions.ipynb#task1\">click for our solution</a>"
   ]
  },
  {
   "cell_type": "markdown",
   "metadata": {},
   "source": [
    "<h3> Task 2</h3>\n",
    "\n",
    "We have three bits. What is $ (8 \\times 8) $-dimensional matrix representation of the probabilistic operator $ M =  \\mymatrix{c}{ 0.9 & 0.4 \\\\ 0.1 & 0.6  } $ applied to the second bit?"
   ]
  },
  {
   "cell_type": "code",
   "execution_count": 6,
   "metadata": {},
   "outputs": [
    {
     "name": "stdout",
     "output_type": "stream",
     "text": [
      "[[1]\n",
      " [0]\n",
      " [0]\n",
      " [0]\n",
      " [0]\n",
      " [0]\n",
      " [0]\n",
      " [0]]\n",
      "\n",
      "[[0.9 0.  0.4 0.  0.  0.  0.  0. ]\n",
      " [0.  0.9 0.  0.4 0.  0.  0.  0. ]\n",
      " [0.1 0.  0.6 0.  0.  0.  0.  0. ]\n",
      " [0.  0.1 0.  0.6 0.  0.  0.  0. ]\n",
      " [0.  0.  0.  0.  0.9 0.  0.4 0. ]\n",
      " [0.  0.  0.  0.  0.  0.9 0.  0.4]\n",
      " [0.  0.  0.  0.  0.1 0.  0.6 0. ]\n",
      " [0.  0.  0.  0.  0.  0.1 0.  0.6]]\n",
      "\n",
      "[[0.9]\n",
      " [0. ]\n",
      " [0.1]\n",
      " [0. ]\n",
      " [0. ]\n",
      " [0. ]\n",
      " [0. ]\n",
      " [0. ]]\n",
      "\n"
     ]
    }
   ],
   "source": [
    "import numpy as np\n",
    "state = np.kron( np.array([[1],[0]]), np.kron(np.array([[1],[0]]),np.array([[1],[0]]) ) )\n",
    "\n",
    "print(state)\n",
    "print()\n",
    "\n",
    "op_m =   np.array([[0.9,0.4],[0.1,0.6]])\n",
    "\n",
    "I2 = np.array([[1,0],[0,1]])\n",
    "\n",
    "# composite operator = M (x) I\n",
    "composite_op = np.kron(I2, np.kron(op_m,I2))\n",
    "\n",
    "print(composite_op)\n",
    "print()\n",
    "\n",
    "# result = M (x) I on state\n",
    "result = np.matmul(composite_op,state)\n",
    "\n",
    "print(result)\n",
    "print()\n"
   ]
  },
  {
   "cell_type": "markdown",
   "metadata": {},
   "source": [
    "<a href=\"CS40_Operators_on_Multiple_Bits_Solutions.ipynb#task2\">click for our solution</a>"
   ]
  },
  {
   "cell_type": "markdown",
   "metadata": {},
   "source": [
    "### Two bits operators"
   ]
  },
  {
   "cell_type": "markdown",
   "metadata": {},
   "source": [
    "We start with an easy example. \n",
    "\n",
    "We have three bits and we apply the probabilistic operator \n",
    "$ M = \\mymatrix{rrrr}{0.05 & 0 & 0.70 & 0.60 \\\\ 0.45 & 0.50 & 0.20 & 0.25 \\\\ 0.20 & 0.35 & 0.10 & 0 \\\\ 0.30 & 0.15 & 0 & 0.15 } $ to the first and second bits. Then, the corresponding $ (8 \\times 8) $-dimensional matrix is $ M \\otimes I $, where $I$ is the $(2 \\times 2)$-dimensional Identity matrix.\n",
    "\n",
    "If $ M $ is applied to the second and third bits, then the corresponding matrix is $ I \\otimes M $."
   ]
  },
  {
   "cell_type": "markdown",
   "metadata": {},
   "source": [
    "**What if $ M $ is applied to the first and third bits?**\n",
    "\n",
    "We pick an example transition: it is given in $ M $ that $ \\greenbit{0} \\brownbit{1}  \\xrightarrow{0.35} \\greenbit{1} \\brownbit{0}  $.  \n",
    "- That is, when the first bit is 0 and third bit is 1, the first bit is set to 1 and the the third bit is set to 0 with probability 0.35:\n",
    "\n",
    "$$ \\myarray{ccccc}{\\mbox{first-bit} & \\mbox{third-bit} & probability & \\mbox{first-bit} & \\mbox{third-bit} \\\\ \\greenbit{0} & \\brownbit{1} & \\xrightarrow{0.35} & \\greenbit{1} & \\brownbit{0} }  $$\n",
    "\n",
    "- We put the second bit in the picture by assuming that the identity operator is applied to it:\n",
    "\n",
    "$$ \n",
    "\\myarray{ccccccc}{\n",
    "\\mbox{first-bit} & \\mbox{second-bit} & \\mbox{third-bit} & probability & \\mbox{first-bit} & \\mbox{second-bit} & \\mbox{third-bit} \\\\ \n",
    "\\greenbit{0} & \\bluebit{0} & \\brownbit{1} & \\xrightarrow{0.35} & \\greenbit{1} & \\bluebit{0} & \\brownbit{0}  \\\\\n",
    "\\greenbit{0} & \\bluebit{1} & \\brownbit{1} & \\xrightarrow{0.35} & \\greenbit{1} & \\bluebit{1} & \\brownbit{0} \\\\\n",
    "\\\\ \\hline \\\\\n",
    "\\greenbit{0} & \\bluebit{0} & \\brownbit{1} & \\xrightarrow{0} & \\greenbit{1} & \\bluebit{1} & \\brownbit{0}  \\\\\n",
    "\\greenbit{0} & \\bluebit{1} & \\brownbit{1} & \\xrightarrow{0} & \\greenbit{1} & \\bluebit{0} & \\brownbit{0}\n",
    "}\n",
    "$$"
   ]
  },
  {
   "cell_type": "markdown",
   "metadata": {},
   "source": [
    "<h3> Task 3</h3>\n",
    "\n",
    "Why are the last two transition probabilities zeros in the above table?"
   ]
  },
  {
   "cell_type": "markdown",
   "metadata": {},
   "source": [
    "<h3> Task 4</h3>\n",
    "\n",
    "We have three bits and the  probabilistic operator \n",
    "$ M = \\mymatrix{rrrr}{0.05 & 0 & 0.70 & 0.60 \\\\ 0.45 & 0.50 & 0.20 & 0.25 \\\\ 0.20 & 0.35 & 0.10 & 0 \\\\ 0.30 & 0.15 & 0 & 0.15 } $ is applied to the first and third bits. \n",
    "\n",
    "What is the corresponding the $(8 \\times 8)$-dimensional matrix applied to the whole system?\n",
    "\n",
    "*You may solve this task by using python.*"
   ]
  },
  {
   "cell_type": "code",
   "execution_count": 1,
   "metadata": {},
   "outputs": [
    {
     "name": "stdout",
     "output_type": "stream",
     "text": [
      "[[1]\n",
      " [0]\n",
      " [0]\n",
      " [0]\n",
      " [0]\n",
      " [0]\n",
      " [0]\n",
      " [0]]\n",
      "(8, 1)\n",
      "\n",
      "[[0.05 0.   0.7  0.6 ]\n",
      " [0.45 0.5  0.2  0.25]\n",
      " [0.2  0.35 0.1  0.  ]\n",
      " [0.3  0.15 0.   0.15]]\n",
      "(4, 4)\n",
      "\n",
      "[[1 0]\n",
      " [0 1]]\n",
      "(2, 2)\n",
      "\n",
      "[[0.0025 0.     0.035  ... 0.     0.     0.    ]\n",
      " [0.0225 0.025  0.01   ... 0.     0.     0.    ]\n",
      " [0.01   0.0175 0.005  ... 0.     0.     0.    ]\n",
      " ...\n",
      " [0.     0.     0.     ... 0.075  0.03   0.0375]\n",
      " [0.     0.     0.     ... 0.0525 0.015  0.    ]\n",
      " [0.     0.     0.     ... 0.0225 0.     0.0225]]\n",
      "(32, 32)\n",
      "\n"
     ]
    },
    {
     "ename": "ValueError",
     "evalue": "matmul: Input operand 1 has a mismatch in its core dimension 0, with gufunc signature (n?,k),(k,m?)->(n?,m?) (size 8 is different from 32)",
     "output_type": "error",
     "traceback": [
      "\u001b[1;31m---------------------------------------------------------------------------\u001b[0m",
      "\u001b[1;31mValueError\u001b[0m                                Traceback (most recent call last)",
      "Input \u001b[1;32mIn [1]\u001b[0m, in \u001b[0;36m<cell line: 36>\u001b[1;34m()\u001b[0m\n\u001b[0;32m     33\u001b[0m \u001b[38;5;28mprint\u001b[39m()\n\u001b[0;32m     35\u001b[0m \u001b[38;5;66;03m# result = M (x) I on state\u001b[39;00m\n\u001b[1;32m---> 36\u001b[0m result \u001b[38;5;241m=\u001b[39m \u001b[43mnp\u001b[49m\u001b[38;5;241;43m.\u001b[39;49m\u001b[43mmatmul\u001b[49m\u001b[43m(\u001b[49m\u001b[43mcomposite_op\u001b[49m\u001b[43m,\u001b[49m\u001b[43mstate88\u001b[49m\u001b[43m)\u001b[49m\n\u001b[0;32m     38\u001b[0m \u001b[38;5;28mprint\u001b[39m(result)\n\u001b[0;32m     39\u001b[0m \u001b[38;5;28mprint\u001b[39m()\n",
      "\u001b[1;31mValueError\u001b[0m: matmul: Input operand 1 has a mismatch in its core dimension 0, with gufunc signature (n?,k),(k,m?)->(n?,m?) (size 8 is different from 32)"
     ]
    }
   ],
   "source": [
    "# the given matrix\n",
    "M = [\n",
    "    [0.05, 0, 0.70, 0.60],\n",
    "    [0.45, 0.50, 0.20, 0.25],\n",
    "    [0.20, 0.35, 0.10, 0],\n",
    "    [0.30, 0.15, 0, 0.15]\n",
    "]\n",
    "\n",
    "import numpy as np\n",
    "state88 = np.kron( np.array([[1],[0]]), np.kron(np.array([[1],[0]]),np.array([[1],[0]]) ) )\n",
    "\n",
    "print(state88)\n",
    "print(np.shape(state88))\n",
    "print()\n",
    "\n",
    "M44 =   np.array(M)\n",
    "\n",
    "print(M44)\n",
    "print(np.shape(M44))\n",
    "print()\n",
    "\n",
    "I22 = np.array([[1,0],[0,1]])\n",
    "\n",
    "print(I22)\n",
    "print(np.shape(I22))\n",
    "print()\n",
    "\n",
    "# composite operator = M (x) I (X) M\n",
    "composite_op = np.kron(M44, np.kron(I22,M44))\n",
    "\n",
    "print(composite_op)\n",
    "print(np.shape(composite_op))\n",
    "print()\n",
    "\n",
    "# result = M (x) I on state\n",
    "result = np.matmul(composite_op,state88)\n",
    "\n",
    "print(result)\n",
    "print()"
   ]
  },
  {
   "cell_type": "markdown",
   "metadata": {},
   "source": [
    "<a href=\"CS40_Operators_on_Multiple_Bits_Solutions.ipynb#task4\">click for our solution</a>"
   ]
  },
  {
   "cell_type": "markdown",
   "metadata": {},
   "source": [
    "### Controlled operators"
   ]
  },
  {
   "cell_type": "markdown",
   "metadata": {},
   "source": [
    "The matrix form of the controlled-NOT operator is as follows:\n",
    "\n",
    "$ CNOT = \\mymatrix{cc|cc}{ 1 & 0 & 0 & 0 \\\\ 0 & 1 & 0 & 0 \\\\ \\hline 0 & 0 & 0 & 1 \\\\ 0 & 0 & 1 & 0 } \n",
    "= \\mymatrix{c|c}{ I & \\mathbf{0} \\\\ \\hline \\mathbf{0} & X},\n",
    "$\n",
    "where $ X $ denotes the NOT operator.\n",
    "\n",
    "Similarly, for a given single bit operator $ M $, we can define the controlled-$M$ operator (where the first bit is the control bit and the second bit is target bit) as follows:\n",
    "\n",
    "$ CM = \\mymatrix{c|c}{ I & \\mathbf{0} \\\\ \\hline \\mathbf{0} & M } $\n",
    "\n",
    "By definition:\n",
    "* when the first bit is 0, the identity is applied to the second bit, and\n",
    "* when the first bit is 1, the operator $ M $ is applied to the second bit. \n",
    "\n",
    "Here we observe that the matrix $ CM $ has a nice form because the first bit is control bit. The matrix $ CM $ given above is divided into four sub-matrices based on the states of the first bit. Then, we can follow that\n",
    "* the value of the first bit never changes, and so the off diagonal sub-matrices are zeros; \n",
    "* when the first bit is 0, the identity is applied to the second bit, and so top-left matrix is $ I $; and, \n",
    "* when the first bit is 1, the operator $ M $ is applied to the second bit, and so the bottom-right matrix is $ M $."
   ]
  },
  {
   "cell_type": "markdown",
   "metadata": {},
   "source": [
    "<h3> Task 5</h3>\n",
    "\n",
    "Let $ M = \\mymatrix{cc}{0.7 & 0.4 \\\\ 0.3 & 0.6} $ be a single bit operator. What is the matrix form of the controlled-$M$ operator where the first bit is the target bit and the second bit is the control bit."
   ]
  },
  {
   "cell_type": "markdown",
   "metadata": {},
   "source": [
    "$$\n",
    "CM = \\begin{bmatrix} I & 0 \\\\ 0 & M \\\\ \\end{bmatrix} =\n",
    "\\begin{bmatrix} \n",
    "1 & 0 & 0 & 0 \\\\\n",
    "0 & 1 & 0 & 0 \\\\\n",
    "0 & 0 & 0.7 & 0.4 \\\\\n",
    "0 & 0 & 0.3 & 0.6 \\\\\n",
    "\\end{bmatrix}\n",
    "$$"
   ]
  },
  {
   "cell_type": "markdown",
   "metadata": {},
   "source": [
    "<a href=\"CS40_Operators_on_Multiple_Bits_Solutions.ipynb#task5\">click for our solution</a>"
   ]
  },
  {
   "cell_type": "markdown",
   "metadata": {},
   "source": [
    "### Controlled operator activated when in state 0 "
   ]
  },
  {
   "cell_type": "markdown",
   "metadata": {},
   "source": [
    "For a given single bit operator $ M $, **how can we obtain the following operator** by using the operator $ CM $?\n",
    "\n",
    "$ C_0M = \\mymatrix{c|c}{ M & \\mathbf{0} \\\\ \\hline \\mathbf{0} & I } $\n",
    "\n",
    "Controlled operator are defined to be triggered when the control bit is in state 1. In this example, we expect it to be triggered when the control bit is in state 0.\n",
    "\n",
    "Here we can use a simple trick. We first apply NOT operator to the first bit, and then the CM operator, and again NOT operator. In this way, we guarentee that $ M $ is applied to the second bit if the first bit is state 0 and do nothing if the first bit is in state 1. In short:\n",
    "\n",
    "$$ C_0M = (X \\otimes I) \\cdot (CM) \\cdot ( X \\otimes I ). $$"
   ]
  },
  {
   "cell_type": "markdown",
   "metadata": {},
   "source": [
    "<h3> Task 6</h3>\n",
    "\n",
    "Verify that $ C_0M = (X \\otimes I) \\cdot (CM) \\cdot ( X \\otimes I ) = \\mymatrix{c|c}{ M & \\mathbf{0} \\\\ \\hline \\mathbf{0} & I }  $."
   ]
  },
  {
   "cell_type": "markdown",
   "metadata": {},
   "source": [
    "<a href=\"CS40_Operators_on_Multiple_Bits_Solutions.ipynb#task6\">click for our solution</a>"
   ]
  },
  {
   "cell_type": "markdown",
   "metadata": {},
   "source": [
    "<h3> Task 7</h3>\n",
    "\n",
    "For the given two single bit operators $ M $ and $ N $, let $ CM $ and $ CN $ be the controlled-$M$ and controlled-$N$ operators. By using $ X $, $ CM $, and $ CN $ operators, how can we obtain the operator $ \\mymatrix{c|c}{ M & \\mathbf{0} \\\\ \\hline \\mathbf{0} & N} $?\n"
   ]
  }
 ],
 "metadata": {
  "kernelspec": {
   "display_name": "Python 3 (ipykernel)",
   "language": "python",
   "name": "python3"
  },
  "language_info": {
   "codemirror_mode": {
    "name": "ipython",
    "version": 3
   },
   "file_extension": ".py",
   "mimetype": "text/x-python",
   "name": "python",
   "nbconvert_exporter": "python",
   "pygments_lexer": "ipython3",
   "version": "3.10.5"
  }
 },
 "nbformat": 4,
 "nbformat_minor": 2
}
