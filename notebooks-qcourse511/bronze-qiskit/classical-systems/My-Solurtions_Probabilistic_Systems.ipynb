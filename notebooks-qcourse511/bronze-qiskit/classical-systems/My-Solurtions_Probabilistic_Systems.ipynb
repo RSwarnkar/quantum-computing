{
 "cells": [
  {
   "cell_type": "markdown",
   "id": "4b18607a",
   "metadata": {},
   "source": [
    "1. \n",
    "A. (0,0.7), (0.7,0) \\\n",
    "B. (0.35,0.35)  \n",
    "C. (0.3,0.4) and so on..\n"
   ]
  },
  {
   "cell_type": "code",
   "execution_count": null,
   "id": "99f065ae",
   "metadata": {},
   "outputs": [],
   "source": []
  }
 ],
 "metadata": {
  "kernelspec": {
   "display_name": "qcourse511",
   "language": "python",
   "name": "qcourse511"
  },
  "language_info": {
   "codemirror_mode": {
    "name": "ipython",
    "version": 3
   },
   "file_extension": ".py",
   "mimetype": "text/x-python",
   "name": "python",
   "nbconvert_exporter": "python",
   "pygments_lexer": "ipython3",
   "version": "3.10.5"
  }
 },
 "nbformat": 4,
 "nbformat_minor": 5
}
