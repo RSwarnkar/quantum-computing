{
 "cells": [
  {
   "cell_type": "markdown",
   "metadata": {},
   "source": [
    "<a href=\"https://qworld.net\" target=\"_blank\" align=\"left\"><img src=\"../qworld/images/header.jpg\"  align=\"left\"></a>\n",
    "$ \\newcommand{\\bra}[1]{\\langle #1|} $\n",
    "$ \\newcommand{\\ket}[1]{|#1\\rangle} $\n",
    "$ \\newcommand{\\braket}[2]{\\langle #1|#2\\rangle} $\n",
    "$ \\newcommand{\\dot}[2]{ #1 \\cdot #2} $\n",
    "$ \\newcommand{\\biginner}[2]{\\left\\langle #1,#2\\right\\rangle} $\n",
    "$ \\newcommand{\\mymatrix}[2]{\\left( \\begin{array}{#1} #2\\end{array} \\right)} $\n",
    "$ \\newcommand{\\myvector}[1]{\\mymatrix{c}{#1}} $\n",
    "$ \\newcommand{\\myrvector}[1]{\\mymatrix{r}{#1}} $\n",
    "$ \\newcommand{\\mypar}[1]{\\left( #1 \\right)} $\n",
    "$ \\newcommand{\\mybigpar}[1]{ \\Big( #1 \\Big)} $\n",
    "$ \\newcommand{\\sqrttwo}{\\frac{1}{\\sqrt{2}}} $\n",
    "$ \\newcommand{\\dsqrttwo}{\\dfrac{1}{\\sqrt{2}}} $\n",
    "$ \\newcommand{\\onehalf}{\\frac{1}{2}} $\n",
    "$ \\newcommand{\\donehalf}{\\dfrac{1}{2}} $\n",
    "$ \\newcommand{\\hadamard}{ \\mymatrix{rr}{ \\sqrttwo & \\sqrttwo \\\\ \\sqrttwo & -\\sqrttwo }} $\n",
    "$ \\newcommand{\\vzero}{\\myvector{1\\\\0}} $\n",
    "$ \\newcommand{\\vone}{\\myvector{0\\\\1}} $\n",
    "$ \\newcommand{\\stateplus}{\\myvector{ \\sqrttwo \\\\  \\sqrttwo } } $\n",
    "$ \\newcommand{\\stateminus}{ \\myrvector{ \\sqrttwo \\\\ -\\sqrttwo } } $\n",
    "$ \\newcommand{\\myarray}[2]{ \\begin{array}{#1}#2\\end{array}} $\n",
    "$ \\newcommand{\\X}{ \\mymatrix{cc}{0 & 1 \\\\ 1 & 0}  } $\n",
    "$ \\newcommand{\\I}{ \\mymatrix{rr}{1 & 0 \\\\ 0 & 1}  } $\n",
    "$ \\newcommand{\\Z}{ \\mymatrix{rr}{1 & 0 \\\\ 0 & -1}  } $\n",
    "$ \\newcommand{\\Htwo}{ \\mymatrix{rrrr}{ \\frac{1}{2} & \\frac{1}{2} & \\frac{1}{2} & \\frac{1}{2} \\\\ \\frac{1}{2} & -\\frac{1}{2} & \\frac{1}{2} & -\\frac{1}{2} \\\\ \\frac{1}{2} & \\frac{1}{2} & -\\frac{1}{2} & -\\frac{1}{2} \\\\ \\frac{1}{2} & -\\frac{1}{2} & -\\frac{1}{2} & \\frac{1}{2} } } $\n",
    "$ \\newcommand{\\CNOT}{ \\mymatrix{cccc}{1 & 0 & 0 & 0 \\\\ 0 & 1 & 0 & 0 \\\\ 0 & 0 & 0 & 1 \\\\ 0 & 0 & 1 & 0} } $\n",
    "$ \\newcommand{\\norm}[1]{ \\left\\lVert #1 \\right\\rVert } $\n",
    "$ \\newcommand{\\pstate}[1]{ \\lceil \\mspace{-1mu} #1 \\mspace{-1.5mu} \\rfloor } $\n",
    "$ \\newcommand{\\greenbit}[1] {\\mathbf{{\\color{green}#1}}} $\n",
    "$ \\newcommand{\\bluebit}[1] {\\mathbf{{\\color{blue}#1}}} $\n",
    "$ \\newcommand{\\redbit}[1] {\\mathbf{{\\color{red}#1}}} $\n",
    "$ \\newcommand{\\brownbit}[1] {\\mathbf{{\\color{brown}#1}}} $\n",
    "$ \\newcommand{\\blackbit}[1] {\\mathbf{{\\color{black}#1}}} $"
   ]
  },
  {
   "cell_type": "markdown",
   "metadata": {},
   "source": [
    "<font style=\"font-size:28px;\" align=\"left\"><b>Coin Flip: A Probabilistic Bit </b></font>\n",
    "<br>\n",
    "_prepared by Abuzer Yakaryilmaz_\n",
    "<br><br>\n",
    "[<img src=\"../qworld/images/watch_lecture.jpg\" align=\"left\">](https://youtu.be/uGKHEsVcSEs)\n",
    "<br><br><br>"
   ]
  },
  {
   "cell_type": "markdown",
   "metadata": {},
   "source": [
    "<h3> A fair coin </h3>\n",
    "\n",
    "A coin has two sides: <i>Heads</i> and <i>Tails</i>.\n",
    "\n",
    "After flipping a coin, we get either Heads or Tails. We can represent these two different cases by a single bit:\n",
    "<ul>\n",
    "    <li> 0 represents Heads </li>\n",
    "    <li> 1 represents Tails </li>\n",
    "</ul>"
   ]
  },
  {
   "cell_type": "markdown",
   "metadata": {},
   "source": [
    "<h3> Flipping a fair coin </h3>\n",
    "\n",
    "If our coin is fair, then the probabilities of getting Heads and Tails are equal:\n",
    "\n",
    "$ p= \\dfrac{1}{2} = 0.5 $.\n",
    "\n",
    "Flipping a fair coin can be represented as an operator:\n",
    "<ul>\n",
    "    <li> $ FairCoin(Heads) = \\frac{1}{2} Heads + \\frac{1}{2}Tails $ </li>\n",
    "    <li> $ FairCoin(Tails) \\mspace{10mu} = \\frac{1}{2} Heads + \\frac{1}{2}Tails $ </li>\n",
    "</ul>\n",
    "\n",
    "Here is its table representation:\n",
    "\n",
    "$\n",
    "FairCoin = \\begin{array}{c|cc} \\hookleftarrow & \\mathbf{Heads} & \\mathbf{Tails} \\\\ \\hline \\mathbf{Heads} & \\dfrac{1}{2} & \\dfrac{1}{2} \\\\  \\mathbf{Tails} & \\dfrac{1}{2} & \\dfrac{1}{2}  \\end{array} \n",
    "$\n",
    "\n",
    "Here is the same table by using 0 and 1 as the states:\n",
    "\n",
    "$\n",
    "FairCoin = \\begin{array}{c|cc} \\hookleftarrow & \\mathbf{0} & \\mathbf{1} \\\\ \\hline \\mathbf{0} & \\dfrac{1}{2} & \\dfrac{1}{2} \\\\  \\mathbf{1} & \\dfrac{1}{2} & \\dfrac{1}{2}  \\end{array} \n",
    "$"
   ]
  },
  {
   "cell_type": "markdown",
   "metadata": {},
   "source": [
    "<h3> Task 1: Simulating FairCoin in Python</h3>\n",
    "\n",
    "Flip a fair coin 100 times. Calculate the total number of heads and tails, and then check the ratio of the number of heads and the number of tails.\n",
    "\n",
    "Do the same experiment 1000 times.\n",
    "\n",
    "Do the same experiment 10,000 times.\n",
    "\n",
    "Do the same experiment 100,000 times.\n",
    "\n",
    "Do your results get close to the ideal case (the numbers of heads and tails are equal)?"
   ]
  },
  {
   "cell_type": "markdown",
   "metadata": {},
   "source": [
    "# Solved by Rajesh Swarnkar: "
   ]
  },
  {
   "cell_type": "code",
   "execution_count": 33,
   "metadata": {},
   "outputs": [
    {
     "name": "stdout",
     "output_type": "stream",
     "text": [
      "Fair coin operator: \n",
      " [[0.5 0.5]\n",
      " [0.5 0.5]]  and its shape is  (2, 2)\n",
      "\n",
      "Initial coin state: \n",
      " [[1]\n",
      " [0]]  and its shape is  (2, 1)\n",
      "\n",
      "Trials= 100 Ratio(PH/PT)= 1.02\n",
      "Trials= 1000 Ratio(PH/PT)= 1.0018181818181817\n",
      "Trials= 10000 Ratio(PH/PT)= 1.0001801801801802\n",
      "Trials= 100000 Ratio(PH/PT)= 1.00001800180018\n"
     ]
    }
   ],
   "source": [
    "import numpy as np \n",
    "\n",
    "# storage\n",
    "experiment_set = [100, 1000, 10000, 100000]\n",
    "ratio = []\n",
    "\n",
    "# operator\n",
    "fair_coin_operator = np.array([[0.5,0.5],[0.5,0.5]])\n",
    "\n",
    "#initial_state\n",
    "coin_state = np.array([[1],[0]]) # Assum the initial state was head \n",
    "\n",
    "print(\"Fair coin operator: \\n\",fair_coin_operator,\" and its shape is \",np.shape(fair_coin_operator))\n",
    "print()\n",
    "\n",
    "print(\"Initial coin state: \\n\",coin_state,\" and its shape is \",np.shape(coin_state))\n",
    "print()\n",
    "\n",
    "for eset in experiment_set:   \n",
    "    for i in range(eset):\n",
    "        # toss\n",
    "        if np.random.randint(low=0,high=2,size=1)[0] == 0:   ## This might be wrong if the random was not uniform\n",
    "            # We know that the toss was fair till now but we will operate with fair coin operator \n",
    "            coin_state = coin_state + np.matmul(fair_coin_operator,np.array([[1],[0]]))\n",
    "        else:\n",
    "            coin_state = coin_state + np.matmul(fair_coin_operator,np.array([[0],[1]]))\n",
    "    \n",
    "    # End of 1 set of experiemnt:        \n",
    "    ratio.append(coin_state[0][0]/coin_state[1][0])\n",
    "\n",
    "    \n",
    "for i in range(len(experiment_set)):\n",
    "    print(\"Trials=\",experiment_set[i],\"Ratio(PH/PT)=\",ratio[i])"
   ]
  },
  {
   "cell_type": "markdown",
   "metadata": {},
   "source": [
    "<a href=\"CS08_Coin_Flip_Solutions.ipynb#task1\">click for our solution</a>"
   ]
  },
  {
   "cell_type": "markdown",
   "metadata": {},
   "source": [
    "<h3> Flipping a biased coin </h3>\n",
    "\n",
    "Our coin may have a bias. \n",
    "\n",
    "For example, the probability of getting heads is greater than the probability of getting tails.\n",
    "\n",
    "Here is an example:\n",
    "\n",
    "$\n",
    "BiasedCoin = \\begin{array}{c|cc} \\hookleftarrow & \\mathbf{Heads} & \\mathbf{Tails} \\\\ \\hline \\mathbf{Heads} & 0.6 & 0.6 \\\\  \\mathbf{Tails} & 0.4 & 0.4  \\end{array}\n",
    "$\n",
    "\n",
    "By using 0 and 1 as the states:\n",
    "\n",
    "$\n",
    "BiasedCoin = \\begin{array}{c|cc} \\hookleftarrow & \\mathbf{0} & \\mathbf{1} \\\\ \\hline \\mathbf{0} & 0.6 & 0.6\\\\  \\mathbf{1} & 0.4 & 0.4 \\end{array}\n",
    "$"
   ]
  },
  {
   "cell_type": "markdown",
   "metadata": {},
   "source": [
    "<h3> Task 2: Simulating BiasedCoin in Python</h3>\n",
    "\n",
    "Flip the following biased coin 100 times. Calculate the total numbers of heads and tails, and then check the ratio of the number of heads and the number of tails.\n",
    "\n",
    "$\n",
    "BiasedCoin = \\begin{array}{c|cc} \\hookleftarrow & \\mathbf{Head} & \\mathbf{Tail} \\\\ \\hline \\mathbf{Head} & 0.6 & 0.6 \\\\  \\mathbf{Tail} & 0.4 & 0.4  \\end{array}\n",
    "$\n",
    "\n",
    "\n",
    "Do the same experiment 1000 times.\n",
    "\n",
    "Do the same experiment 10,000 times.\n",
    "\n",
    "Do the same experiment 100,000 times.\n",
    "\n",
    "Do your results get close to the ideal case $ \\mypar{ \\dfrac{ \\mbox{# of heads} }{ \\mbox{# of tails} } = \\dfrac{0.6}{0.4} = 1.50000000 } $?"
   ]
  },
  {
   "cell_type": "code",
   "execution_count": 5,
   "metadata": {},
   "outputs": [
    {
     "name": "stdout",
     "output_type": "stream",
     "text": [
      "Biased coin operator: \n",
      " [[0.6 0.6]\n",
      " [0.4 0.4]]  and its shape is  (2, 2)\n",
      "\n",
      "Initial coin state: \n",
      " [[1]\n",
      " [0]]  and its shape is  (2, 1)\n",
      "\n",
      "Trials= 100 Ratio(PH/PT)= 1.5250000000000055\n",
      "Trials= 1000 Ratio(PH/PT)= 1.5022727272727852\n",
      "Trials= 10000 Ratio(PH/PT)= 1.5002252252253605\n",
      "Trials= 100000 Ratio(PH/PT)= 1.500022502244856\n"
     ]
    }
   ],
   "source": [
    "import numpy as np \n",
    "\n",
    "\n",
    "# storage\n",
    "experiment_set = [100, 1000, 10000, 100000]\n",
    "ratio = []\n",
    "\n",
    "# operator\n",
    "#fair_coin_operator = np.array([[0.5,0.5],[0.5,0.5]])\n",
    "biased_coin_operator = np.array([[0.6,0.6],[0.4,0.4]])\n",
    "\n",
    "#biased_coin_operator = np.array([[0.6,0.4],[0.6,0.4]])\n",
    "#biased_coin_operator = np.transpose(biased_coin_operator) # Important Please be aware of this\n",
    "\n",
    "#initial_state\n",
    "coin_state = np.array([[1],[0]]) # Assum the initial state was head \n",
    "\n",
    "print(\"Biased coin operator: \\n\",biased_coin_operator,\" and its shape is \",np.shape(biased_coin_operator))\n",
    "print()\n",
    "\n",
    "print(\"Initial coin state: \\n\",coin_state,\" and its shape is \",np.shape(coin_state))\n",
    "print()\n",
    "\n",
    "for eset in experiment_set:   \n",
    "    for i in range(eset):\n",
    "        # toss\n",
    "        if np.random.randint(low=0,high=2,size=1)[0] == 0:   # This generates uniform randoms\n",
    "            # We know that the toss was fair till now but we will operate with biased coin operator \n",
    "            coin_state = coin_state + np.matmul(biased_coin_operator,np.array([[1],[0]]))\n",
    "        else:\n",
    "            coin_state = coin_state + np.matmul(biased_coin_operator,np.array([[0],[1]]))\n",
    "    \n",
    "    # End of 1 set of experiemnt:        \n",
    "    ratio.append(coin_state[0][0]/coin_state[1][0])\n",
    "\n",
    "    \n",
    "for i in range(len(experiment_set)):\n",
    "    print(\"Trials=\",experiment_set[i],\"Ratio(PH/PT)=\",ratio[i])\n"
   ]
  },
  {
   "cell_type": "markdown",
   "metadata": {},
   "source": [
    "<a href=\"CS08_Coin_Flip_Solutions.ipynb#task2\">click for our solution</a>"
   ]
  },
  {
   "cell_type": "markdown",
   "metadata": {},
   "source": [
    "---\n",
    "\n",
    "<h3> Extra: Programming a biased coin </h3>\n",
    "\n",
    "We use a simple method to create a biased coin.\n",
    "\n",
    "First, we pick a range for the precision of probabilities, say $ N $, as $ N = 11, 101, 1001, \\mbox{ or }, 10^k+1 $ for some $ k > 3 $.\n",
    "\n",
    "Second, we pick the bias, say $ B $, as an integer in $ \\{0,\\ldots,N\\} $.\n",
    "\n",
    "We fix $ N $ and $ B $.\n",
    "\n",
    "Third, we pick a random integer in $ \\{0,1,\\ldots,N-1\\} $:\n",
    "<ul>\n",
    "    <li> if it is less than $ B $, we output \"Heads\" and </li>\n",
    "    <li> if it is equal to or greater than $ B $, we output \"Tails\" </li>\n",
    "</ul>\n",
    "    \n",
    "In this way, we have a biased coin \"landing on\" heads with probability $ \\frac{B}{N} $ including 0 and 1.\n",
    "\n",
    "Remark that we pick $ N = 10^k+1 $ as an odd number. In this way, the coin cannot be fair as long as $ B $ is an integer. Because, the half of an odd integer is not an integer."
   ]
  },
  {
   "cell_type": "markdown",
   "metadata": {},
   "source": [
    "<h3> Task 3 </h3>\n",
    "\n",
    "Write a function to implement the described biased coin,\n",
    "\n",
    "The inputs are integers $N>0$ and $ B \\in \\{0,\\ldots,N\\} $.\n",
    "\n",
    "The output is either \"Heads\" or \"Tails\"."
   ]
  },
  {
   "cell_type": "code",
   "execution_count": 7,
   "metadata": {},
   "outputs": [
    {
     "name": "stdout",
     "output_type": "stream",
     "text": [
      "101   52\n",
      "[[0.51485149 0.51485149]\n",
      " [0.48514851 0.48514851]]\n"
     ]
    }
   ],
   "source": [
    "import numpy as np \n",
    "\n",
    "def biased_coin_toss(N,B):\n",
    "    from random import randrange\n",
    "    random_number = randrange(N)\n",
    "    bias_h = B/N + 0.0 \n",
    "    bias_t = 1 - bias_h\n",
    "    bias_op = np.array([[bias_h,bias_h],[bias_t,bias_t]])\n",
    "    return bias_op\n",
    "    \n",
    "\n",
    "N = 101\n",
    "B = np.random.randint(low=0,high=N,size=1)[0] # between -0 to 9\n",
    "print(N,\" \",B)\n",
    "\n",
    "print(biased_coin_toss(N,B))\n"
   ]
  },
  {
   "cell_type": "markdown",
   "metadata": {},
   "source": [
    "<a href=\"CS08_Coin_Flip_Solutions.ipynb#task3\">click for our solution</a>"
   ]
  },
  {
   "cell_type": "markdown",
   "metadata": {},
   "source": [
    "<h3> Task 4</h3>\n",
    "\n",
    "We use the biased coin described in Task 3. \n",
    "\n",
    "(You may use the function given <a href=\"CS08_Coin_Flip_Solutions.ipynb#task3\">in the solution</a>.)\n",
    "\n",
    "We pick $ N $ as 101.\n",
    "\n",
    "Our task is to determine the value of $ B $ experimentially without looking its value directly.\n",
    "\n",
    "Flip the (same) biased coin 500 times, collect the statistics, and then guess the bias.\n",
    "\n",
    "Compare your guess with the actual bias by calculating the relative error in percentage (the absolute value of the difference divided by the real bias)."
   ]
  },
  {
   "cell_type": "code",
   "execution_count": 17,
   "metadata": {},
   "outputs": [
    {
     "name": "stdout",
     "output_type": "stream",
     "text": [
      "76\n",
      "\n",
      "[[0.75247525]\n",
      " [0.24752475]]\n",
      "my guess is 0.7524752475247525\n",
      "real bias is 0.7524752475247525\n",
      "error (%) is 0.0\n"
     ]
    }
   ],
   "source": [
    "from random import randrange\n",
    "\n",
    "N = 101\n",
    "B = np.random.randint(low=0,high=N,size=1)[0] # between -0 to 9\n",
    "\n",
    "print(B)\n",
    "print()\n",
    "\n",
    "total_tosses = 20\n",
    "\n",
    "state = np.array([[1],[0]]) # initially is Head\n",
    "\n",
    "for i in range(total_tosses):\n",
    "    state = np.matmul(biased_coin_toss(N,B),state)\n",
    "\n",
    "print(state)    \n",
    "\n",
    "\n",
    "my_guess =  state[0][0]\n",
    "\n",
    "real_bias = B/N\n",
    "\n",
    "error = abs(my_guess-real_bias)/real_bias*100 \n",
    "\n",
    "print(\"my guess is\",my_guess)\n",
    "print(\"real bias is\",real_bias)\n",
    "print(\"error (%) is\",error)\n",
    "\n"
   ]
  },
  {
   "cell_type": "markdown",
   "metadata": {},
   "source": [
    "<a href=\"CS08_Coin_Flip_Solutions.ipynb#task4\">click for our solution</a>"
   ]
  }
 ],
 "metadata": {
  "kernelspec": {
   "display_name": "Python 3 (ipykernel)",
   "language": "python",
   "name": "python3"
  },
  "language_info": {
   "codemirror_mode": {
    "name": "ipython",
    "version": 3
   },
   "file_extension": ".py",
   "mimetype": "text/x-python",
   "name": "python",
   "nbconvert_exporter": "python",
   "pygments_lexer": "ipython3",
   "version": "3.10.5"
  }
 },
 "nbformat": 4,
 "nbformat_minor": 2
}
