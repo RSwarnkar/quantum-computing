{
 "cells": [
  {
   "cell_type": "markdown",
   "metadata": {},
   "source": [
    "<a href=\"https://qworld.net\" target=\"_blank\" align=\"left\"><img src=\"../qworld/images/header.jpg\"  align=\"left\"></a>\n",
    "$ \\newcommand{\\bra}[1]{\\langle #1|} $\n",
    "$ \\newcommand{\\ket}[1]{|#1\\rangle} $\n",
    "$ \\newcommand{\\braket}[2]{\\langle #1|#2\\rangle} $\n",
    "$ \\newcommand{\\dot}[2]{ #1 \\cdot #2} $\n",
    "$ \\newcommand{\\biginner}[2]{\\left\\langle #1,#2\\right\\rangle} $\n",
    "$ \\newcommand{\\mymatrix}[2]{\\left( \\begin{array}{#1} #2\\end{array} \\right)} $\n",
    "$ \\newcommand{\\myvector}[1]{\\mymatrix{c}{#1}} $\n",
    "$ \\newcommand{\\myrvector}[1]{\\mymatrix{r}{#1}} $\n",
    "$ \\newcommand{\\mypar}[1]{\\left( #1 \\right)} $\n",
    "$ \\newcommand{\\mybigpar}[1]{ \\Big( #1 \\Big)} $\n",
    "$ \\newcommand{\\sqrttwo}{\\frac{1}{\\sqrt{2}}} $\n",
    "$ \\newcommand{\\dsqrttwo}{\\dfrac{1}{\\sqrt{2}}} $\n",
    "$ \\newcommand{\\onehalf}{\\frac{1}{2}} $\n",
    "$ \\newcommand{\\donehalf}{\\dfrac{1}{2}} $\n",
    "$ \\newcommand{\\hadamard}{ \\mymatrix{rr}{ \\sqrttwo & \\sqrttwo \\\\ \\sqrttwo & -\\sqrttwo }} $\n",
    "$ \\newcommand{\\vzero}{\\myvector{1\\\\0}} $\n",
    "$ \\newcommand{\\vone}{\\myvector{0\\\\1}} $\n",
    "$ \\newcommand{\\stateplus}{\\myvector{ \\sqrttwo \\\\  \\sqrttwo } } $\n",
    "$ \\newcommand{\\stateminus}{ \\myrvector{ \\sqrttwo \\\\ -\\sqrttwo } } $\n",
    "$ \\newcommand{\\myarray}[2]{ \\begin{array}{#1}#2\\end{array}} $\n",
    "$ \\newcommand{\\X}{ \\mymatrix{cc}{0 & 1 \\\\ 1 & 0}  } $\n",
    "$ \\newcommand{\\I}{ \\mymatrix{rr}{1 & 0 \\\\ 0 & 1}  } $\n",
    "$ \\newcommand{\\Z}{ \\mymatrix{rr}{1 & 0 \\\\ 0 & -1}  } $\n",
    "$ \\newcommand{\\Htwo}{ \\mymatrix{rrrr}{ \\frac{1}{2} & \\frac{1}{2} & \\frac{1}{2} & \\frac{1}{2} \\\\ \\frac{1}{2} & -\\frac{1}{2} & \\frac{1}{2} & -\\frac{1}{2} \\\\ \\frac{1}{2} & \\frac{1}{2} & -\\frac{1}{2} & -\\frac{1}{2} \\\\ \\frac{1}{2} & -\\frac{1}{2} & -\\frac{1}{2} & \\frac{1}{2} } } $\n",
    "$ \\newcommand{\\CNOT}{ \\mymatrix{cccc}{1 & 0 & 0 & 0 \\\\ 0 & 1 & 0 & 0 \\\\ 0 & 0 & 0 & 1 \\\\ 0 & 0 & 1 & 0} } $\n",
    "$ \\newcommand{\\norm}[1]{ \\left\\lVert #1 \\right\\rVert } $\n",
    "$ \\newcommand{\\pstate}[1]{ \\lceil \\mspace{-1mu} #1 \\mspace{-1.5mu} \\rfloor } $\n",
    "$ \\newcommand{\\greenbit}[1] {\\mathbf{{\\color{green}#1}}} $\n",
    "$ \\newcommand{\\bluebit}[1] {\\mathbf{{\\color{blue}#1}}} $\n",
    "$ \\newcommand{\\redbit}[1] {\\mathbf{{\\color{red}#1}}} $\n",
    "$ \\newcommand{\\brownbit}[1] {\\mathbf{{\\color{brown}#1}}} $\n",
    "$ \\newcommand{\\blackbit}[1] {\\mathbf{{\\color{black}#1}}} $"
   ]
  },
  {
   "cell_type": "markdown",
   "metadata": {},
   "source": [
    "<font style=\"font-size:28px;\" align=\"left\"><b>Two Probabilistic Bits  </b></font>\n",
    "<br>\n",
    "_prepared by Abuzer Yakaryilmaz_\n",
    "<br><br>\n",
    "[<img src=\"../qworld/images/watch_lecture.jpg\" align=\"left\">](https://youtu.be/ulbd-1c71sk)\n",
    "<br><br><br>"
   ]
  },
  {
   "cell_type": "markdown",
   "metadata": {},
   "source": [
    "Suppose that we have two probabilistic bits, and our probabilistic states respectively are\n",
    "\n",
    "$ \\myvector{0.2 \\\\ 0.8} \\mbox{ and } \\myvector{0.6 \\\\ 0.4 }. $\n",
    "\n",
    "If we combine both bits as a single system, then what is the state of the combined system?"
   ]
  },
  {
   "cell_type": "markdown",
   "metadata": {},
   "source": [
    "In total, we have four different states. We can name them as follows:\n",
    "<ul>\n",
    "    <li>00: both bits are in states 0</li>\n",
    "    <li>01: the first bit is in state 0 and the second bit is in state 1</li>\n",
    "    <li>10: the first bit is in state 1 and the second bit is in state 0</li>\n",
    "    <li>11: both bits are in states 1</li>\n",
    "</ul>"
   ]
  },
  {
   "cell_type": "markdown",
   "metadata": {},
   "source": [
    "<h3> Task 1 </h3>\n",
    "\n",
    "<b>Discussion and analysis:</b>\n",
    "\n",
    "What are the probabilities of being in states $ 00 $, $ 01 $, $ 10 $, and $11$?\n",
    "\n",
    "How can we represent these probabilities as a column vector?"
   ]
  },
  {
   "cell_type": "markdown",
   "metadata": {},
   "source": [
    "$$\n",
    "\\require{enclose}\n",
    "{\\scriptstyle \\alpha_1 . \\enclose{circle}{\\kern .06em 00\\kern .06em} + \\alpha_2 . \\enclose{circle}{\\kern .06em 01\\kern .06em} + \\alpha_3 . \\enclose{circle}{\\kern .06em 10\\kern .06em} + \\alpha_4 . \\enclose{circle}{\\kern .06em 11\\kern .06em}}\n",
    "$$"
   ]
  },
  {
   "cell_type": "markdown",
   "metadata": {},
   "source": [
    "$$\n",
    "\\begin{bmatrix}\n",
    "\\alpha_1 \\\\ \\alpha_2 \\\\ \\alpha_3 \\\\ \\alpha_4 \\\\\n",
    "\\end{bmatrix}\n",
    "$$"
   ]
  },
  {
   "cell_type": "markdown",
   "metadata": {},
   "source": [
    "<h3> Representation for states 0 and 1</h3>\n",
    "\n",
    "The vector representation of state 0 is $ \\myvector{1 \\\\ 0} $. Similarly, the vector representation of state 1 is $ \\myvector{0 \\\\ 1} $.\n",
    "\n",
    "We use $ \\pstate{0} $ to represent $ \\myvector{1 \\\\ 0} $ and $ \\pstate{1} $ to represent $ \\myvector{0 \\\\ 1} $.\n",
    "\n",
    "Then, the probabilistic state $ \\myvector{0.2 \\\\ 0.8} $ is also represented as $ 0.2 \\pstate{0} + 0.8 \\pstate{1} $.\n",
    "\n",
    "Similarly, the probabilistic state $ \\myvector{0.6 \\\\ 0.4} $ is also represented as $ 0.6 \\pstate{0} + 0.4 \\pstate{1} $."
   ]
  },
  {
   "cell_type": "markdown",
   "metadata": {},
   "source": [
    "<h3> Composite systems </h3>\n",
    "\n",
    "When two systems are composed, then their states are tensored to calculate the state of composite system.\n",
    "\n",
    "The probabilistic state of the first bit is $  \\myvector{0.2 \\\\ 0.8} = 0.2 \\pstate{0} + 0.8 \\pstate{1} $.\n",
    "\n",
    "The probabilistic state of the second bit is $  \\myvector{0.6 \\\\ 0.4} = 0.6 \\pstate{0} + 0.4 \\pstate{1} $.\n",
    "\n",
    "Then, the probabilistic state of the composite system is $ \\big( 0.2 \\pstate{0} + 0.8 \\pstate{1} \\big) \\otimes  \\big( 0.6 \\pstate{0} + 0.4 \\pstate{1} \\big) $.\n"
   ]
  },
  {
   "cell_type": "markdown",
   "metadata": {},
   "source": [
    "<h3> Task 2 </h3>\n",
    "\n",
    "Find the probabilistic state of the composite system.\n",
    "\n",
    "<i> \n",
    "Rule 1: Tensor product distributes over addition in the same way as the distribution of multiplication over addition.\n",
    "\n",
    "Rule 2: $ \\big( 0.3 \\pstate{1} \\big) \\otimes \\big( 0.7 \\pstate{0} \\big) = (0.3 \\cdot 0.7) \\big( \\pstate{1} \\otimes \\pstate{0} \\big) = 0.21 \\pstate{10} $.\n",
    "</i>"
   ]
  },
  {
   "cell_type": "markdown",
   "metadata": {},
   "source": [
    "<h3>Solution</h3>\n",
    "\n",
    "The probabilistic state of the composite system is $ \\big( 0.2 \\pstate{0} + 0.8 \\pstate{1} \\big) \\otimes  \\big( 0.6 \\pstate{0} + 0.4 \\pstate{1} \\big) $.\n",
    "\n",
    "$ \\big( 0.2 \\pstate{0} + 0.8 \\pstate{1} \\big) \\otimes  \\big( 0.6 \\pstate{0} + 0.4 \\pstate{1} \\big) =   $\n",
    "\n",
    "$ 0.12 \\big( \\pstate{0} \\otimes \\pstate{0} \\big) + 0.08 \\big( \\pstate{0} \\otimes \\pstate{1} \\big) + 0.48 \\big( \\pstate{1} \\otimes \\pstate{0} \\big) + 0.32 \\big( \\pstate{1} \\otimes \\pstate{1} \\big) = $\n",
    "\n",
    "$ 0.12 \\pstate{00} + 0.08 \\pstate{01} + 0.48 \\pstate{10} + 0.32 \\pstate{11}. $"
   ]
  },
  {
   "cell_type": "code",
   "execution_count": 2,
   "metadata": {},
   "outputs": [
    {
     "name": "stdout",
     "output_type": "stream",
     "text": [
      "[[0.12]\n",
      " [0.08]\n",
      " [0.48]\n",
      " [0.32]]\n"
     ]
    }
   ],
   "source": [
    "import numpy as np \n",
    "\n",
    "A = 0.2 * np.array([[1],[0]]) + 0.8 * np.array([[0],[1]])\n",
    "B = 0.6 * np.array([[1],[0]]) + 0.4 * np.array([[0],[1]])\n",
    "\n",
    "print(np.kron(A,B))\n"
   ]
  },
  {
   "cell_type": "markdown",
   "metadata": {},
   "source": [
    "<a href=\"CS24_Two_Probabilistic_Bits_Solutions.ipynb#task2\">click for our solution</a>"
   ]
  },
  {
   "cell_type": "markdown",
   "metadata": {},
   "source": [
    "<h3> Task 3</h3>\n",
    "\n",
    "Find the probabilistic state of the composite system by calculating this tensor product $ \\myvector{0.2 \\\\ 0.8} \\otimes \\myvector{0.6 \\\\ 0.4 } $."
   ]
  },
  {
   "cell_type": "markdown",
   "metadata": {},
   "source": [
    "_As above_"
   ]
  },
  {
   "cell_type": "markdown",
   "metadata": {},
   "source": [
    "<a href=\"CS24_Two_Probabilistic_Bits_Solutions.ipynb#task3\">click for our solution</a>"
   ]
  },
  {
   "cell_type": "markdown",
   "metadata": {},
   "source": [
    "<h3> Task 4</h3>\n",
    "\n",
    "Find the vector representations of $ \\pstate{00} $, $ \\pstate{01} $, $\\pstate{10}$, and $ \\pstate{11} $.\n",
    "\n",
    "<i>The vector representation of $ \\pstate{ab} $ is $ \\pstate{a} \\otimes \\pstate{b} $ for $ a,b \\in \\{0,1\\} $.</i>"
   ]
  },
  {
   "cell_type": "markdown",
   "metadata": {},
   "source": [
    "<a href=\"CS24_Two_Probabilistic_Bits_Solutions.ipynb#task4\">click for our solution</a>"
   ]
  },
  {
   "cell_type": "markdown",
   "metadata": {},
   "source": [
    "<h3>Solution</h3>\n",
    "\n",
    "$ \\pstate{00} = \\pstate{0} \\otimes \\pstate{0} = \\myvector{1 \\\\ 0} \\otimes \\myvector{1 \\\\ 0} =  \\myvector{1 \\myvector{1 \\\\ 0} \\\\ 0 \\myvector{1 \\\\ 0} }  = \\myvector{1 \\\\ 0 \\\\ 0 \\\\ 0} $.\n",
    "\n",
    "$ \\pstate{01} = \\pstate{0} \\otimes \\pstate{1} = \\myvector{1 \\\\ 0} \\otimes \\myvector{0 \\\\ 1} = \\myvector{1 \\myvector{0 \\\\ 1} \\\\ 0 \\myvector{0 \\\\ 1} }  = \\myvector{0 \\\\ 1 \\\\ 0 \\\\ 0} $.\n",
    "\n",
    "$ \\pstate{10} = \\pstate{1} \\otimes \\pstate{0} = \\myvector{0 \\\\ 1} \\otimes \\myvector{1 \\\\ 0} = \\myvector{0 \\myvector{1 \\\\ 0} \\\\ 1 \\myvector{1 \\\\ 0} }  = \\myvector{0 \\\\ 0 \\\\ 1 \\\\ 0} $.\n",
    "\n",
    "$ \\pstate{11} = \\pstate{1} \\otimes \\pstate{1} = \\myvector{0 \\\\ 1} \\otimes \\myvector{0 \\\\ 1} = \\myvector{0 \\myvector{0 \\\\ 1} \\\\ 1 \\myvector{0 \\\\ 1} }  = \\myvector{0 \\\\ 0 \\\\ 0 \\\\ 1} $."
   ]
  },
  {
   "cell_type": "markdown",
   "metadata": {},
   "source": [
    "\n",
    "<h3> Extra: Task 5 </h3>\n",
    "\n",
    "Suppose that we have three bits.\n",
    "\n",
    "Find the vector representations of $ \\pstate{abc} $ for each $ a,b,c \\in \\{0,1\\} $."
   ]
  },
  {
   "cell_type": "code",
   "execution_count": 19,
   "metadata": {},
   "outputs": [
    {
     "name": "stdout",
     "output_type": "stream",
     "text": [
      "[(0, 0, 0), (0, 0, 1), (0, 1, 0), (0, 1, 1), (1, 0, 0), (1, 0, 1), (1, 1, 0), (1, 1, 1)]\n",
      "(0, 0, 0)  = \n",
      " [[0]\n",
      " [0]\n",
      " [0]\n",
      " [0]\n",
      " [0]\n",
      " [0]\n",
      " [0]\n",
      " [1]] \n",
      "\n",
      "(0, 0, 1)  = \n",
      " [[0]\n",
      " [0]\n",
      " [0]\n",
      " [0]\n",
      " [0]\n",
      " [0]\n",
      " [1]\n",
      " [0]] \n",
      "\n",
      "(0, 1, 0)  = \n",
      " [[0]\n",
      " [0]\n",
      " [0]\n",
      " [0]\n",
      " [0]\n",
      " [1]\n",
      " [0]\n",
      " [0]] \n",
      "\n",
      "(0, 1, 1)  = \n",
      " [[0]\n",
      " [0]\n",
      " [0]\n",
      " [0]\n",
      " [1]\n",
      " [0]\n",
      " [0]\n",
      " [0]] \n",
      "\n",
      "(1, 0, 0)  = \n",
      " [[0]\n",
      " [0]\n",
      " [0]\n",
      " [1]\n",
      " [0]\n",
      " [0]\n",
      " [0]\n",
      " [0]] \n",
      "\n",
      "(1, 0, 1)  = \n",
      " [[0]\n",
      " [0]\n",
      " [1]\n",
      " [0]\n",
      " [0]\n",
      " [0]\n",
      " [0]\n",
      " [0]] \n",
      "\n",
      "(1, 1, 0)  = \n",
      " [[0]\n",
      " [1]\n",
      " [0]\n",
      " [0]\n",
      " [0]\n",
      " [0]\n",
      " [0]\n",
      " [0]] \n",
      "\n",
      "(1, 1, 1)  = \n",
      " [[1]\n",
      " [0]\n",
      " [0]\n",
      " [0]\n",
      " [0]\n",
      " [0]\n",
      " [0]\n",
      " [0]] \n",
      "\n"
     ]
    }
   ],
   "source": [
    "import itertools\n",
    "states = list(itertools.product([0, 1], repeat=3))\n",
    "print(vector)\n",
    "\n",
    "\n",
    "    \n",
    "\n",
    "\n",
    "for i in range(len(states)):\n",
    "    vec_0 = states[i][0] \n",
    "    vec_1 = states[i][1]\n",
    "    vec_2 = states[i][2]\n",
    "    \n",
    "    v0 = np.array([[0],[0]])\n",
    "    v1 = np.array([[0],[0]])\n",
    "    v2 = np.array([[0],[0]])\n",
    "    \n",
    "    if(vec_0): vec_0 = np.array([[1],[0]]) \n",
    "    else: vec_0 = np.array([[0],[1]])\n",
    "    \n",
    "    if(vec_1): vec_1 = np.array([[1],[0]]) \n",
    "    else: vec_1 = np.array([[0],[1]])\n",
    "    \n",
    "    if(vec_2): vec_2 = np.array([[1],[0]]) \n",
    "    else: vec_2 = np.array([[0],[1]])\n",
    "    \n",
    "    # VECTOR = vec_0 (X) vec_1 (X) vec_2\n",
    "    # https://stackoverflow.com/a/70408290/1176573\n",
    "    VECTOR = np.kron(vec_0, np.kron(vec_1, vec_2))\n",
    "    #VECTOR = np.kron(vec_2, np.kron(vec_1, vec_0))\n",
    "    \n",
    "    print(\"\".join(str(states[i])),\" = \\n\",VECTOR,\"\\n\")\n",
    "    \n"
   ]
  },
  {
   "cell_type": "markdown",
   "metadata": {},
   "source": [
    "<h3> Extra: Task 6 </h3>\n",
    "\n",
    "<i>This task is challenging.</i>\n",
    "\n",
    "Suppose that we have four bits. \n",
    "\n",
    "Number 9 is represented as $ 1001 $ in binary. Verify that the vector representation of $ \\pstate{1001} $ is the zero vector except its $10$th entry, which is 1.\n",
    "\n",
    "Number 7 is represented as $ 0111 $ in binary. Verify that the vector representation of $ \\pstate{0111} $ is the zero vector except its $8$th entry, which is 1.\n",
    "\n",
    "Generalize this idea for any number between 0 and 15.\n",
    "\n",
    "Generalize this idea for any number of bits."
   ]
  },
  {
   "cell_type": "code",
   "execution_count": 47,
   "metadata": {},
   "outputs": [
    {
     "name": "stdout",
     "output_type": "stream",
     "text": [
      "[[0]\n",
      " [0]\n",
      " [0]\n",
      " [0]\n",
      " [0]\n",
      " [0]\n",
      " [0]\n",
      " [0]\n",
      " [0]\n",
      " [1]\n",
      " [0]\n",
      " [0]\n",
      " [0]\n",
      " [0]\n",
      " [0]\n",
      " [0]]\n",
      "(16, 1)\n",
      "\n",
      "[[0]\n",
      " [0]\n",
      " [0]\n",
      " [0]\n",
      " [0]\n",
      " [0]\n",
      " [0]\n",
      " [1]\n",
      " [0]\n",
      " [0]\n",
      " [0]\n",
      " [0]\n",
      " [0]\n",
      " [0]\n",
      " [0]\n",
      " [0]]\n",
      "(16, 1)\n"
     ]
    }
   ],
   "source": [
    "import numpy as np\n",
    "\n",
    "\n",
    "def generate_state_vector_from_string(mystring):\n",
    "    \n",
    "    vi = [x for x in mystring]\n",
    "    \n",
    "    vec = np.array([[0],[0]])\n",
    "    \n",
    "    result_vector = np.array([])\n",
    "    \n",
    "    for i in range(len(vi)):   \n",
    "        if(vi[i]=='0'): vec = np.array([[1],[0]])\n",
    "        if(vi[i]=='1'): vec = np.array([[0],[1]])\n",
    "            \n",
    "        if (i==0): # Very important will go 1 less because kroneckr operations are only 3 not 4 \n",
    "            result_vector = vec\n",
    "        else:\n",
    "            result_vector = np.kron(result_vector,vec)  # Calculating from left \n",
    "        # In an expression having 3 or more Tensor products, \n",
    "        # do you calculate from left or right? A (x) B (x) C is it AB (x) C  (Left) or A (x) BC  (Right)?\n",
    "\n",
    "    return result_vector\n",
    "\n",
    "u10 = generate_state_vector_from_string('1001')\n",
    "\n",
    "print(u10)\n",
    "print(np.shape(u10))\n",
    "\n",
    "print()\n",
    "\n",
    "u8 = generate_state_vector_from_string('0111')\n",
    "\n",
    "print(u8)\n",
    "print(np.shape(u8))"
   ]
  },
  {
   "attachments": {
    "image.png": {
     "image/png": "[encoded data removed]"
    }
   },
   "cell_type": "markdown",
   "metadata": {},
   "source": [
    "![image.png](attachment:image.png)"
   ]
  },
  {
   "attachments": {
    "image.png": {
     "image/png": "[encoded data removed]"
    }
   },
   "cell_type": "markdown",
   "metadata": {},
   "source": [
    "![image.png](attachment:image.png)"
   ]
  },
  {
   "cell_type": "code",
   "execution_count": 5,
   "metadata": {},
   "outputs": [
    {
     "name": "stdout",
     "output_type": "stream",
     "text": [
      "[[0.5]\n",
      " [0.5]]\n",
      "\n",
      "[[0]\n",
      " [1]]\n",
      "\n",
      "[[0.5]\n",
      " [0. ]\n",
      " [0. ]\n",
      " [0.5]]\n",
      "\n",
      "[[0. ]\n",
      " [0.5]\n",
      " [0.5]\n",
      " [0. ]]\n",
      "\n"
     ]
    }
   ],
   "source": [
    "import numpy as np \n",
    "\n",
    "bit_1 = np.array([[1],[0]])\n",
    "bit_2 = np.array([[1],[0]])\n",
    "bit_3 = np.array([[1],[0]])\n",
    "\n",
    "\n",
    "## ------\n",
    "fair_coin_op1 = np.array([[0.5,0.5],[0.5,0.5]])\n",
    "\n",
    "temp_1 = np.matmul(fair_coin_op1,bit_2)\n",
    "bit_2 = temp_1\n",
    "\n",
    "print(temp_1)\n",
    "print()\n",
    "\n",
    "not_op = np.array([[0,1],[1,0]])\n",
    "\n",
    "temp_2 = np.matmul(not_op,bit_1)\n",
    "\n",
    "bit_1 = temp_2\n",
    "print(temp_2)\n",
    "print()\n",
    "\n",
    "\n",
    "## ------\n",
    "\n",
    "cnot_op =  np.array([\n",
    "    [1,0,0,0],\n",
    "    [0,1,0,0],\n",
    "    [0,0,0,1],\n",
    "    [0,0,1,0]\n",
    "])\n",
    "\n",
    "temp_3 = np.matmul(cnot_op, np.kron(bit_2, bit_3))\n",
    "\n",
    "print(temp_3)\n",
    "print()\n",
    "\n",
    "## ------\n",
    "temp_4 = np.matmul(cnot_op, np.kron(bit_3, bit_1))\n",
    "\n",
    "print(temp_4)\n",
    "print()\n",
    "\n",
    "\n"
   ]
  },
  {
   "cell_type": "code",
   "execution_count": null,
   "metadata": {},
   "outputs": [],
   "source": []
  }
 ],
 "metadata": {
  "kernelspec": {
   "display_name": "Python 3 (ipykernel)",
   "language": "python",
   "name": "python3"
  },
  "language_info": {
   "codemirror_mode": {
    "name": "ipython",
    "version": 3
   },
   "file_extension": ".py",
   "mimetype": "text/x-python",
   "name": "python",
   "nbconvert_exporter": "python",
   "pygments_lexer": "ipython3",
   "version": "3.10.5"
  }
 },
 "nbformat": 4,
 "nbformat_minor": 2
}
