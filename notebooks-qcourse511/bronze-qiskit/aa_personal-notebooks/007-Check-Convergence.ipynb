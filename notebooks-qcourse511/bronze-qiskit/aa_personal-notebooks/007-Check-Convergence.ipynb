{
 "cells": [
  {
   "cell_type": "code",
   "execution_count": 1,
   "id": "be598c9f",
   "metadata": {},
   "outputs": [],
   "source": [
    "import numpy as np\n",
    "initial_state = np.array([[1],[0]]) # head\n",
    "trials = [1,10,100,1000,10000,100000]"
   ]
  },
  {
   "cell_type": "code",
   "execution_count": 2,
   "id": "2b3e8bb1",
   "metadata": {},
   "outputs": [
    {
     "name": "stdout",
     "output_type": "stream",
     "text": [
      "Non convergent Trials Results:\n",
      "Number Trials= 1 \tProbability of Heads= 0.5 \tProbability of Tails= 0.5\n",
      "Number Trials= 10 \tProbability of Heads= 0.5 \tProbability of Tails= 0.5\n",
      "Number Trials= 100 \tProbability of Heads= 0.5 \tProbability of Tails= 0.5\n",
      "Number Trials= 1000 \tProbability of Heads= 0.5 \tProbability of Tails= 0.5\n",
      "Number Trials= 10000 \tProbability of Heads= 0.5 \tProbability of Tails= 0.5\n",
      "Number Trials= 100000 \tProbability of Heads= 0.5 \tProbability of Tails= 0.5\n",
      "\n"
     ]
    }
   ],
   "source": [
    "# Fair Coin: \n",
    "\n",
    "fair_coin_operator = np.array([[0.5,0.5],\\\n",
    "                               [0.5,0.5]])\n",
    "\n",
    "head_probability = []\n",
    "tail_probability = []\n",
    "\n",
    "heads = 0\n",
    "tails = 0\n",
    "\n",
    "for it in trials: \n",
    "    temp =  initial_state\n",
    "    for i in range(it):\n",
    "        temp = np.matmul(fair_coin_operator,temp)\n",
    "    \n",
    "    heads = temp[0][0]\n",
    "    tails = temp[1][0]\n",
    "    \n",
    "    head_probability.append(heads)\n",
    "    tail_probability.append(tails)\n",
    "\n",
    "print(\"Non convergent Trials Results:\")    \n",
    "for i in range(len(trials)): \n",
    "    print(\"Number Trials=\",trials[i],\"\\tProbability of Heads=\", \\\n",
    "          head_probability[i],\"\\tProbability of Tails=\",tail_probability[i])\n",
    "\n",
    "print()"
   ]
  },
  {
   "cell_type": "code",
   "execution_count": 3,
   "id": "6f7a5545",
   "metadata": {},
   "outputs": [
    {
     "name": "stdout",
     "output_type": "stream",
     "text": [
      "Non convergent Trials Results:\n",
      "Number Trials= 1 \tProbability of Heads= 0.6 \tProbability of Tails= 0.4\n",
      "Number Trials= 10 \tProbability of Heads= 0.42857480279999993 \tProbability of Tails= 0.5714251971999998\n",
      "Number Trials= 100 \tProbability of Heads= 0.42857142857142805 \tProbability of Tails= 0.5714285714285707\n",
      "Number Trials= 1000 \tProbability of Heads= 0.42857142857142805 \tProbability of Tails= 0.5714285714285707\n",
      "Number Trials= 10000 \tProbability of Heads= 0.42857142857142805 \tProbability of Tails= 0.5714285714285707\n",
      "Number Trials= 100000 \tProbability of Heads= 0.42857142857142805 \tProbability of Tails= 0.5714285714285707\n",
      "\n"
     ]
    }
   ],
   "source": [
    "# Non Fair Coin: \n",
    "\n",
    "nonfair_coin_operator = np.array([[0.6,0.3], \\\n",
    "                                  [0.4,0.7]])\n",
    "\n",
    "head_probability = []\n",
    "tail_probability = []\n",
    "\n",
    "heads = 0\n",
    "tails = 0\n",
    "\n",
    "for it in trials: \n",
    "    temp =  initial_state\n",
    "    for i in range(it):\n",
    "        temp = np.matmul(nonfair_coin_operator,temp)\n",
    "    \n",
    "    heads = temp[0][0]\n",
    "    tails = temp[1][0]\n",
    "    \n",
    "    head_probability.append(heads)\n",
    "    tail_probability.append(tails)\n",
    "\n",
    "print(\"Non convergent Trials Results:\")    \n",
    "for i in range(len(trials)): \n",
    "    print(\"Number Trials=\",trials[i],\"\\tProbability of Heads=\", \\\n",
    "          head_probability[i],\"\\tProbability of Tails=\",tail_probability[i])\n",
    "\n",
    "print()"
   ]
  },
  {
   "cell_type": "code",
   "execution_count": 4,
   "id": "d48fd3bd",
   "metadata": {},
   "outputs": [
    {
     "name": "stdout",
     "output_type": "stream",
     "text": [
      "Non convergent Trials Results:\n",
      "Number Trials= 1 \tProbability of Heads= 0.6  \tProbability of Tails= 0.4\n",
      "Number Trials= 10 \tProbability of Heads= 0.7930904575999999  \tProbability of Tails= 0.7093616639999999\n",
      "Number Trials= 100 \tProbability of Heads= 50.4077354245011  \tProbability of Tails= 45.08604920040347\n",
      "Number Trials= 1000 \tProbability of Heads= 5.4230278186843824e+19  \tProbability of Tails= 4.8505035385802736e+19\n",
      "Number Trials= 10000 \tProbability of Heads= 1.1263886963257565e+200  \tProbability of Tails= 1.0074726776287036e+200\n",
      "Number Trials= 100000 \tProbability of Heads= inf  \tProbability of Tails= inf\n",
      "\n"
     ]
    },
    {
     "name": "stderr",
     "output_type": "stream",
     "text": [
      "C:\\Users\\Rajesh Swarnkar\\AppData\\Local\\Temp\\ipykernel_10948\\1523682279.py:15: RuntimeWarning: overflow encountered in matmul\n",
      "  temp = np.matmul(invalid_coin_operator,temp)\n"
     ]
    }
   ],
   "source": [
    "# Invalid Coin: \n",
    "\n",
    "invalid_coin_operator = np.array([[0.6,0.5], \\\n",
    "                                  [0.4,0.6]])\n",
    "\n",
    "head_probability = []\n",
    "tail_probability = []\n",
    "\n",
    "heads = 0\n",
    "tails = 0\n",
    "\n",
    "for it in trials: \n",
    "    temp =  initial_state\n",
    "    for i in range(it):\n",
    "        temp = np.matmul(invalid_coin_operator,temp)\n",
    "    \n",
    "    heads = temp[0][0]\n",
    "    tails = temp[1][0]\n",
    "    \n",
    "    head_probability.append(heads)\n",
    "    tail_probability.append(tails)\n",
    "\n",
    "print(\"Non convergent Trials Results:\")    \n",
    "for i in range(len(trials)): \n",
    "    print(\"Number Trials=\",trials[i],\"\\tProbability of Heads=\", \\\n",
    "          head_probability[i],\" \\tProbability of Tails=\",tail_probability[i])\n",
    "\n",
    "print()"
   ]
  },
  {
   "cell_type": "code",
   "execution_count": null,
   "id": "1c24fc38",
   "metadata": {},
   "outputs": [],
   "source": []
  }
 ],
 "metadata": {
  "kernelspec": {
   "display_name": "qcourse511",
   "language": "python",
   "name": "qcourse511"
  },
  "language_info": {
   "codemirror_mode": {
    "name": "ipython",
    "version": 3
   },
   "file_extension": ".py",
   "mimetype": "text/x-python",
   "name": "python",
   "nbconvert_exporter": "python",
   "pygments_lexer": "ipython3",
   "version": "3.10.5"
  }
 },
 "nbformat": 4,
 "nbformat_minor": 5
}
