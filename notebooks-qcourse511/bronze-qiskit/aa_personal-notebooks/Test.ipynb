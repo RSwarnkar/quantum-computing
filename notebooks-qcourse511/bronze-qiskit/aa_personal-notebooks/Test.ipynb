{
 "cells": [
  {
   "cell_type": "code",
   "execution_count": 1,
   "id": "8c6594f6",
   "metadata": {},
   "outputs": [],
   "source": [
    "import numpy as np"
   ]
  },
  {
   "cell_type": "code",
   "execution_count": 3,
   "id": "5e8fe68d",
   "metadata": {},
   "outputs": [
    {
     "name": "stdout",
     "output_type": "stream",
     "text": [
      "[[0.3]\n",
      " [0.7]]\n"
     ]
    }
   ],
   "source": [
    "p = np.array([[0],[1]])\n",
    "op = np.array([[0.3,0.3],[0.7,0.7]])\n",
    "\n",
    "for i in range(1000):\n",
    "    p = np.matmul(op,p)\n",
    "\n",
    "    \n",
    "print(p)"
   ]
  },
  {
   "cell_type": "code",
   "execution_count": 24,
   "id": "2e5ea76a",
   "metadata": {},
   "outputs": [
    {
     "name": "stdout",
     "output_type": "stream",
     "text": [
      "616 384\n"
     ]
    }
   ],
   "source": [
    "from random import randrange\n",
    "heads = tails = 0\n",
    "for i in range(1000):\n",
    "    if randrange(100) <= 59:\n",
    "        heads = heads + 1\n",
    "    else:\n",
    "        tails = tails + 1\n",
    "print(heads,tails)"
   ]
  },
  {
   "cell_type": "code",
   "execution_count": 11,
   "id": "8235381e",
   "metadata": {},
   "outputs": [
    {
     "name": "stdout",
     "output_type": "stream",
     "text": [
      "[0.3333333333333333, 0.3333333333333333, 0.3333333333333333]\n"
     ]
    }
   ],
   "source": [
    "from random import randrange\n",
    "a = b = c = randrange(100)\n",
    "sum = a + b + c\n",
    "state = [a/sum,b/sum,c/sum]\n",
    "print(state)"
   ]
  },
  {
   "cell_type": "code",
   "execution_count": 27,
   "id": "beec960a",
   "metadata": {},
   "outputs": [
    {
     "name": "stdout",
     "output_type": "stream",
     "text": [
      "[92, 4, 4]\n"
     ]
    }
   ],
   "source": [
    "from random import randrange\n",
    "a = randrange(100)\n",
    "b = randrange(100-a)\n",
    "c = 100 - a - b\n",
    "state = [a,b,c]\n",
    "print(state)"
   ]
  },
  {
   "cell_type": "code",
   "execution_count": 29,
   "id": "6dc3ef45",
   "metadata": {},
   "outputs": [
    {
     "data": {
      "text/plain": [
       "5"
      ]
     },
     "execution_count": 29,
     "metadata": {},
     "output_type": "execute_result"
    }
   ],
   "source": [
    "randrange(1,10)"
   ]
  },
  {
   "cell_type": "code",
   "execution_count": 49,
   "id": "43934c62",
   "metadata": {},
   "outputs": [
    {
     "name": "stdout",
     "output_type": "stream",
     "text": [
      "109\n",
      "891\n"
     ]
    }
   ],
   "source": [
    "from random import randrange \n",
    "heads = 0\n",
    "tails = 0\n",
    "for i in range(1000):\n",
    "    x=randrange(1,11)\n",
    "    #print(x)\n",
    "    if x==10: \n",
    "        heads = heads + 1\n",
    "        \n",
    "    else: \n",
    "        tails = tails + 1\n",
    "print(heads)\n",
    "print(tails)"
   ]
  },
  {
   "cell_type": "code",
   "execution_count": 54,
   "id": "81205f6a",
   "metadata": {},
   "outputs": [
    {
     "name": "stdout",
     "output_type": "stream",
     "text": [
      "0\n",
      "4\n",
      "2\n",
      "1\n",
      "3\n",
      "3\n",
      "3\n",
      "2\n",
      "1\n",
      "1\n",
      "4\n",
      "2\n",
      "4\n",
      "3\n",
      "1\n",
      "3\n",
      "2\n",
      "3\n",
      "2\n",
      "1\n",
      "3\n",
      "4\n",
      "1\n",
      "4\n",
      "3\n",
      "0\n",
      "4\n",
      "2\n",
      "0\n",
      "4\n"
     ]
    }
   ],
   "source": [
    "for i in range(30):\n",
    "    print(randrange(5))"
   ]
  },
  {
   "cell_type": "code",
   "execution_count": 65,
   "id": "2c1782ae",
   "metadata": {},
   "outputs": [
    {
     "name": "stdout",
     "output_type": "stream",
     "text": [
      "77\n"
     ]
    }
   ],
   "source": [
    "from random import randrange \n",
    "heads = tails = 0\n",
    "for i in range(100):\n",
    "    if randrange(5)==randrange(5): heads = heads + 1\n",
    "    else: tails = tails + 1\n",
    "print(tails)"
   ]
  },
  {
   "cell_type": "code",
   "execution_count": null,
   "id": "0475d53a",
   "metadata": {},
   "outputs": [],
   "source": []
  }
 ],
 "metadata": {
  "kernelspec": {
   "display_name": "qcourse511",
   "language": "python",
   "name": "qcourse511"
  },
  "language_info": {
   "codemirror_mode": {
    "name": "ipython",
    "version": 3
   },
   "file_extension": ".py",
   "mimetype": "text/x-python",
   "name": "python",
   "nbconvert_exporter": "python",
   "pygments_lexer": "ipython3",
   "version": "3.10.5"
  }
 },
 "nbformat": 4,
 "nbformat_minor": 5
}
